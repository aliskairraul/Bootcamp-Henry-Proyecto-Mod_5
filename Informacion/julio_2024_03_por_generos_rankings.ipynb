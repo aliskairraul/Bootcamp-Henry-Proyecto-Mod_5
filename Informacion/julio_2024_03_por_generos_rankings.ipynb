{
 "cells": [
  {
   "cell_type": "markdown",
   "metadata": {},
   "source": [
    "Importando Librerias"
   ]
  },
  {
   "cell_type": "code",
   "execution_count": 45,
   "metadata": {},
   "outputs": [],
   "source": [
    "import polars as pl\n",
    "import os\n",
    "import glob\n",
    "import re\n"
   ]
  },
  {
   "cell_type": "markdown",
   "metadata": {},
   "source": [
    "Añadiendo los directorios de trabajo a variables"
   ]
  },
  {
   "cell_type": "code",
   "execution_count": null,
   "metadata": {},
   "outputs": [],
   "source": [
    "directorio_actual = os.getcwd()\n",
    "directorio_generos = os.path.join(directorio_actual, 'generos')\n",
    "directorio_con_ranking = os.path.join(directorio_actual, 'generos_con_rankings')"
   ]
  },
  {
   "cell_type": "markdown",
   "metadata": {},
   "source": [
    "Obtengo los Path de todos Los Archivos que se encuentran en la carpeta `data` es decir los `csv` que guardan los titulos de los distintos generos"
   ]
  },
  {
   "cell_type": "code",
   "execution_count": 13,
   "metadata": {},
   "outputs": [],
   "source": [
    "path_archivos_generos = []\n",
    "for archivo in glob.glob(os.path.join(directorio_generos, '*.csv')):\n",
    "    path_archivos_generos.append(archivo)"
   ]
  },
  {
   "cell_type": "markdown",
   "metadata": {},
   "source": [
    "Creo los Paths para cuando los generos ya tengan añadido la columna de ranking"
   ]
  },
  {
   "cell_type": "code",
   "execution_count": 14,
   "metadata": {},
   "outputs": [],
   "source": [
    "path_archivos_modificados = []\n",
    "for path in path_archivos_generos:\n",
    "    path_modificado = path.replace('generos', 'generos_con_rankings')\n",
    "    path_archivos_modificados.append(path_modificado)"
   ]
  },
  {
   "cell_type": "markdown",
   "metadata": {},
   "source": [
    "***\n",
    "Ciclo que Añade los Rankings a todos los Titulos de Todos los Generos"
   ]
  },
  {
   "cell_type": "code",
   "execution_count": 43,
   "metadata": {},
   "outputs": [],
   "source": [
    "df = pl.read_csv('data/rank_steam_actual_scraping.csv')\n",
    "for index in range(len(path_archivos_generos)):\n",
    "    df_genero = pl.read_csv(path_archivos_generos[index])\n",
    "    df_genero = df_genero.with_columns(ranking = pl.lit(0))\n",
    "    for i in range(len(df_genero)):\n",
    "        titulo = df_genero[i,0]\n",
    "        mask = df['titulo'] == titulo\n",
    "        try:\n",
    "            ranking = df.filter(mask)['ranking'][0]\n",
    "        except:\n",
    "            ranking = 0\n",
    "        df_genero[i,1] = ranking\n",
    "    \n",
    "    df_genero.write_csv(path_archivos_modificados[index])"
   ]
  },
  {
   "cell_type": "markdown",
   "metadata": {},
   "source": [
    "***\n",
    "Obtengo a los Generos Estudiados en Una Varaible"
   ]
  },
  {
   "cell_type": "code",
   "execution_count": 48,
   "metadata": {},
   "outputs": [],
   "source": [
    "generos = []\n",
    "patron = r'\\\\([a-zA-Z_]+)\\.csv$'\n",
    "for i in range(len(path_archivos_generos)):\n",
    "    coincidencias = re.search(patron, path_archivos_generos[i])\n",
    "    genero = coincidencias.group(1)\n",
    "    generos.append(genero)"
   ]
  },
  {
   "cell_type": "markdown",
   "metadata": {},
   "source": [
    "***\n",
    "Añado una Columna por cada Genero al Dataframe Principal"
   ]
  },
  {
   "cell_type": "code",
   "execution_count": 62,
   "metadata": {},
   "outputs": [],
   "source": [
    "for genero in generos:\n",
    "    df = df.with_columns(pl.lit(0).alias(genero))"
   ]
  },
  {
   "cell_type": "markdown",
   "metadata": {},
   "source": [
    "Necesito los Indices de las columnas que representan a los generos para posteriores asignaciones... Tener en cuenta que la primera columna de Genero ('accion') es la columna 13 y son 27 generos en total"
   ]
  },
  {
   "cell_type": "code",
   "execution_count": 110,
   "metadata": {},
   "outputs": [],
   "source": [
    "index_generos = [13]\n",
    "for i in range(26):\n",
    "    index_generos.append(index_generos[i]+1)"
   ]
  },
  {
   "cell_type": "markdown",
   "metadata": {},
   "source": [
    "***\n",
    "Marco con 1 las columnas nuevas (las de Genero creadas en el paso anterior) a las que pertenezca cada titulo. Por ejemplo cuando el Titulo sea \"Counter-Strike 2\" debera marcarse con 1 la columna 'accion', 'disparo', etc y las columnas que representen los generos a los que pertenezca dicho titulo "
   ]
  },
  {
   "cell_type": "code",
   "execution_count": 120,
   "metadata": {},
   "outputs": [],
   "source": [
    "for index in range(len(path_archivos_generos)):\n",
    "    df_genero = pl.read_csv(path_archivos_generos[index])\n",
    "    for i in range(len(df_genero)):\n",
    "        titulo = df_genero[i,0]\n",
    "        if titulo in df['titulo']:\n",
    "            mask = df['titulo'] == titulo\n",
    "            index_row_df = df.filter(mask)['ranking'][0] - 1\n",
    "            df[index_row_df,index_generos[index]] = 1"
   ]
  },
  {
   "cell_type": "code",
   "execution_count": 122,
   "metadata": {},
   "outputs": [
    {
     "data": {
      "text/html": [
       "<div><style>\n",
       ".dataframe > thead > tr,\n",
       ".dataframe > tbody > tr {\n",
       "  text-align: right;\n",
       "  white-space: pre-wrap;\n",
       "}\n",
       "</style>\n",
       "<small>shape: (9_137, 40)</small><table border=\"1\" class=\"dataframe\"><thead><tr><th>ranking</th><th>titulo</th><th>critica_usuarios</th><th>aprobacion</th><th>cantidad_reviews</th><th>windows</th><th>mac</th><th>linux</th><th>fecha_lanzamiento</th><th>precio_steam</th><th>critica_categorica</th><th>fecha_ingles</th><th>fecha</th><th>accion</th><th>animacion_modelado</th><th>aventura</th><th>carreras</th><th>contenido_sexual</th><th>deportes</th><th>desarrollo_juegos</th><th>desnudos</th><th>diseno_ilustracion</th><th>disparos</th><th>documentales</th><th>edicion_fotografica</th><th>educacion</th><th>estrategia</th><th>formacion_software</th><th>free_to_play</th><th>indie</th><th>multijugador_masivo</th><th>primera_persona</th><th>produccion_audio</th><th>publicacion_web</th><th>rol</th><th>sangriento</th><th>simulacion</th><th>tutoriales</th><th>utilidades</th><th>violentos</th></tr><tr><td>i64</td><td>str</td><td>str</td><td>i64</td><td>i64</td><td>i64</td><td>i64</td><td>i64</td><td>str</td><td>str</td><td>i64</td><td>str</td><td>str</td><td>i32</td><td>i32</td><td>i32</td><td>i32</td><td>i32</td><td>i32</td><td>i32</td><td>i32</td><td>i32</td><td>i32</td><td>i32</td><td>i32</td><td>i32</td><td>i32</td><td>i32</td><td>i32</td><td>i32</td><td>i32</td><td>i32</td><td>i32</td><td>i32</td><td>i32</td><td>i32</td><td>i32</td><td>i32</td><td>i32</td><td>i32</td></tr></thead><tbody><tr><td>1</td><td>&quot;Counter-Strike 2&quot;</td><td>&quot;Muy positivas&quot;</td><td>87</td><td>8160723</td><td>1</td><td>1</td><td>0</td><td>&quot;21 AGO 2012&quot;</td><td>&quot;Gratuito&quot;</td><td>2</td><td>&quot;21 AUG 2012&quot;</td><td>&quot;2012-08-21&quot;</td><td>1</td><td>0</td><td>0</td><td>0</td><td>0</td><td>0</td><td>0</td><td>0</td><td>0</td><td>1</td><td>0</td><td>0</td><td>0</td><td>1</td><td>0</td><td>0</td><td>0</td><td>0</td><td>1</td><td>0</td><td>0</td><td>0</td><td>0</td><td>0</td><td>0</td><td>0</td><td>0</td></tr><tr><td>2</td><td>&quot;PUBG: BATTLEGROUNDS&quot;</td><td>&quot;Variadas&quot;</td><td>58</td><td>2397033</td><td>1</td><td>0</td><td>0</td><td>&quot;21 DIC 2017&quot;</td><td>&quot;Gratuito&quot;</td><td>5</td><td>&quot;21 DEC 2017&quot;</td><td>&quot;2017-12-21&quot;</td><td>1</td><td>0</td><td>1</td><td>0</td><td>0</td><td>0</td><td>0</td><td>0</td><td>0</td><td>1</td><td>0</td><td>0</td><td>0</td><td>1</td><td>0</td><td>0</td><td>0</td><td>0</td><td>1</td><td>0</td><td>0</td><td>0</td><td>0</td><td>1</td><td>0</td><td>0</td><td>0</td></tr><tr><td>3</td><td>&quot;The First Descendant&quot;</td><td>&quot;Variadas&quot;</td><td>54</td><td>63966</td><td>1</td><td>0</td><td>0</td><td>&quot;30 JUN 2024&quot;</td><td>&quot;Gratuito&quot;</td><td>5</td><td>&quot;30 JUN 2024&quot;</td><td>&quot;2024-06-30&quot;</td><td>1</td><td>1</td><td>1</td><td>0</td><td>1</td><td>0</td><td>0</td><td>0</td><td>0</td><td>1</td><td>0</td><td>0</td><td>0</td><td>0</td><td>0</td><td>1</td><td>0</td><td>0</td><td>0</td><td>0</td><td>0</td><td>1</td><td>0</td><td>0</td><td>0</td><td>0</td><td>1</td></tr><tr><td>4</td><td>&quot;Dota 2&quot;</td><td>&quot;Muy positivas&quot;</td><td>81</td><td>2278393</td><td>1</td><td>1</td><td>1</td><td>&quot;9 JUL 2013&quot;</td><td>&quot;Gratuito&quot;</td><td>2</td><td>&quot;9 JUL 2013&quot;</td><td>&quot;2013-07-09&quot;</td><td>1</td><td>0</td><td>0</td><td>1</td><td>0</td><td>0</td><td>0</td><td>0</td><td>0</td><td>0</td><td>0</td><td>0</td><td>0</td><td>1</td><td>0</td><td>1</td><td>0</td><td>0</td><td>0</td><td>0</td><td>0</td><td>1</td><td>0</td><td>1</td><td>0</td><td>0</td><td>0</td></tr><tr><td>5</td><td>&quot;Steam Deck&quot;</td><td>&quot;Sin Dato&quot;</td><td>0</td><td>0</td><td>1</td><td>1</td><td>1</td><td>&quot;&quot;</td><td>&quot;Sin Dato&quot;</td><td>10</td><td>&quot;&quot;</td><td>null</td><td>0</td><td>0</td><td>0</td><td>0</td><td>0</td><td>0</td><td>0</td><td>0</td><td>0</td><td>0</td><td>0</td><td>0</td><td>0</td><td>0</td><td>0</td><td>0</td><td>0</td><td>0</td><td>0</td><td>0</td><td>0</td><td>0</td><td>0</td><td>0</td><td>0</td><td>0</td><td>0</td></tr><tr><td>&hellip;</td><td>&hellip;</td><td>&hellip;</td><td>&hellip;</td><td>&hellip;</td><td>&hellip;</td><td>&hellip;</td><td>&hellip;</td><td>&hellip;</td><td>&hellip;</td><td>&hellip;</td><td>&hellip;</td><td>&hellip;</td><td>&hellip;</td><td>&hellip;</td><td>&hellip;</td><td>&hellip;</td><td>&hellip;</td><td>&hellip;</td><td>&hellip;</td><td>&hellip;</td><td>&hellip;</td><td>&hellip;</td><td>&hellip;</td><td>&hellip;</td><td>&hellip;</td><td>&hellip;</td><td>&hellip;</td><td>&hellip;</td><td>&hellip;</td><td>&hellip;</td><td>&hellip;</td><td>&hellip;</td><td>&hellip;</td><td>&hellip;</td><td>&hellip;</td><td>&hellip;</td><td>&hellip;</td><td>&hellip;</td><td>&hellip;</td></tr><tr><td>9133</td><td>&quot;Port Royale 2&quot;</td><td>&quot;Mayormente positivas&quot;</td><td>70</td><td>549</td><td>1</td><td>0</td><td>0</td><td>&quot;16 JUN 2009&quot;</td><td>&quot;$3.59&quot;</td><td>3</td><td>&quot;16 JUN 2009&quot;</td><td>&quot;2009-06-16&quot;</td><td>0</td><td>0</td><td>0</td><td>0</td><td>0</td><td>0</td><td>0</td><td>0</td><td>0</td><td>0</td><td>0</td><td>0</td><td>0</td><td>1</td><td>0</td><td>0</td><td>0</td><td>0</td><td>0</td><td>0</td><td>0</td><td>0</td><td>0</td><td>0</td><td>0</td><td>0</td><td>0</td></tr><tr><td>9134</td><td>&quot;&quot;</td><td>&quot;Muy positivas&quot;</td><td>91</td><td>1504</td><td>1</td><td>0</td><td>0</td><td>&quot;&quot;</td><td>&quot;&quot;</td><td>2</td><td>&quot;&quot;</td><td>null</td><td>0</td><td>0</td><td>0</td><td>0</td><td>0</td><td>0</td><td>0</td><td>0</td><td>0</td><td>0</td><td>0</td><td>0</td><td>0</td><td>0</td><td>0</td><td>0</td><td>0</td><td>0</td><td>0</td><td>0</td><td>0</td><td>0</td><td>0</td><td>0</td><td>0</td><td>0</td><td>0</td></tr><tr><td>9135</td><td>&quot;Banda sonora original de Songs…</td><td>&quot;Positivas&quot;</td><td>10</td><td>18</td><td>0</td><td>0</td><td>0</td><td>&quot;10 MAY 2022&quot;</td><td>&quot;$5.79&quot;</td><td>4</td><td>&quot;10 MAY 2022&quot;</td><td>&quot;2022-05-10&quot;</td><td>0</td><td>0</td><td>0</td><td>0</td><td>0</td><td>0</td><td>0</td><td>0</td><td>0</td><td>0</td><td>0</td><td>0</td><td>0</td><td>0</td><td>0</td><td>0</td><td>0</td><td>0</td><td>0</td><td>0</td><td>0</td><td>0</td><td>0</td><td>0</td><td>0</td><td>0</td><td>0</td></tr><tr><td>9136</td><td>&quot;Legend of Grimrock&quot;</td><td>&quot;Muy positivas&quot;</td><td>93</td><td>4388</td><td>1</td><td>1</td><td>1</td><td>&quot;11 ABR 2012&quot;</td><td>&quot;$14.99&quot;</td><td>2</td><td>&quot;11 APR 2012&quot;</td><td>&quot;2012-04-11&quot;</td><td>0</td><td>0</td><td>0</td><td>0</td><td>0</td><td>0</td><td>0</td><td>0</td><td>0</td><td>0</td><td>0</td><td>0</td><td>0</td><td>0</td><td>0</td><td>0</td><td>1</td><td>0</td><td>1</td><td>0</td><td>0</td><td>1</td><td>0</td><td>0</td><td>0</td><td>0</td><td>0</td></tr><tr><td>9137</td><td>&quot;Fatermyth&quot;</td><td>&quot;Muy positivas&quot;</td><td>83</td><td>403</td><td>1</td><td>0</td><td>0</td><td>&quot;23 ABR 2024&quot;</td><td>&quot;$5.79&quot;</td><td>2</td><td>&quot;23 APR 2024&quot;</td><td>&quot;2024-04-23&quot;</td><td>0</td><td>0</td><td>1</td><td>0</td><td>0</td><td>0</td><td>0</td><td>0</td><td>0</td><td>0</td><td>0</td><td>0</td><td>0</td><td>1</td><td>0</td><td>0</td><td>1</td><td>0</td><td>0</td><td>0</td><td>0</td><td>1</td><td>0</td><td>0</td><td>0</td><td>0</td><td>0</td></tr></tbody></table></div>"
      ],
      "text/plain": [
       "shape: (9_137, 40)\n",
       "┌─────────┬────────────┬───────────┬───────────┬───┬───────────┬───────────┬───────────┬───────────┐\n",
       "│ ranking ┆ titulo     ┆ critica_u ┆ aprobacio ┆ … ┆ simulacio ┆ tutoriale ┆ utilidade ┆ violentos │\n",
       "│ ---     ┆ ---        ┆ suarios   ┆ n         ┆   ┆ n         ┆ s         ┆ s         ┆ ---       │\n",
       "│ i64     ┆ str        ┆ ---       ┆ ---       ┆   ┆ ---       ┆ ---       ┆ ---       ┆ i32       │\n",
       "│         ┆            ┆ str       ┆ i64       ┆   ┆ i32       ┆ i32       ┆ i32       ┆           │\n",
       "╞═════════╪════════════╪═══════════╪═══════════╪═══╪═══════════╪═══════════╪═══════════╪═══════════╡\n",
       "│ 1       ┆ Counter-St ┆ Muy       ┆ 87        ┆ … ┆ 0         ┆ 0         ┆ 0         ┆ 0         │\n",
       "│         ┆ rike 2     ┆ positivas ┆           ┆   ┆           ┆           ┆           ┆           │\n",
       "│ 2       ┆ PUBG: BATT ┆ Variadas  ┆ 58        ┆ … ┆ 1         ┆ 0         ┆ 0         ┆ 0         │\n",
       "│         ┆ LEGROUNDS  ┆           ┆           ┆   ┆           ┆           ┆           ┆           │\n",
       "│ 3       ┆ The First  ┆ Variadas  ┆ 54        ┆ … ┆ 0         ┆ 0         ┆ 0         ┆ 1         │\n",
       "│         ┆ Descendant ┆           ┆           ┆   ┆           ┆           ┆           ┆           │\n",
       "│ 4       ┆ Dota 2     ┆ Muy       ┆ 81        ┆ … ┆ 1         ┆ 0         ┆ 0         ┆ 0         │\n",
       "│         ┆            ┆ positivas ┆           ┆   ┆           ┆           ┆           ┆           │\n",
       "│ 5       ┆ Steam Deck ┆ Sin Dato  ┆ 0         ┆ … ┆ 0         ┆ 0         ┆ 0         ┆ 0         │\n",
       "│ …       ┆ …          ┆ …         ┆ …         ┆ … ┆ …         ┆ …         ┆ …         ┆ …         │\n",
       "│ 9133    ┆ Port       ┆ Mayorment ┆ 70        ┆ … ┆ 0         ┆ 0         ┆ 0         ┆ 0         │\n",
       "│         ┆ Royale 2   ┆ e         ┆           ┆   ┆           ┆           ┆           ┆           │\n",
       "│         ┆            ┆ positivas ┆           ┆   ┆           ┆           ┆           ┆           │\n",
       "│ 9134    ┆            ┆ Muy       ┆ 91        ┆ … ┆ 0         ┆ 0         ┆ 0         ┆ 0         │\n",
       "│         ┆            ┆ positivas ┆           ┆   ┆           ┆           ┆           ┆           │\n",
       "│ 9135    ┆ Banda      ┆ Positivas ┆ 10        ┆ … ┆ 0         ┆ 0         ┆ 0         ┆ 0         │\n",
       "│         ┆ sonora     ┆           ┆           ┆   ┆           ┆           ┆           ┆           │\n",
       "│         ┆ original   ┆           ┆           ┆   ┆           ┆           ┆           ┆           │\n",
       "│         ┆ de Songs…  ┆           ┆           ┆   ┆           ┆           ┆           ┆           │\n",
       "│ 9136    ┆ Legend of  ┆ Muy       ┆ 93        ┆ … ┆ 0         ┆ 0         ┆ 0         ┆ 0         │\n",
       "│         ┆ Grimrock   ┆ positivas ┆           ┆   ┆           ┆           ┆           ┆           │\n",
       "│ 9137    ┆ Fatermyth  ┆ Muy       ┆ 83        ┆ … ┆ 0         ┆ 0         ┆ 0         ┆ 0         │\n",
       "│         ┆            ┆ positivas ┆           ┆   ┆           ┆           ┆           ┆           │\n",
       "└─────────┴────────────┴───────────┴───────────┴───┴───────────┴───────────┴───────────┴───────────┘"
      ]
     },
     "execution_count": 122,
     "metadata": {},
     "output_type": "execute_result"
    }
   ],
   "source": [
    "df"
   ]
  },
  {
   "cell_type": "code",
   "execution_count": 123,
   "metadata": {},
   "outputs": [],
   "source": [
    "df.write_csv('data/julio_2024_rank_steam_con_generos.csv')"
   ]
  },
  {
   "cell_type": "code",
   "execution_count": null,
   "metadata": {},
   "outputs": [],
   "source": [
    "mask = df['critica_categorica'] == 8\n",
    "df.filter(mask)"
   ]
  },
  {
   "cell_type": "markdown",
   "metadata": {},
   "source": [
    "***\n",
    "Extrayendo la Data del dashboard"
   ]
  },
  {
   "cell_type": "code",
   "execution_count": 1,
   "metadata": {},
   "outputs": [],
   "source": [
    "import polars as pl\n",
    "import duckdb"
   ]
  },
  {
   "cell_type": "code",
   "execution_count": 2,
   "metadata": {},
   "outputs": [],
   "source": [
    "df = pl.read_csv('data/julio_2024_rank_steam_con_generos.csv')"
   ]
  },
  {
   "cell_type": "code",
   "execution_count": 3,
   "metadata": {},
   "outputs": [
    {
     "data": {
      "text/html": [
       "<div><style>\n",
       ".dataframe > thead > tr,\n",
       ".dataframe > tbody > tr {\n",
       "  text-align: right;\n",
       "  white-space: pre-wrap;\n",
       "}\n",
       "</style>\n",
       "<small>shape: (1, 40)</small><table border=\"1\" class=\"dataframe\"><thead><tr><th>ranking</th><th>titulo</th><th>critica_usuarios</th><th>aprobacion</th><th>cantidad_reviews</th><th>windows</th><th>mac</th><th>linux</th><th>fecha_lanzamiento</th><th>precio_steam</th><th>critica_categorica</th><th>fecha_ingles</th><th>fecha</th><th>accion</th><th>animacion_modelado</th><th>aventura</th><th>carreras</th><th>contenido_sexual</th><th>deportes</th><th>desarrollo_juegos</th><th>desnudos</th><th>diseno_ilustracion</th><th>disparos</th><th>documentales</th><th>edicion_fotografica</th><th>educacion</th><th>estrategia</th><th>formacion_software</th><th>free_to_play</th><th>indie</th><th>multijugador_masivo</th><th>primera_persona</th><th>produccion_audio</th><th>publicacion_web</th><th>rol</th><th>sangriento</th><th>simulacion</th><th>tutoriales</th><th>utilidades</th><th>violentos</th></tr><tr><td>i64</td><td>str</td><td>str</td><td>i64</td><td>i64</td><td>i64</td><td>i64</td><td>i64</td><td>str</td><td>str</td><td>i64</td><td>str</td><td>str</td><td>i64</td><td>i64</td><td>i64</td><td>i64</td><td>i64</td><td>i64</td><td>i64</td><td>i64</td><td>i64</td><td>i64</td><td>i64</td><td>i64</td><td>i64</td><td>i64</td><td>i64</td><td>i64</td><td>i64</td><td>i64</td><td>i64</td><td>i64</td><td>i64</td><td>i64</td><td>i64</td><td>i64</td><td>i64</td><td>i64</td><td>i64</td></tr></thead><tbody><tr><td>1</td><td>&quot;Counter-Strike 2&quot;</td><td>&quot;Muy positivas&quot;</td><td>87</td><td>8160723</td><td>1</td><td>1</td><td>0</td><td>&quot;21 AGO 2012&quot;</td><td>&quot;Gratuito&quot;</td><td>2</td><td>&quot;21 AUG 2012&quot;</td><td>&quot;2012-08-21&quot;</td><td>1</td><td>0</td><td>0</td><td>0</td><td>0</td><td>0</td><td>0</td><td>0</td><td>0</td><td>1</td><td>0</td><td>0</td><td>0</td><td>1</td><td>0</td><td>0</td><td>0</td><td>0</td><td>1</td><td>0</td><td>0</td><td>0</td><td>0</td><td>0</td><td>0</td><td>0</td><td>0</td></tr></tbody></table></div>"
      ],
      "text/plain": [
       "shape: (1, 40)\n",
       "┌─────────┬────────────┬───────────┬───────────┬───┬───────────┬───────────┬───────────┬───────────┐\n",
       "│ ranking ┆ titulo     ┆ critica_u ┆ aprobacio ┆ … ┆ simulacio ┆ tutoriale ┆ utilidade ┆ violentos │\n",
       "│ ---     ┆ ---        ┆ suarios   ┆ n         ┆   ┆ n         ┆ s         ┆ s         ┆ ---       │\n",
       "│ i64     ┆ str        ┆ ---       ┆ ---       ┆   ┆ ---       ┆ ---       ┆ ---       ┆ i64       │\n",
       "│         ┆            ┆ str       ┆ i64       ┆   ┆ i64       ┆ i64       ┆ i64       ┆           │\n",
       "╞═════════╪════════════╪═══════════╪═══════════╪═══╪═══════════╪═══════════╪═══════════╪═══════════╡\n",
       "│ 1       ┆ Counter-St ┆ Muy       ┆ 87        ┆ … ┆ 0         ┆ 0         ┆ 0         ┆ 0         │\n",
       "│         ┆ rike 2     ┆ positivas ┆           ┆   ┆           ┆           ┆           ┆           │\n",
       "└─────────┴────────────┴───────────┴───────────┴───┴───────────┴───────────┴───────────┴───────────┘"
      ]
     },
     "execution_count": 3,
     "metadata": {},
     "output_type": "execute_result"
    }
   ],
   "source": [
    "df.head(1)"
   ]
  },
  {
   "cell_type": "markdown",
   "metadata": {},
   "source": [
    "Obtengo las Distintas Criticas que hay"
   ]
  },
  {
   "cell_type": "code",
   "execution_count": 4,
   "metadata": {},
   "outputs": [
    {
     "data": {
      "text/plain": [
       "['Extremadamente negativas',\n",
       " 'Negativas',\n",
       " 'Mayormente positivas',\n",
       " 'Extremadamente positivas',\n",
       " 'Muy positivas',\n",
       " 'Positivas',\n",
       " 'Muy negativas',\n",
       " 'Mayormente negativas',\n",
       " 'Variadas']"
      ]
     },
     "execution_count": 4,
     "metadata": {},
     "output_type": "execute_result"
    }
   ],
   "source": [
    "tipos_criticas = df.filter(df['critica_usuarios'] != 'Sin Dato')[:,2].unique()\n",
    "tipos_criticas\n",
    "lista_criticas = [tipos_criticas[x] for x in range(len(tipos_criticas))]\n",
    "del tipos_criticas\n",
    "lista_criticas"
   ]
  },
  {
   "cell_type": "markdown",
   "metadata": {},
   "source": [
    "En este ciclo Sumarizo los distintos Generos y dentro de Cada Genero, sumarizo las plataformas y las distintas criticas"
   ]
  },
  {
   "cell_type": "code",
   "execution_count": 5,
   "metadata": {},
   "outputs": [],
   "source": [
    "generos = []\n",
    "for j in range(13,len(df.columns),1):\n",
    "    diccionario = {}\n",
    "    genero = df[:,j].name\n",
    "    diccionario['genero'] = df[:,j].name\n",
    "    diccionario['cantidad'] = df[:,j].sum()\n",
    "    \n",
    "    df_temporal = df.filter(df[genero] == 1)\n",
    "    diccionario['windows'] = len(df_temporal.filter(df_temporal['windows'] == 1))\n",
    "    diccionario['mac'] = len(df_temporal.filter(df_temporal['mac'] == 1))\n",
    "    diccionario['linux'] = len(df_temporal.filter(df_temporal['linux'] == 1).sum())  \n",
    "\n",
    "    for critica in lista_criticas:\n",
    "        diccionario[critica] = len(df_temporal.filter(df_temporal['critica_usuarios'] == critica))\n",
    "    \n",
    "    generos.append(diccionario)\n"
   ]
  },
  {
   "cell_type": "markdown",
   "metadata": {},
   "source": [
    "Creo el Dataframe y llevo los Generos a Letra Capital"
   ]
  },
  {
   "cell_type": "code",
   "execution_count": 6,
   "metadata": {},
   "outputs": [
    {
     "data": {
      "text/html": [
       "<div><style>\n",
       ".dataframe > thead > tr,\n",
       ".dataframe > tbody > tr {\n",
       "  text-align: right;\n",
       "  white-space: pre-wrap;\n",
       "}\n",
       "</style>\n",
       "<small>shape: (27, 14)</small><table border=\"1\" class=\"dataframe\"><thead><tr><th>genero</th><th>cantidad</th><th>windows</th><th>mac</th><th>linux</th><th>Extremadamente negativas</th><th>Negativas</th><th>Mayormente positivas</th><th>Extremadamente positivas</th><th>Muy positivas</th><th>Positivas</th><th>Muy negativas</th><th>Mayormente negativas</th><th>Variadas</th></tr><tr><td>str</td><td>i64</td><td>i64</td><td>i64</td><td>i64</td><td>i64</td><td>i64</td><td>i64</td><td>i64</td><td>i64</td><td>i64</td><td>i64</td><td>i64</td><td>i64</td></tr></thead><tbody><tr><td>&quot;Accion&quot;</td><td>3871</td><td>3851</td><td>559</td><td>1</td><td>5</td><td>1</td><td>670</td><td>329</td><td>1833</td><td>184</td><td>10</td><td>65</td><td>560</td></tr><tr><td>&quot;Animacion Modelado&quot;</td><td>44</td><td>44</td><td>9</td><td>1</td><td>0</td><td>0</td><td>10</td><td>6</td><td>16</td><td>2</td><td>0</td><td>0</td><td>4</td></tr><tr><td>&quot;Aventura&quot;</td><td>3284</td><td>3261</td><td>477</td><td>1</td><td>2</td><td>1</td><td>546</td><td>383</td><td>1608</td><td>108</td><td>10</td><td>50</td><td>449</td></tr><tr><td>&quot;Carreras&quot;</td><td>339</td><td>338</td><td>34</td><td>1</td><td>2</td><td>0</td><td>45</td><td>15</td><td>162</td><td>27</td><td>2</td><td>7</td><td>39</td></tr><tr><td>&quot;Contenido Sexual&quot;</td><td>493</td><td>491</td><td>47</td><td>1</td><td>1</td><td>0</td><td>108</td><td>52</td><td>251</td><td>13</td><td>2</td><td>3</td><td>53</td></tr><tr><td>&hellip;</td><td>&hellip;</td><td>&hellip;</td><td>&hellip;</td><td>&hellip;</td><td>&hellip;</td><td>&hellip;</td><td>&hellip;</td><td>&hellip;</td><td>&hellip;</td><td>&hellip;</td><td>&hellip;</td><td>&hellip;</td><td>&hellip;</td></tr><tr><td>&quot;Sangriento&quot;</td><td>872</td><td>872</td><td>127</td><td>1</td><td>2</td><td>0</td><td>154</td><td>90</td><td>359</td><td>41</td><td>3</td><td>29</td><td>143</td></tr><tr><td>&quot;Simulacion&quot;</td><td>2905</td><td>2895</td><td>648</td><td>1</td><td>2</td><td>1</td><td>544</td><td>180</td><td>1262</td><td>181</td><td>8</td><td>63</td><td>512</td></tr><tr><td>&quot;Tutoriales&quot;</td><td>87</td><td>87</td><td>12</td><td>1</td><td>1</td><td>0</td><td>18</td><td>6</td><td>41</td><td>7</td><td>0</td><td>0</td><td>9</td></tr><tr><td>&quot;Utilidades&quot;</td><td>75</td><td>75</td><td>8</td><td>1</td><td>1</td><td>0</td><td>11</td><td>10</td><td>33</td><td>3</td><td>0</td><td>1</td><td>10</td></tr><tr><td>&quot;Violentos&quot;</td><td>924</td><td>923</td><td>133</td><td>1</td><td>2</td><td>0</td><td>176</td><td>66</td><td>357</td><td>52</td><td>3</td><td>29</td><td>181</td></tr></tbody></table></div>"
      ],
      "text/plain": [
       "shape: (27, 14)\n",
       "┌───────────────────┬──────────┬─────────┬─────┬───┬───────────┬───────────┬────────────┬──────────┐\n",
       "│ genero            ┆ cantidad ┆ windows ┆ mac ┆ … ┆ Positivas ┆ Muy       ┆ Mayormente ┆ Variadas │\n",
       "│ ---               ┆ ---      ┆ ---     ┆ --- ┆   ┆ ---       ┆ negativas ┆ negativas  ┆ ---      │\n",
       "│ str               ┆ i64      ┆ i64     ┆ i64 ┆   ┆ i64       ┆ ---       ┆ ---        ┆ i64      │\n",
       "│                   ┆          ┆         ┆     ┆   ┆           ┆ i64       ┆ i64        ┆          │\n",
       "╞═══════════════════╪══════════╪═════════╪═════╪═══╪═══════════╪═══════════╪════════════╪══════════╡\n",
       "│ Accion            ┆ 3871     ┆ 3851    ┆ 559 ┆ … ┆ 184       ┆ 10        ┆ 65         ┆ 560      │\n",
       "│ Animacion         ┆ 44       ┆ 44      ┆ 9   ┆ … ┆ 2         ┆ 0         ┆ 0          ┆ 4        │\n",
       "│ Modelado          ┆          ┆         ┆     ┆   ┆           ┆           ┆            ┆          │\n",
       "│ Aventura          ┆ 3284     ┆ 3261    ┆ 477 ┆ … ┆ 108       ┆ 10        ┆ 50         ┆ 449      │\n",
       "│ Carreras          ┆ 339      ┆ 338     ┆ 34  ┆ … ┆ 27        ┆ 2         ┆ 7          ┆ 39       │\n",
       "│ Contenido Sexual  ┆ 493      ┆ 491     ┆ 47  ┆ … ┆ 13        ┆ 2         ┆ 3          ┆ 53       │\n",
       "│ …                 ┆ …        ┆ …       ┆ …   ┆ … ┆ …         ┆ …         ┆ …          ┆ …        │\n",
       "│ Sangriento        ┆ 872      ┆ 872     ┆ 127 ┆ … ┆ 41        ┆ 3         ┆ 29         ┆ 143      │\n",
       "│ Simulacion        ┆ 2905     ┆ 2895    ┆ 648 ┆ … ┆ 181       ┆ 8         ┆ 63         ┆ 512      │\n",
       "│ Tutoriales        ┆ 87       ┆ 87      ┆ 12  ┆ … ┆ 7         ┆ 0         ┆ 0          ┆ 9        │\n",
       "│ Utilidades        ┆ 75       ┆ 75      ┆ 8   ┆ … ┆ 3         ┆ 0         ┆ 1          ┆ 10       │\n",
       "│ Violentos         ┆ 924      ┆ 923     ┆ 133 ┆ … ┆ 52        ┆ 3         ┆ 29         ┆ 181      │\n",
       "└───────────────────┴──────────┴─────────┴─────┴───┴───────────┴───────────┴────────────┴──────────┘"
      ]
     },
     "execution_count": 6,
     "metadata": {},
     "output_type": "execute_result"
    }
   ],
   "source": [
    "df_generos = pl.DataFrame(generos)\n",
    "df_generos = df_generos.with_columns(\n",
    "    genero = pl.col('genero').str.replace(\"_\", \" \").str.to_titlecase()\n",
    ")\n",
    "\n",
    "df_generos"
   ]
  },
  {
   "cell_type": "markdown",
   "metadata": {},
   "source": [
    "Creo el Dataframe que totaliza las Plataformas"
   ]
  },
  {
   "cell_type": "code",
   "execution_count": 72,
   "metadata": {},
   "outputs": [
    {
     "data": {
      "text/html": [
       "<div><style>\n",
       ".dataframe > thead > tr,\n",
       ".dataframe > tbody > tr {\n",
       "  text-align: right;\n",
       "  white-space: pre-wrap;\n",
       "}\n",
       "</style>\n",
       "<small>shape: (3, 3)</small><table border=\"1\" class=\"dataframe\"><thead><tr><th>Plataforma</th><th>Cantidad</th><th>Porcentaje del total</th></tr><tr><td>str</td><td>i64</td><td>f64</td></tr></thead><tbody><tr><td>&quot;windows&quot;</td><td>9017</td><td>0.986867</td></tr><tr><td>&quot;mac&quot;</td><td>1645</td><td>0.180037</td></tr><tr><td>&quot;linux&quot;</td><td>2420</td><td>0.264857</td></tr></tbody></table></div>"
      ],
      "text/plain": [
       "shape: (3, 3)\n",
       "┌────────────┬──────────┬──────────────────────┐\n",
       "│ Plataforma ┆ Cantidad ┆ Porcentaje del total │\n",
       "│ ---        ┆ ---      ┆ ---                  │\n",
       "│ str        ┆ i64      ┆ f64                  │\n",
       "╞════════════╪══════════╪══════════════════════╡\n",
       "│ windows    ┆ 9017     ┆ 0.986867             │\n",
       "│ mac        ┆ 1645     ┆ 0.180037             │\n",
       "│ linux      ┆ 2420     ┆ 0.264857             │\n",
       "└────────────┴──────────┴──────────────────────┘"
      ]
     },
     "execution_count": 72,
     "metadata": {},
     "output_type": "execute_result"
    }
   ],
   "source": [
    "cantidad_plataformas = [df[:,x].sum() for x in range(5,8,1)]\n",
    "nombres_plataformas = [df[:,x].name for x in range(5,8,1)]\n",
    "diccionario = {\n",
    "    \"Plataforma\": nombres_plataformas,\n",
    "    \"Cantidad\": cantidad_plataformas\n",
    "}\n",
    "\n",
    "df_plataformas = pl.DataFrame(diccionario)\n",
    "\n",
    "df_plataformas = df_plataformas.with_columns((pl.col('Cantidad')/ 9137).alias(\"Porcentaje del total\"))\n",
    "\n",
    "df_plataformas"
   ]
  },
  {
   "cell_type": "code",
   "execution_count": 77,
   "metadata": {},
   "outputs": [],
   "source": [
    "df_generos.sort('cantidad', descending=True).head(10)"
   ]
  },
  {
   "cell_type": "code",
   "execution_count": 91,
   "metadata": {},
   "outputs": [],
   "source": [
    "df_generos = df_generos.with_columns(\n",
    "    (pl.col('Extremadamente negativas') + pl.col('Negativas') + \n",
    "     pl.col('Muy negativas') + pl.col('Mayormente negativas')).alias(\"Suma Negativa\")\n",
    ")\n",
    "\n",
    "df_generos = df_generos.with_columns(\n",
    "    (pl.col('Extremadamente positivas') + pl.col('Positivas') + \n",
    "     pl.col('Muy positivas') + pl.col('Mayormente positivas')).alias(\"Suma Positiva\")\n",
    ")"
   ]
  },
  {
   "cell_type": "code",
   "execution_count": 94,
   "metadata": {},
   "outputs": [],
   "source": [
    "df_generos.write_csv('data/2024_steam_titulos_generos.csv')\n"
   ]
  },
  {
   "cell_type": "code",
   "execution_count": 93,
   "metadata": {},
   "outputs": [
    {
     "data": {
      "text/html": [
       "<div><style>\n",
       ".dataframe > thead > tr,\n",
       ".dataframe > tbody > tr {\n",
       "  text-align: right;\n",
       "  white-space: pre-wrap;\n",
       "}\n",
       "</style>\n",
       "<small>shape: (3, 3)</small><table border=\"1\" class=\"dataframe\"><thead><tr><th>Plataforma</th><th>Cantidad</th><th>Porcentaje del total</th></tr><tr><td>str</td><td>i64</td><td>f64</td></tr></thead><tbody><tr><td>&quot;windows&quot;</td><td>9017</td><td>0.986867</td></tr><tr><td>&quot;mac&quot;</td><td>1645</td><td>0.180037</td></tr><tr><td>&quot;linux&quot;</td><td>2420</td><td>0.264857</td></tr></tbody></table></div>"
      ],
      "text/plain": [
       "shape: (3, 3)\n",
       "┌────────────┬──────────┬──────────────────────┐\n",
       "│ Plataforma ┆ Cantidad ┆ Porcentaje del total │\n",
       "│ ---        ┆ ---      ┆ ---                  │\n",
       "│ str        ┆ i64      ┆ f64                  │\n",
       "╞════════════╪══════════╪══════════════════════╡\n",
       "│ windows    ┆ 9017     ┆ 0.986867             │\n",
       "│ mac        ┆ 1645     ┆ 0.180037             │\n",
       "│ linux      ┆ 2420     ┆ 0.264857             │\n",
       "└────────────┴──────────┴──────────────────────┘"
      ]
     },
     "execution_count": 93,
     "metadata": {},
     "output_type": "execute_result"
    }
   ],
   "source": [
    "df_plataformas"
   ]
  },
  {
   "cell_type": "markdown",
   "metadata": {},
   "source": [
    "***\n",
    "Acomodo los nombres de las Columnas en el df para que coincidan con los nombres de las columnas del df_genero "
   ]
  },
  {
   "cell_type": "code",
   "execution_count": 7,
   "metadata": {},
   "outputs": [],
   "source": [
    "columnas = df.columns"
   ]
  },
  {
   "cell_type": "code",
   "execution_count": 13,
   "metadata": {},
   "outputs": [
    {
     "data": {
      "text/plain": [
       "['Ranking',\n",
       " 'Titulo',\n",
       " 'Critica Usuarios',\n",
       " 'Aprobacion',\n",
       " 'Cantidad Reviews',\n",
       " 'Windows',\n",
       " 'Mac',\n",
       " 'Linux',\n",
       " 'Fecha Lanzamiento',\n",
       " 'Precio Steam',\n",
       " 'Critica Categorica',\n",
       " 'Fecha Ingles',\n",
       " 'Fecha',\n",
       " 'Accion',\n",
       " 'Animacion Modelado',\n",
       " 'Aventura',\n",
       " 'Carreras',\n",
       " 'Contenido Sexual',\n",
       " 'Deportes',\n",
       " 'Desarrollo Juegos',\n",
       " 'Desnudos',\n",
       " 'Diseno Ilustracion',\n",
       " 'Disparos',\n",
       " 'Documentales',\n",
       " 'Edicion Fotografica',\n",
       " 'Educacion',\n",
       " 'Estrategia',\n",
       " 'Formacion Software',\n",
       " 'Free To Play',\n",
       " 'Indie',\n",
       " 'Multijugador Masivo',\n",
       " 'Primera Persona',\n",
       " 'Produccion Audio',\n",
       " 'Publicacion Web',\n",
       " 'Rol',\n",
       " 'Sangriento',\n",
       " 'Simulacion',\n",
       " 'Tutoriales',\n",
       " 'Utilidades',\n",
       " 'Violentos']"
      ]
     },
     "execution_count": 13,
     "metadata": {},
     "output_type": "execute_result"
    }
   ],
   "source": [
    "columns = []\n",
    "for columna in columnas:\n",
    "    columns.append(columna.replace(\"_\",\" \").title())\n",
    "\n",
    "columns"
   ]
  },
  {
   "cell_type": "code",
   "execution_count": 14,
   "metadata": {},
   "outputs": [
    {
     "data": {
      "text/html": [
       "<div><style>\n",
       ".dataframe > thead > tr,\n",
       ".dataframe > tbody > tr {\n",
       "  text-align: right;\n",
       "  white-space: pre-wrap;\n",
       "}\n",
       "</style>\n",
       "<small>shape: (1, 40)</small><table border=\"1\" class=\"dataframe\"><thead><tr><th>Ranking</th><th>Titulo</th><th>Critica Usuarios</th><th>Aprobacion</th><th>Cantidad Reviews</th><th>Windows</th><th>Mac</th><th>Linux</th><th>Fecha Lanzamiento</th><th>Precio Steam</th><th>Critica Categorica</th><th>Fecha Ingles</th><th>Fecha</th><th>Accion</th><th>Animacion Modelado</th><th>Aventura</th><th>Carreras</th><th>Contenido Sexual</th><th>Deportes</th><th>Desarrollo Juegos</th><th>Desnudos</th><th>Diseno Ilustracion</th><th>Disparos</th><th>Documentales</th><th>Edicion Fotografica</th><th>Educacion</th><th>Estrategia</th><th>Formacion Software</th><th>Free To Play</th><th>Indie</th><th>Multijugador Masivo</th><th>Primera Persona</th><th>Produccion Audio</th><th>Publicacion Web</th><th>Rol</th><th>Sangriento</th><th>Simulacion</th><th>Tutoriales</th><th>Utilidades</th><th>Violentos</th></tr><tr><td>i64</td><td>str</td><td>str</td><td>i64</td><td>i64</td><td>i64</td><td>i64</td><td>i64</td><td>str</td><td>str</td><td>i64</td><td>str</td><td>str</td><td>i64</td><td>i64</td><td>i64</td><td>i64</td><td>i64</td><td>i64</td><td>i64</td><td>i64</td><td>i64</td><td>i64</td><td>i64</td><td>i64</td><td>i64</td><td>i64</td><td>i64</td><td>i64</td><td>i64</td><td>i64</td><td>i64</td><td>i64</td><td>i64</td><td>i64</td><td>i64</td><td>i64</td><td>i64</td><td>i64</td><td>i64</td></tr></thead><tbody><tr><td>1</td><td>&quot;Counter-Strike 2&quot;</td><td>&quot;Muy positivas&quot;</td><td>87</td><td>8160723</td><td>1</td><td>1</td><td>0</td><td>&quot;21 AGO 2012&quot;</td><td>&quot;Gratuito&quot;</td><td>2</td><td>&quot;21 AUG 2012&quot;</td><td>&quot;2012-08-21&quot;</td><td>1</td><td>0</td><td>0</td><td>0</td><td>0</td><td>0</td><td>0</td><td>0</td><td>0</td><td>1</td><td>0</td><td>0</td><td>0</td><td>1</td><td>0</td><td>0</td><td>0</td><td>0</td><td>1</td><td>0</td><td>0</td><td>0</td><td>0</td><td>0</td><td>0</td><td>0</td><td>0</td></tr></tbody></table></div>"
      ],
      "text/plain": [
       "shape: (1, 40)\n",
       "┌─────────┬────────────┬───────────┬───────────┬───┬───────────┬───────────┬───────────┬───────────┐\n",
       "│ Ranking ┆ Titulo     ┆ Critica   ┆ Aprobacio ┆ … ┆ Simulacio ┆ Tutoriale ┆ Utilidade ┆ Violentos │\n",
       "│ ---     ┆ ---        ┆ Usuarios  ┆ n         ┆   ┆ n         ┆ s         ┆ s         ┆ ---       │\n",
       "│ i64     ┆ str        ┆ ---       ┆ ---       ┆   ┆ ---       ┆ ---       ┆ ---       ┆ i64       │\n",
       "│         ┆            ┆ str       ┆ i64       ┆   ┆ i64       ┆ i64       ┆ i64       ┆           │\n",
       "╞═════════╪════════════╪═══════════╪═══════════╪═══╪═══════════╪═══════════╪═══════════╪═══════════╡\n",
       "│ 1       ┆ Counter-St ┆ Muy       ┆ 87        ┆ … ┆ 0         ┆ 0         ┆ 0         ┆ 0         │\n",
       "│         ┆ rike 2     ┆ positivas ┆           ┆   ┆           ┆           ┆           ┆           │\n",
       "└─────────┴────────────┴───────────┴───────────┴───┴───────────┴───────────┴───────────┴───────────┘"
      ]
     },
     "execution_count": 14,
     "metadata": {},
     "output_type": "execute_result"
    }
   ],
   "source": [
    "df.columns = columns\n",
    "df.head(1)"
   ]
  },
  {
   "cell_type": "code",
   "execution_count": 15,
   "metadata": {},
   "outputs": [],
   "source": [
    "df.write_csv('data/julio_2024_rank_steam_con_generos.csv')"
   ]
  }
 ],
 "metadata": {
  "kernelspec": {
   "display_name": "Python 3",
   "language": "python",
   "name": "python3"
  },
  "language_info": {
   "codemirror_mode": {
    "name": "ipython",
    "version": 3
   },
   "file_extension": ".py",
   "mimetype": "text/x-python",
   "name": "python",
   "nbconvert_exporter": "python",
   "pygments_lexer": "ipython3",
   "version": "3.10.11"
  }
 },
 "nbformat": 4,
 "nbformat_minor": 2
}
