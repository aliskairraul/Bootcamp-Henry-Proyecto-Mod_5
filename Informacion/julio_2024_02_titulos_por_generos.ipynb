{
 "cells": [
  {
   "cell_type": "markdown",
   "metadata": {},
   "source": [
    "***\n",
    "Importando Librerias"
   ]
  },
  {
   "cell_type": "code",
   "execution_count": 1,
   "metadata": {},
   "outputs": [],
   "source": [
    "import time\n",
    "import undetected_chromedriver as uc\n",
    "from selenium.webdriver.common.by import By\n",
    "from selenium.webdriver.support.ui import WebDriverWait \n",
    "from selenium.webdriver.support import expected_conditions as ec\n",
    "\n",
    "from IPython.display import clear_output\n",
    "import csv\n",
    "\n",
    "import polars as pl"
   ]
  },
  {
   "cell_type": "markdown",
   "metadata": {},
   "source": [
    "Se Crea el Driver"
   ]
  },
  {
   "cell_type": "code",
   "execution_count": 2,
   "metadata": {},
   "outputs": [],
   "source": [
    "options = uc.ChromeOptions()\n",
    "options.add_argument(\"--disable-popup-blocking\")\n",
    "options.add_argument(\"--disable-infobars\")\n",
    "options.headless=False\n",
    "driver = uc.Chrome(options=options)"
   ]
  },
  {
   "cell_type": "markdown",
   "metadata": {},
   "source": []
  },
  {
   "cell_type": "code",
   "execution_count": null,
   "metadata": {},
   "outputs": [],
   "source": [
    "# Ranking de Ventas todas las Categorias\n",
    "# url = 'https://store.steampowered.com/search/?filter=globaltopsellers&ndl=1'\n",
    "\n",
    "# Accion  4504\n",
    "url = 'https://store.steampowered.com/search/?tags=19&filter=globaltopsellers&ndl=1'\n",
    "\n",
    "# Aventura  3825\n",
    "url = 'https://store.steampowered.com/search/?tags=21&filter=globaltopsellers&ndl=1'\n",
    "\n",
    "# Simulacion 3273\n",
    "url = 'https://store.steampowered.com/search/?tags=599&filter=globaltopsellers&ndl=1'\n",
    "\n",
    "# Disparos  1028\n",
    "url = 'https://store.steampowered.com/search/?tags=1774&filter=globaltopsellers&ndl=1'\n",
    "\n",
    "# Free to play 401\n",
    "url = 'https://store.steampowered.com/search/?tags=113&filter=globaltopsellers&ndl=1'\n",
    "\n",
    "# Indie 3219\n",
    "url = 'https://store.steampowered.com/search/?tags=492&filter=globaltopsellers&ndl=1'\n",
    "\n",
    "# Estrategia  2691\n",
    "url = 'https://store.steampowered.com/search/?tags=9&filter=globaltopsellers&ndl=1'\n",
    "\n",
    "# Rol    2460\n",
    "url = 'https://store.steampowered.com/search/?tags=122&filter=globaltopsellers&ndl=1'\n",
    "\n",
    "# Primera Presona   1603\n",
    "url = 'https://store.steampowered.com/search/?tags=3839&filter=globaltopsellers&ndl=1'\n",
    "\n",
    "# Animacion y Modelado   53\n",
    "url = 'https://store.steampowered.com/search/?tags=872&filter=globaltopsellers&ndl=1'\n",
    "\n",
    "# Violentos\n",
    "url = 'https://store.steampowered.com/search/?tags=4667&filter=globaltopsellers&ndl=1'\n",
    "\n",
    "# Multijugador Masivo  560\n",
    "url = 'https://store.steampowered.com/search/?tags=128&filter=globaltopsellers&ndl=1'\n",
    "\n",
    "# Carreras  391\n",
    "url= 'https://store.steampowered.com/search/?tags=699&filter=globaltopsellers&ndl=1'\n",
    "\n",
    "# Desnudos 514\n",
    "url= 'https://store.steampowered.com/search/?tags=6650&filter=globaltopsellers&ndl=1'\n",
    " \n",
    "# Deportes    493\n",
    "url = 'https://store.steampowered.com/search/?tags=701&filter=globaltopsellers&ndl=1'\n",
    "\n",
    "# Sangriento   990\n",
    "url = 'https://store.steampowered.com/search/?tags=4345&filter=globaltopsellers&ndl=1'\n",
    "\n",
    "# Utilidades   93\n",
    "url = 'https://store.steampowered.com/search/?tags=87&filter=globaltopsellers&ndl=1'\n",
    "\n",
    "# Diseño e Iustracion   103\n",
    "url = 'https://store.steampowered.com/search/?tags=84&filter=globaltopsellers&ndl=1'\n",
    "\n",
    "# Publicacion Web      16\n",
    "url = 'https://store.steampowered.com/search/?tags=1038&filter=globaltopsellers&ndl=1'\n",
    "\n",
    "# Educacion   223\n",
    "url = 'https://store.steampowered.com/search/?tags=1036&filter=globaltopsellers&ndl=1'\n",
    "\n",
    "# Formacion de Software   13\n",
    "url = 'https://store.steampowered.com/search/?tags=1445%2C8013&filter=globaltopsellers&ndl=1'\n",
    "\n",
    "# Contenido Sexual    588\n",
    "url = 'https://store.steampowered.com/search/?tags=12095&filter=globaltopsellers&ndl=1'\n",
    "\n",
    "# Produccion de Audio  17\n",
    "url = 'https://store.steampowered.com/search/?tags=1027&filter=globaltopsellers&ndl=1'\n",
    "\n",
    "# Desarrollo de Juegos  62\n",
    "url = 'https://store.steampowered.com/search/?tags=13906&filter=globaltopsellers&ndl=1'\n",
    "\n",
    "# Edicion Fotografica 15\n",
    "url = 'https://store.steampowered.com/search/?tags=809&filter=globaltopsellers&ndl=1'\n",
    "\n",
    "# Documentales   1\n",
    "url = 'https://store.steampowered.com/search/?tags=15339&filter=globaltopsellers&ndl=1'\n",
    "\n",
    "# Tutoriales  101\n",
    "url = 'https://store.steampowered.com/search/?tags=12057&filter=globaltopsellers&ndl=1'"
   ]
  },
  {
   "cell_type": "markdown",
   "metadata": {},
   "source": [
    "***\n",
    "Me dirijo a la Categoria `Accion`"
   ]
  },
  {
   "cell_type": "code",
   "execution_count": 4,
   "metadata": {},
   "outputs": [],
   "source": [
    "url = 'https://store.steampowered.com/search/?tags=19&filter=globaltopsellers&ndl=1'\n",
    "driver.get(url=url)"
   ]
  },
  {
   "cell_type": "markdown",
   "metadata": {},
   "source": [
    "Hago el Scroll Manualmente"
   ]
  },
  {
   "cell_type": "code",
   "execution_count": 9,
   "metadata": {},
   "outputs": [],
   "source": [
    "data_html = driver.find_elements(By.XPATH, '//*[@id=\"search_resultsRows\"]/a/div[2]/div[1]/span')\n",
    "# //*[@id=\"search_resultsRows\"]/a[1]/div[2]/div[1]/span"
   ]
  },
  {
   "cell_type": "code",
   "execution_count": 10,
   "metadata": {},
   "outputs": [
    {
     "data": {
      "text/plain": [
       "4504"
      ]
     },
     "execution_count": 10,
     "metadata": {},
     "output_type": "execute_result"
    }
   ],
   "source": [
    "len(data_html)"
   ]
  },
  {
   "cell_type": "code",
   "execution_count": 14,
   "metadata": {},
   "outputs": [],
   "source": [
    "data = []\n",
    "for i in range(len(data_html)):\n",
    "    titulo = data_html[i].text\n",
    "    data.append(titulo)"
   ]
  },
  {
   "cell_type": "code",
   "execution_count": 20,
   "metadata": {},
   "outputs": [
    {
     "data": {
      "text/html": [
       "<div><style>\n",
       ".dataframe > thead > tr,\n",
       ".dataframe > tbody > tr {\n",
       "  text-align: right;\n",
       "  white-space: pre-wrap;\n",
       "}\n",
       "</style>\n",
       "<small>shape: (5, 1)</small><table border=\"1\" class=\"dataframe\"><thead><tr><th>titulo</th></tr><tr><td>str</td></tr></thead><tbody><tr><td>&quot;Counter-Strike 2&quot;</td></tr><tr><td>&quot;The First Descendant&quot;</td></tr><tr><td>&quot;PUBG: BATTLEGROUNDS&quot;</td></tr><tr><td>&quot;Dota 2&quot;</td></tr><tr><td>&quot;No Man&#x27;s Sky&quot;</td></tr></tbody></table></div>"
      ],
      "text/plain": [
       "shape: (5, 1)\n",
       "┌──────────────────────┐\n",
       "│ titulo               │\n",
       "│ ---                  │\n",
       "│ str                  │\n",
       "╞══════════════════════╡\n",
       "│ Counter-Strike 2     │\n",
       "│ The First Descendant │\n",
       "│ PUBG: BATTLEGROUNDS  │\n",
       "│ Dota 2               │\n",
       "│ No Man's Sky         │\n",
       "└──────────────────────┘"
      ]
     },
     "execution_count": 20,
     "metadata": {},
     "output_type": "execute_result"
    }
   ],
   "source": [
    "df = pl.DataFrame(data=data, schema={'titulo':pl.String})\n",
    "df.head()"
   ]
  },
  {
   "cell_type": "code",
   "execution_count": 21,
   "metadata": {},
   "outputs": [
    {
     "data": {
      "text/plain": [
       "(4504, 1)"
      ]
     },
     "execution_count": 21,
     "metadata": {},
     "output_type": "execute_result"
    }
   ],
   "source": [
    "df.shape"
   ]
  },
  {
   "cell_type": "code",
   "execution_count": 22,
   "metadata": {},
   "outputs": [],
   "source": [
    "df.write_csv('genero/accion.csv')"
   ]
  },
  {
   "cell_type": "markdown",
   "metadata": {},
   "source": [
    "***\n",
    "Me dirijo a la Categoria `Aventura`"
   ]
  },
  {
   "cell_type": "code",
   "execution_count": 23,
   "metadata": {},
   "outputs": [],
   "source": [
    "url = 'https://store.steampowered.com/search/?tags=21&filter=globaltopsellers&ndl=1'\n",
    "driver.get(url)"
   ]
  },
  {
   "cell_type": "markdown",
   "metadata": {},
   "source": [
    "Hago el Scroll Manualmente"
   ]
  },
  {
   "cell_type": "code",
   "execution_count": 24,
   "metadata": {},
   "outputs": [],
   "source": [
    "data_html = driver.find_elements(By.XPATH, '//*[@id=\"search_resultsRows\"]/a/div[2]/div[1]/span')"
   ]
  },
  {
   "cell_type": "code",
   "execution_count": 25,
   "metadata": {},
   "outputs": [
    {
     "data": {
      "text/plain": [
       "3825"
      ]
     },
     "execution_count": 25,
     "metadata": {},
     "output_type": "execute_result"
    }
   ],
   "source": [
    "len(data_html)"
   ]
  },
  {
   "cell_type": "code",
   "execution_count": 26,
   "metadata": {},
   "outputs": [],
   "source": [
    "data = []\n",
    "for i in range(len(data_html)):\n",
    "    titulo = data_html[i].text\n",
    "    data.append(titulo)"
   ]
  },
  {
   "cell_type": "markdown",
   "metadata": {},
   "source": [
    "Creo el Dataframe"
   ]
  },
  {
   "cell_type": "code",
   "execution_count": 27,
   "metadata": {},
   "outputs": [
    {
     "data": {
      "text/html": [
       "<div><style>\n",
       ".dataframe > thead > tr,\n",
       ".dataframe > tbody > tr {\n",
       "  text-align: right;\n",
       "  white-space: pre-wrap;\n",
       "}\n",
       "</style>\n",
       "<small>shape: (5, 1)</small><table border=\"1\" class=\"dataframe\"><thead><tr><th>titulo</th></tr><tr><td>str</td></tr></thead><tbody><tr><td>&quot;The First Descendant&quot;</td></tr><tr><td>&quot;No Man&#x27;s Sky&quot;</td></tr><tr><td>&quot;Once Human&quot;</td></tr><tr><td>&quot;Red Dead Redemption 2&quot;</td></tr><tr><td>&quot;Chained Together&quot;</td></tr></tbody></table></div>"
      ],
      "text/plain": [
       "shape: (5, 1)\n",
       "┌───────────────────────┐\n",
       "│ titulo                │\n",
       "│ ---                   │\n",
       "│ str                   │\n",
       "╞═══════════════════════╡\n",
       "│ The First Descendant  │\n",
       "│ No Man's Sky          │\n",
       "│ Once Human            │\n",
       "│ Red Dead Redemption 2 │\n",
       "│ Chained Together      │\n",
       "└───────────────────────┘"
      ]
     },
     "execution_count": 27,
     "metadata": {},
     "output_type": "execute_result"
    }
   ],
   "source": [
    "df = pl.DataFrame(data=data, schema={'titulo':pl.String})\n",
    "df.head()"
   ]
  },
  {
   "cell_type": "code",
   "execution_count": 28,
   "metadata": {},
   "outputs": [],
   "source": [
    "df.write_csv('genero/aventura.csv')"
   ]
  },
  {
   "cell_type": "markdown",
   "metadata": {},
   "source": [
    "***\n",
    "Me dirijo a la Categoria `Simulacion`"
   ]
  },
  {
   "cell_type": "code",
   "execution_count": 41,
   "metadata": {},
   "outputs": [],
   "source": [
    "url = 'https://store.steampowered.com/search/?tags=599&filter=globaltopsellers&ndl=1'\n",
    "driver.get(url)"
   ]
  },
  {
   "cell_type": "markdown",
   "metadata": {},
   "source": [
    "Hago el Scroll Manualmente"
   ]
  },
  {
   "cell_type": "code",
   "execution_count": 42,
   "metadata": {},
   "outputs": [
    {
     "data": {
      "text/plain": [
       "3271"
      ]
     },
     "execution_count": 42,
     "metadata": {},
     "output_type": "execute_result"
    }
   ],
   "source": [
    "data_html = driver.find_elements(By.XPATH, '//*[@id=\"search_resultsRows\"]/a/div[2]/div[1]/span')\n",
    "len(data_html)"
   ]
  },
  {
   "cell_type": "code",
   "execution_count": 43,
   "metadata": {},
   "outputs": [],
   "source": [
    "data = []\n",
    "for i in range(len(data_html)):\n",
    "    titulo = data_html[i].text\n",
    "    data.append(titulo)"
   ]
  },
  {
   "cell_type": "markdown",
   "metadata": {},
   "source": [
    "Creo el Dataframe y lo paso a un csv"
   ]
  },
  {
   "cell_type": "code",
   "execution_count": 44,
   "metadata": {},
   "outputs": [
    {
     "data": {
      "text/html": [
       "<div><style>\n",
       ".dataframe > thead > tr,\n",
       ".dataframe > tbody > tr {\n",
       "  text-align: right;\n",
       "  white-space: pre-wrap;\n",
       "}\n",
       "</style>\n",
       "<small>shape: (5, 1)</small><table border=\"1\" class=\"dataframe\"><thead><tr><th>titulo</th></tr><tr><td>str</td></tr></thead><tbody><tr><td>&quot;PUBG: BATTLEGROUNDS&quot;</td></tr><tr><td>&quot;Dota 2&quot;</td></tr><tr><td>&quot;No Man&#x27;s Sky&quot;</td></tr><tr><td>&quot;Once Human&quot;</td></tr><tr><td>&quot;Rust&quot;</td></tr></tbody></table></div>"
      ],
      "text/plain": [
       "shape: (5, 1)\n",
       "┌─────────────────────┐\n",
       "│ titulo              │\n",
       "│ ---                 │\n",
       "│ str                 │\n",
       "╞═════════════════════╡\n",
       "│ PUBG: BATTLEGROUNDS │\n",
       "│ Dota 2              │\n",
       "│ No Man's Sky        │\n",
       "│ Once Human          │\n",
       "│ Rust                │\n",
       "└─────────────────────┘"
      ]
     },
     "execution_count": 44,
     "metadata": {},
     "output_type": "execute_result"
    }
   ],
   "source": [
    "df = pl.DataFrame(data=data, schema={'titulo':pl.String})\n",
    "df.head()"
   ]
  },
  {
   "cell_type": "code",
   "execution_count": 45,
   "metadata": {},
   "outputs": [],
   "source": [
    "df.write_csv('genero/simulacion.csv')"
   ]
  },
  {
   "cell_type": "markdown",
   "metadata": {},
   "source": [
    "***\n",
    "Me dirijo a la Categoria `Disparos`"
   ]
  },
  {
   "cell_type": "code",
   "execution_count": 34,
   "metadata": {},
   "outputs": [],
   "source": [
    "url = 'https://store.steampowered.com/search/?tags=1774&filter=globaltopsellers&ndl=1'\n",
    "driver.get(url)"
   ]
  },
  {
   "cell_type": "markdown",
   "metadata": {},
   "source": [
    "Hago el Scroll Manualmente"
   ]
  },
  {
   "cell_type": "code",
   "execution_count": 35,
   "metadata": {},
   "outputs": [
    {
     "data": {
      "text/plain": [
       "1022"
      ]
     },
     "execution_count": 35,
     "metadata": {},
     "output_type": "execute_result"
    }
   ],
   "source": [
    "data_html = driver.find_elements(By.XPATH, '//*[@id=\"search_resultsRows\"]/a/div[2]/div[1]/span')\n",
    "len(data_html)"
   ]
  },
  {
   "cell_type": "code",
   "execution_count": 36,
   "metadata": {},
   "outputs": [],
   "source": [
    "data = []\n",
    "for i in range(len(data_html)):\n",
    "    titulo = data_html[i].text\n",
    "    data.append(titulo)"
   ]
  },
  {
   "cell_type": "markdown",
   "metadata": {},
   "source": [
    "Creo el Dataframe y lo paso a un csv"
   ]
  },
  {
   "cell_type": "code",
   "execution_count": 39,
   "metadata": {},
   "outputs": [
    {
     "name": "stdout",
     "output_type": "stream",
     "text": [
      "(1022, 1)\n"
     ]
    },
    {
     "data": {
      "text/html": [
       "<div><style>\n",
       ".dataframe > thead > tr,\n",
       ".dataframe > tbody > tr {\n",
       "  text-align: right;\n",
       "  white-space: pre-wrap;\n",
       "}\n",
       "</style>\n",
       "<small>shape: (5, 1)</small><table border=\"1\" class=\"dataframe\"><thead><tr><th>titulo</th></tr><tr><td>str</td></tr></thead><tbody><tr><td>&quot;Counter-Strike 2&quot;</td></tr><tr><td>&quot;The First Descendant&quot;</td></tr><tr><td>&quot;PUBG: BATTLEGROUNDS&quot;</td></tr><tr><td>&quot;Warframe&quot;</td></tr><tr><td>&quot;Once Human&quot;</td></tr></tbody></table></div>"
      ],
      "text/plain": [
       "shape: (5, 1)\n",
       "┌──────────────────────┐\n",
       "│ titulo               │\n",
       "│ ---                  │\n",
       "│ str                  │\n",
       "╞══════════════════════╡\n",
       "│ Counter-Strike 2     │\n",
       "│ The First Descendant │\n",
       "│ PUBG: BATTLEGROUNDS  │\n",
       "│ Warframe             │\n",
       "│ Once Human           │\n",
       "└──────────────────────┘"
      ]
     },
     "execution_count": 39,
     "metadata": {},
     "output_type": "execute_result"
    }
   ],
   "source": [
    "df = pl.DataFrame(data=data, schema={'titulo':pl.String})\n",
    "print(df.shape)\n",
    "df.head()"
   ]
  },
  {
   "cell_type": "code",
   "execution_count": 40,
   "metadata": {},
   "outputs": [],
   "source": [
    "df.write_csv('genero/disparos.csv')"
   ]
  },
  {
   "cell_type": "markdown",
   "metadata": {},
   "source": [
    "***\n",
    "Me dirijo a la Categoria `Free to Play`"
   ]
  },
  {
   "cell_type": "code",
   "execution_count": 46,
   "metadata": {},
   "outputs": [],
   "source": [
    "url = 'https://store.steampowered.com/search/?tags=113&filter=globaltopsellers&ndl=1'\n",
    "driver.get(url)"
   ]
  },
  {
   "cell_type": "markdown",
   "metadata": {},
   "source": [
    "Hago el Scroll Manualmente"
   ]
  },
  {
   "cell_type": "code",
   "execution_count": 47,
   "metadata": {},
   "outputs": [
    {
     "data": {
      "text/plain": [
       "401"
      ]
     },
     "execution_count": 47,
     "metadata": {},
     "output_type": "execute_result"
    }
   ],
   "source": [
    "data_html = driver.find_elements(By.XPATH, '//*[@id=\"search_resultsRows\"]/a/div[2]/div[1]/span')\n",
    "len(data_html)"
   ]
  },
  {
   "cell_type": "code",
   "execution_count": 48,
   "metadata": {},
   "outputs": [],
   "source": [
    "data = []\n",
    "for i in range(len(data_html)):\n",
    "    titulo = data_html[i].text\n",
    "    data.append(titulo)"
   ]
  },
  {
   "cell_type": "markdown",
   "metadata": {},
   "source": [
    "Creo el Dataframe y lo paso a un csv"
   ]
  },
  {
   "cell_type": "code",
   "execution_count": 49,
   "metadata": {},
   "outputs": [
    {
     "name": "stdout",
     "output_type": "stream",
     "text": [
      "(401, 1)\n"
     ]
    },
    {
     "data": {
      "text/html": [
       "<div><style>\n",
       ".dataframe > thead > tr,\n",
       ".dataframe > tbody > tr {\n",
       "  text-align: right;\n",
       "  white-space: pre-wrap;\n",
       "}\n",
       "</style>\n",
       "<small>shape: (5, 1)</small><table border=\"1\" class=\"dataframe\"><thead><tr><th>titulo</th></tr><tr><td>str</td></tr></thead><tbody><tr><td>&quot;The First Descendant&quot;</td></tr><tr><td>&quot;Dota 2&quot;</td></tr><tr><td>&quot;Warframe&quot;</td></tr><tr><td>&quot;Once Human&quot;</td></tr><tr><td>&quot;Team Fortress 2&quot;</td></tr></tbody></table></div>"
      ],
      "text/plain": [
       "shape: (5, 1)\n",
       "┌──────────────────────┐\n",
       "│ titulo               │\n",
       "│ ---                  │\n",
       "│ str                  │\n",
       "╞══════════════════════╡\n",
       "│ The First Descendant │\n",
       "│ Dota 2               │\n",
       "│ Warframe             │\n",
       "│ Once Human           │\n",
       "│ Team Fortress 2      │\n",
       "└──────────────────────┘"
      ]
     },
     "execution_count": 49,
     "metadata": {},
     "output_type": "execute_result"
    }
   ],
   "source": [
    "df = pl.DataFrame(data=data, schema={'titulo':pl.String})\n",
    "print(df.shape)\n",
    "df.head()"
   ]
  },
  {
   "cell_type": "code",
   "execution_count": 50,
   "metadata": {},
   "outputs": [],
   "source": [
    "df.write_csv('genero/free_to_play.csv')"
   ]
  },
  {
   "cell_type": "markdown",
   "metadata": {},
   "source": [
    "***\n",
    "Me dirijo a la Categoria `Indie`"
   ]
  },
  {
   "cell_type": "code",
   "execution_count": 51,
   "metadata": {},
   "outputs": [],
   "source": [
    "url = 'https://store.steampowered.com/search/?tags=492&filter=globaltopsellers&ndl=1'\n",
    "driver.get(url)"
   ]
  },
  {
   "cell_type": "markdown",
   "metadata": {},
   "source": [
    "Hago el Scroll Manualmente"
   ]
  },
  {
   "cell_type": "code",
   "execution_count": 52,
   "metadata": {},
   "outputs": [
    {
     "data": {
      "text/plain": [
       "3219"
      ]
     },
     "execution_count": 52,
     "metadata": {},
     "output_type": "execute_result"
    }
   ],
   "source": [
    "data_html = driver.find_elements(By.XPATH, '//*[@id=\"search_resultsRows\"]/a/div[2]/div[1]/span')\n",
    "len(data_html)"
   ]
  },
  {
   "cell_type": "code",
   "execution_count": 53,
   "metadata": {},
   "outputs": [],
   "source": [
    "data = []\n",
    "for i in range(len(data_html)):\n",
    "    titulo = data_html[i].text\n",
    "    data.append(titulo)"
   ]
  },
  {
   "cell_type": "markdown",
   "metadata": {},
   "source": [
    "Creo el Dataframe y lo paso a un csv"
   ]
  },
  {
   "cell_type": "code",
   "execution_count": 54,
   "metadata": {},
   "outputs": [
    {
     "name": "stdout",
     "output_type": "stream",
     "text": [
      "(3219, 1)\n"
     ]
    },
    {
     "data": {
      "text/html": [
       "<div><style>\n",
       ".dataframe > thead > tr,\n",
       ".dataframe > tbody > tr {\n",
       "  text-align: right;\n",
       "  white-space: pre-wrap;\n",
       "}\n",
       "</style>\n",
       "<small>shape: (5, 1)</small><table border=\"1\" class=\"dataframe\"><thead><tr><th>titulo</th></tr><tr><td>str</td></tr></thead><tbody><tr><td>&quot;No Man&#x27;s Sky&quot;</td></tr><tr><td>&quot;Rust&quot;</td></tr><tr><td>&quot;RimWorld&quot;</td></tr><tr><td>&quot;Stardew Valley&quot;</td></tr><tr><td>&quot;Supermarket Simulator&quot;</td></tr></tbody></table></div>"
      ],
      "text/plain": [
       "shape: (5, 1)\n",
       "┌───────────────────────┐\n",
       "│ titulo                │\n",
       "│ ---                   │\n",
       "│ str                   │\n",
       "╞═══════════════════════╡\n",
       "│ No Man's Sky          │\n",
       "│ Rust                  │\n",
       "│ RimWorld              │\n",
       "│ Stardew Valley        │\n",
       "│ Supermarket Simulator │\n",
       "└───────────────────────┘"
      ]
     },
     "execution_count": 54,
     "metadata": {},
     "output_type": "execute_result"
    }
   ],
   "source": [
    "df = pl.DataFrame(data=data, schema={'titulo':pl.String})\n",
    "print(df.shape)\n",
    "df.head()"
   ]
  },
  {
   "cell_type": "code",
   "execution_count": 55,
   "metadata": {},
   "outputs": [],
   "source": [
    "df.write_csv('genero/indie.csv')"
   ]
  },
  {
   "cell_type": "markdown",
   "metadata": {},
   "source": [
    "***\n",
    "Me dirijo a la Categoria `Estrategia`"
   ]
  },
  {
   "cell_type": "code",
   "execution_count": 56,
   "metadata": {},
   "outputs": [],
   "source": [
    "url = 'https://store.steampowered.com/search/?tags=9&filter=globaltopsellers&ndl=1'\n",
    "driver.get(url)"
   ]
  },
  {
   "cell_type": "markdown",
   "metadata": {},
   "source": [
    "Hago el Scroll Manualmente"
   ]
  },
  {
   "cell_type": "code",
   "execution_count": 57,
   "metadata": {},
   "outputs": [
    {
     "data": {
      "text/plain": [
       "2691"
      ]
     },
     "execution_count": 57,
     "metadata": {},
     "output_type": "execute_result"
    }
   ],
   "source": [
    "data_html = driver.find_elements(By.XPATH, '//*[@id=\"search_resultsRows\"]/a/div[2]/div[1]/span')\n",
    "len(data_html)"
   ]
  },
  {
   "cell_type": "code",
   "execution_count": 58,
   "metadata": {},
   "outputs": [],
   "source": [
    "data = []\n",
    "for i in range(len(data_html)):\n",
    "    titulo = data_html[i].text\n",
    "    data.append(titulo)"
   ]
  },
  {
   "cell_type": "markdown",
   "metadata": {},
   "source": [
    "Creo el Dataframe y lo paso a un csv"
   ]
  },
  {
   "cell_type": "code",
   "execution_count": 59,
   "metadata": {},
   "outputs": [
    {
     "name": "stdout",
     "output_type": "stream",
     "text": [
      "(2691, 1)\n"
     ]
    },
    {
     "data": {
      "text/html": [
       "<div><style>\n",
       ".dataframe > thead > tr,\n",
       ".dataframe > tbody > tr {\n",
       "  text-align: right;\n",
       "  white-space: pre-wrap;\n",
       "}\n",
       "</style>\n",
       "<small>shape: (5, 1)</small><table border=\"1\" class=\"dataframe\"><thead><tr><th>titulo</th></tr><tr><td>str</td></tr></thead><tbody><tr><td>&quot;Counter-Strike 2&quot;</td></tr><tr><td>&quot;PUBG: BATTLEGROUNDS&quot;</td></tr><tr><td>&quot;Dota 2&quot;</td></tr><tr><td>&quot;Once Human&quot;</td></tr><tr><td>&quot;Baldur&#x27;s Gate 3&quot;</td></tr></tbody></table></div>"
      ],
      "text/plain": [
       "shape: (5, 1)\n",
       "┌─────────────────────┐\n",
       "│ titulo              │\n",
       "│ ---                 │\n",
       "│ str                 │\n",
       "╞═════════════════════╡\n",
       "│ Counter-Strike 2    │\n",
       "│ PUBG: BATTLEGROUNDS │\n",
       "│ Dota 2              │\n",
       "│ Once Human          │\n",
       "│ Baldur's Gate 3     │\n",
       "└─────────────────────┘"
      ]
     },
     "execution_count": 59,
     "metadata": {},
     "output_type": "execute_result"
    }
   ],
   "source": [
    "df = pl.DataFrame(data=data, schema={'titulo':pl.String})\n",
    "print(df.shape)\n",
    "df.head()"
   ]
  },
  {
   "cell_type": "code",
   "execution_count": 60,
   "metadata": {},
   "outputs": [],
   "source": [
    "df.write_csv('genero/estrategia.csv')"
   ]
  },
  {
   "cell_type": "markdown",
   "metadata": {},
   "source": [
    "***\n",
    "Me dirijo a la Categoria `Rol`"
   ]
  },
  {
   "cell_type": "code",
   "execution_count": 61,
   "metadata": {},
   "outputs": [],
   "source": [
    "url = 'https://store.steampowered.com/search/?tags=122&filter=globaltopsellers&ndl=1'\n",
    "driver.get(url)\n"
   ]
  },
  {
   "cell_type": "markdown",
   "metadata": {},
   "source": [
    "Hago el Scroll Manualmente"
   ]
  },
  {
   "cell_type": "code",
   "execution_count": 62,
   "metadata": {},
   "outputs": [
    {
     "data": {
      "text/plain": [
       "2460"
      ]
     },
     "execution_count": 62,
     "metadata": {},
     "output_type": "execute_result"
    }
   ],
   "source": [
    "data_html = driver.find_elements(By.XPATH, '//*[@id=\"search_resultsRows\"]/a/div[2]/div[1]/span')\n",
    "len(data_html)"
   ]
  },
  {
   "cell_type": "code",
   "execution_count": 63,
   "metadata": {},
   "outputs": [],
   "source": [
    "data = []\n",
    "for i in range(len(data_html)):\n",
    "    titulo = data_html[i].text\n",
    "    data.append(titulo)"
   ]
  },
  {
   "cell_type": "markdown",
   "metadata": {},
   "source": [
    "Creo el Dataframe y lo paso a un csv"
   ]
  },
  {
   "cell_type": "code",
   "execution_count": 64,
   "metadata": {},
   "outputs": [
    {
     "name": "stdout",
     "output_type": "stream",
     "text": [
      "(2460, 1)\n"
     ]
    },
    {
     "data": {
      "text/html": [
       "<div><style>\n",
       ".dataframe > thead > tr,\n",
       ".dataframe > tbody > tr {\n",
       "  text-align: right;\n",
       "  white-space: pre-wrap;\n",
       "}\n",
       "</style>\n",
       "<small>shape: (5, 1)</small><table border=\"1\" class=\"dataframe\"><thead><tr><th>titulo</th></tr><tr><td>str</td></tr></thead><tbody><tr><td>&quot;The First Descendant&quot;</td></tr><tr><td>&quot;Dota 2&quot;</td></tr><tr><td>&quot;Warframe&quot;</td></tr><tr><td>&quot;Once Human&quot;</td></tr><tr><td>&quot;Black Myth: Wukong&quot;</td></tr></tbody></table></div>"
      ],
      "text/plain": [
       "shape: (5, 1)\n",
       "┌──────────────────────┐\n",
       "│ titulo               │\n",
       "│ ---                  │\n",
       "│ str                  │\n",
       "╞══════════════════════╡\n",
       "│ The First Descendant │\n",
       "│ Dota 2               │\n",
       "│ Warframe             │\n",
       "│ Once Human           │\n",
       "│ Black Myth: Wukong   │\n",
       "└──────────────────────┘"
      ]
     },
     "execution_count": 64,
     "metadata": {},
     "output_type": "execute_result"
    }
   ],
   "source": [
    "df = pl.DataFrame(data=data, schema={'titulo':pl.String})\n",
    "print(df.shape)\n",
    "df.head()"
   ]
  },
  {
   "cell_type": "code",
   "execution_count": 65,
   "metadata": {},
   "outputs": [],
   "source": [
    "df.write_csv('genero/rol.csv')"
   ]
  },
  {
   "cell_type": "markdown",
   "metadata": {},
   "source": [
    "***\n",
    "Me dirijo a la Categoria `Primera Persona`"
   ]
  },
  {
   "cell_type": "code",
   "execution_count": 66,
   "metadata": {},
   "outputs": [],
   "source": [
    "url = 'https://store.steampowered.com/search/?tags=3839&filter=globaltopsellers&ndl=1'\n",
    "driver.get(url)"
   ]
  },
  {
   "cell_type": "markdown",
   "metadata": {},
   "source": [
    "Hago el Scroll Manualmente"
   ]
  },
  {
   "cell_type": "code",
   "execution_count": 67,
   "metadata": {},
   "outputs": [
    {
     "data": {
      "text/plain": [
       "1603"
      ]
     },
     "execution_count": 67,
     "metadata": {},
     "output_type": "execute_result"
    }
   ],
   "source": [
    "data_html = driver.find_elements(By.XPATH, '//*[@id=\"search_resultsRows\"]/a/div[2]/div[1]/span')\n",
    "len(data_html)"
   ]
  },
  {
   "cell_type": "code",
   "execution_count": 68,
   "metadata": {},
   "outputs": [],
   "source": [
    "data = []\n",
    "for i in range(len(data_html)):\n",
    "    titulo = data_html[i].text\n",
    "    data.append(titulo)"
   ]
  },
  {
   "cell_type": "markdown",
   "metadata": {},
   "source": [
    "Creo el Dataframe y lo paso a un csv"
   ]
  },
  {
   "cell_type": "code",
   "execution_count": 69,
   "metadata": {},
   "outputs": [
    {
     "name": "stdout",
     "output_type": "stream",
     "text": [
      "(1603, 1)\n"
     ]
    },
    {
     "data": {
      "text/html": [
       "<div><style>\n",
       ".dataframe > thead > tr,\n",
       ".dataframe > tbody > tr {\n",
       "  text-align: right;\n",
       "  white-space: pre-wrap;\n",
       "}\n",
       "</style>\n",
       "<small>shape: (5, 1)</small><table border=\"1\" class=\"dataframe\"><thead><tr><th>titulo</th></tr><tr><td>str</td></tr></thead><tbody><tr><td>&quot;Counter-Strike 2&quot;</td></tr><tr><td>&quot;PUBG: BATTLEGROUNDS&quot;</td></tr><tr><td>&quot;No Man&#x27;s Sky&quot;</td></tr><tr><td>&quot;Red Dead Redemption 2&quot;</td></tr><tr><td>&quot;Rust&quot;</td></tr></tbody></table></div>"
      ],
      "text/plain": [
       "shape: (5, 1)\n",
       "┌───────────────────────┐\n",
       "│ titulo                │\n",
       "│ ---                   │\n",
       "│ str                   │\n",
       "╞═══════════════════════╡\n",
       "│ Counter-Strike 2      │\n",
       "│ PUBG: BATTLEGROUNDS   │\n",
       "│ No Man's Sky          │\n",
       "│ Red Dead Redemption 2 │\n",
       "│ Rust                  │\n",
       "└───────────────────────┘"
      ]
     },
     "execution_count": 69,
     "metadata": {},
     "output_type": "execute_result"
    }
   ],
   "source": [
    "df = pl.DataFrame(data=data, schema={'titulo':pl.String})\n",
    "print(df.shape)\n",
    "df.head()"
   ]
  },
  {
   "cell_type": "code",
   "execution_count": 70,
   "metadata": {},
   "outputs": [],
   "source": [
    "df.write_csv('genero/primera_persona.csv')"
   ]
  },
  {
   "cell_type": "markdown",
   "metadata": {},
   "source": [
    "***\n",
    "Me dirijo a la Categoria `Animacion y Modelado`"
   ]
  },
  {
   "cell_type": "code",
   "execution_count": 71,
   "metadata": {},
   "outputs": [],
   "source": [
    "url = 'https://store.steampowered.com/search/?tags=872&filter=globaltopsellers&ndl=1'\n",
    "driver.get(url)"
   ]
  },
  {
   "cell_type": "markdown",
   "metadata": {},
   "source": [
    "Hago el Scroll Manualmente"
   ]
  },
  {
   "cell_type": "code",
   "execution_count": 72,
   "metadata": {},
   "outputs": [
    {
     "data": {
      "text/plain": [
       "53"
      ]
     },
     "execution_count": 72,
     "metadata": {},
     "output_type": "execute_result"
    }
   ],
   "source": [
    "data_html = driver.find_elements(By.XPATH, '//*[@id=\"search_resultsRows\"]/a/div[2]/div[1]/span')\n",
    "len(data_html)"
   ]
  },
  {
   "cell_type": "code",
   "execution_count": 73,
   "metadata": {},
   "outputs": [],
   "source": [
    "data = []\n",
    "for i in range(len(data_html)):\n",
    "    titulo = data_html[i].text\n",
    "    data.append(titulo)"
   ]
  },
  {
   "cell_type": "markdown",
   "metadata": {},
   "source": [
    "Creo el Dataframe y lo paso a un csv"
   ]
  },
  {
   "cell_type": "code",
   "execution_count": 74,
   "metadata": {},
   "outputs": [
    {
     "name": "stdout",
     "output_type": "stream",
     "text": [
      "(53, 1)\n"
     ]
    },
    {
     "data": {
      "text/html": [
       "<div><style>\n",
       ".dataframe > thead > tr,\n",
       ".dataframe > tbody > tr {\n",
       "  text-align: right;\n",
       "  white-space: pre-wrap;\n",
       "}\n",
       "</style>\n",
       "<small>shape: (5, 1)</small><table border=\"1\" class=\"dataframe\"><thead><tr><th>titulo</th></tr><tr><td>str</td></tr></thead><tbody><tr><td>&quot;Wallpaper Engine&quot;</td></tr><tr><td>&quot;Crosshair X&quot;</td></tr><tr><td>&quot;Aseprite&quot;</td></tr><tr><td>&quot;Substance 3D Painter 2024&quot;</td></tr><tr><td>&quot;VTube Studio&quot;</td></tr></tbody></table></div>"
      ],
      "text/plain": [
       "shape: (5, 1)\n",
       "┌───────────────────────────┐\n",
       "│ titulo                    │\n",
       "│ ---                       │\n",
       "│ str                       │\n",
       "╞═══════════════════════════╡\n",
       "│ Wallpaper Engine          │\n",
       "│ Crosshair X               │\n",
       "│ Aseprite                  │\n",
       "│ Substance 3D Painter 2024 │\n",
       "│ VTube Studio              │\n",
       "└───────────────────────────┘"
      ]
     },
     "execution_count": 74,
     "metadata": {},
     "output_type": "execute_result"
    }
   ],
   "source": [
    "df = pl.DataFrame(data=data, schema={'titulo':pl.String})\n",
    "print(df.shape)\n",
    "df.head()"
   ]
  },
  {
   "cell_type": "code",
   "execution_count": 75,
   "metadata": {},
   "outputs": [],
   "source": [
    "df.write_csv('genero/animacion_modelado.csv')"
   ]
  },
  {
   "cell_type": "markdown",
   "metadata": {},
   "source": [
    "***\n",
    "Me dirijo a la Categoria `Violentos`"
   ]
  },
  {
   "cell_type": "code",
   "execution_count": 76,
   "metadata": {},
   "outputs": [],
   "source": [
    "url = 'https://store.steampowered.com/search/?tags=4667&filter=globaltopsellers&ndl=1'\n",
    "driver.get(url)"
   ]
  },
  {
   "cell_type": "markdown",
   "metadata": {},
   "source": [
    "Hago el Scroll Manualemnte"
   ]
  },
  {
   "cell_type": "code",
   "execution_count": 77,
   "metadata": {},
   "outputs": [
    {
     "data": {
      "text/plain": [
       "1048"
      ]
     },
     "execution_count": 77,
     "metadata": {},
     "output_type": "execute_result"
    }
   ],
   "source": [
    "data_html = driver.find_elements(By.XPATH, '//*[@id=\"search_resultsRows\"]/a/div[2]/div[1]/span')\n",
    "len(data_html)"
   ]
  },
  {
   "cell_type": "code",
   "execution_count": 78,
   "metadata": {},
   "outputs": [],
   "source": [
    "data = []\n",
    "for i in range(len(data_html)):\n",
    "    titulo = data_html[i].text\n",
    "    data.append(titulo)"
   ]
  },
  {
   "cell_type": "markdown",
   "metadata": {},
   "source": [
    "Creo el Dataframe y lo paso a un csv"
   ]
  },
  {
   "cell_type": "code",
   "execution_count": 79,
   "metadata": {},
   "outputs": [
    {
     "name": "stdout",
     "output_type": "stream",
     "text": [
      "(1048, 1)\n"
     ]
    },
    {
     "data": {
      "text/html": [
       "<div><style>\n",
       ".dataframe > thead > tr,\n",
       ".dataframe > tbody > tr {\n",
       "  text-align: right;\n",
       "  white-space: pre-wrap;\n",
       "}\n",
       "</style>\n",
       "<small>shape: (5, 1)</small><table border=\"1\" class=\"dataframe\"><thead><tr><th>titulo</th></tr><tr><td>str</td></tr></thead><tbody><tr><td>&quot;The First Descendant&quot;</td></tr><tr><td>&quot;Black Myth: Wukong&quot;</td></tr><tr><td>&quot;Dead by Daylight&quot;</td></tr><tr><td>&quot;EARTH DEFENSE FORCE 6&quot;</td></tr><tr><td>&quot;Lost Ark&quot;</td></tr></tbody></table></div>"
      ],
      "text/plain": [
       "shape: (5, 1)\n",
       "┌───────────────────────┐\n",
       "│ titulo                │\n",
       "│ ---                   │\n",
       "│ str                   │\n",
       "╞═══════════════════════╡\n",
       "│ The First Descendant  │\n",
       "│ Black Myth: Wukong    │\n",
       "│ Dead by Daylight      │\n",
       "│ EARTH DEFENSE FORCE 6 │\n",
       "│ Lost Ark              │\n",
       "└───────────────────────┘"
      ]
     },
     "execution_count": 79,
     "metadata": {},
     "output_type": "execute_result"
    }
   ],
   "source": [
    "df = pl.DataFrame(data=data, schema={'titulo':pl.String})\n",
    "print(df.shape)\n",
    "df.head()"
   ]
  },
  {
   "cell_type": "code",
   "execution_count": 80,
   "metadata": {},
   "outputs": [],
   "source": [
    "df.write_csv('genero/violentos.csv')"
   ]
  },
  {
   "cell_type": "markdown",
   "metadata": {},
   "source": [
    "***\n",
    "Me dirijo a la Categoria `Multijugador Masivo`"
   ]
  },
  {
   "cell_type": "code",
   "execution_count": 81,
   "metadata": {},
   "outputs": [],
   "source": [
    "url = 'https://store.steampowered.com/search/?tags=128&filter=globaltopsellers&ndl=1'\n",
    "driver.get(url)"
   ]
  },
  {
   "cell_type": "markdown",
   "metadata": {},
   "source": [
    "Hago el Scroll Manualmente"
   ]
  },
  {
   "cell_type": "code",
   "execution_count": 82,
   "metadata": {},
   "outputs": [
    {
     "data": {
      "text/plain": [
       "560"
      ]
     },
     "execution_count": 82,
     "metadata": {},
     "output_type": "execute_result"
    }
   ],
   "source": [
    "data_html = driver.find_elements(By.XPATH, '//*[@id=\"search_resultsRows\"]/a/div[2]/div[1]/span')\n",
    "len(data_html)"
   ]
  },
  {
   "cell_type": "code",
   "execution_count": 83,
   "metadata": {},
   "outputs": [],
   "source": [
    "data = []\n",
    "for i in range(len(data_html)):\n",
    "    titulo = data_html[i].text\n",
    "    data.append(titulo)"
   ]
  },
  {
   "cell_type": "markdown",
   "metadata": {},
   "source": [
    "Creo el dataframe y lo paso a un csv"
   ]
  },
  {
   "cell_type": "code",
   "execution_count": 84,
   "metadata": {},
   "outputs": [
    {
     "name": "stdout",
     "output_type": "stream",
     "text": [
      "(560, 1)\n"
     ]
    },
    {
     "data": {
      "text/html": [
       "<div><style>\n",
       ".dataframe > thead > tr,\n",
       ".dataframe > tbody > tr {\n",
       "  text-align: right;\n",
       "  white-space: pre-wrap;\n",
       "}\n",
       "</style>\n",
       "<small>shape: (5, 1)</small><table border=\"1\" class=\"dataframe\"><thead><tr><th>titulo</th></tr><tr><td>str</td></tr></thead><tbody><tr><td>&quot;Warframe&quot;</td></tr><tr><td>&quot;Destiny 2&quot;</td></tr><tr><td>&quot;War Thunder&quot;</td></tr><tr><td>&quot;NARAKA: BLADEPOINT&quot;</td></tr><tr><td>&quot;Lost Ark&quot;</td></tr></tbody></table></div>"
      ],
      "text/plain": [
       "shape: (5, 1)\n",
       "┌────────────────────┐\n",
       "│ titulo             │\n",
       "│ ---                │\n",
       "│ str                │\n",
       "╞════════════════════╡\n",
       "│ Warframe           │\n",
       "│ Destiny 2          │\n",
       "│ War Thunder        │\n",
       "│ NARAKA: BLADEPOINT │\n",
       "│ Lost Ark           │\n",
       "└────────────────────┘"
      ]
     },
     "execution_count": 84,
     "metadata": {},
     "output_type": "execute_result"
    }
   ],
   "source": [
    "df = pl.DataFrame(data=data, schema={'titulo':pl.String})\n",
    "print(df.shape)\n",
    "df.head()"
   ]
  },
  {
   "cell_type": "code",
   "execution_count": 85,
   "metadata": {},
   "outputs": [],
   "source": [
    "df.write_csv('genero/multijugador_masivo.csv')"
   ]
  },
  {
   "cell_type": "markdown",
   "metadata": {},
   "source": [
    "***\n",
    "Me dirijo a la Categoria `Carreras`"
   ]
  },
  {
   "cell_type": "code",
   "execution_count": 86,
   "metadata": {},
   "outputs": [],
   "source": [
    "url= 'https://store.steampowered.com/search/?tags=699&filter=globaltopsellers&ndl=1'\n",
    "driver.get(url)\n"
   ]
  },
  {
   "cell_type": "markdown",
   "metadata": {},
   "source": [
    "Hago el Scroll Manualmente"
   ]
  },
  {
   "cell_type": "code",
   "execution_count": 87,
   "metadata": {},
   "outputs": [
    {
     "data": {
      "text/plain": [
       "391"
      ]
     },
     "execution_count": 87,
     "metadata": {},
     "output_type": "execute_result"
    }
   ],
   "source": [
    "data_html = driver.find_elements(By.XPATH, '//*[@id=\"search_resultsRows\"]/a/div[2]/div[1]/span')\n",
    "len(data_html)"
   ]
  },
  {
   "cell_type": "code",
   "execution_count": 88,
   "metadata": {},
   "outputs": [],
   "source": [
    "data = []\n",
    "for i in range(len(data_html)):\n",
    "    titulo = data_html[i].text\n",
    "    data.append(titulo)"
   ]
  },
  {
   "cell_type": "markdown",
   "metadata": {},
   "source": [
    "Creo el Dataframe y lo paso a un csv"
   ]
  },
  {
   "cell_type": "code",
   "execution_count": 89,
   "metadata": {},
   "outputs": [
    {
     "name": "stdout",
     "output_type": "stream",
     "text": [
      "(391, 1)\n"
     ]
    },
    {
     "data": {
      "text/html": [
       "<div><style>\n",
       ".dataframe > thead > tr,\n",
       ".dataframe > tbody > tr {\n",
       "  text-align: right;\n",
       "  white-space: pre-wrap;\n",
       "}\n",
       "</style>\n",
       "<small>shape: (5, 1)</small><table border=\"1\" class=\"dataframe\"><thead><tr><th>titulo</th></tr><tr><td>str</td></tr></thead><tbody><tr><td>&quot;Forza Horizon 5&quot;</td></tr><tr><td>&quot;F1® Manager 2024&quot;</td></tr><tr><td>&quot;BeamNG.drive&quot;</td></tr><tr><td>&quot;iRacing&quot;</td></tr><tr><td>&quot;F1® 24&quot;</td></tr></tbody></table></div>"
      ],
      "text/plain": [
       "shape: (5, 1)\n",
       "┌──────────────────┐\n",
       "│ titulo           │\n",
       "│ ---              │\n",
       "│ str              │\n",
       "╞══════════════════╡\n",
       "│ Forza Horizon 5  │\n",
       "│ F1® Manager 2024 │\n",
       "│ BeamNG.drive     │\n",
       "│ iRacing          │\n",
       "│ F1® 24           │\n",
       "└──────────────────┘"
      ]
     },
     "execution_count": 89,
     "metadata": {},
     "output_type": "execute_result"
    }
   ],
   "source": [
    "df = pl.DataFrame(data=data, schema={'titulo':pl.String})\n",
    "print(df.shape)\n",
    "df.head()"
   ]
  },
  {
   "cell_type": "code",
   "execution_count": 90,
   "metadata": {},
   "outputs": [],
   "source": [
    "df.write_csv('genero/carreras.csv')"
   ]
  },
  {
   "cell_type": "markdown",
   "metadata": {},
   "source": [
    "***\n",
    "Me dirijo a la Categoria `Desnudos`"
   ]
  },
  {
   "cell_type": "code",
   "execution_count": 91,
   "metadata": {},
   "outputs": [],
   "source": [
    "url= 'https://store.steampowered.com/search/?tags=6650&filter=globaltopsellers&ndl=1'\n",
    "driver.get(url)"
   ]
  },
  {
   "cell_type": "markdown",
   "metadata": {},
   "source": [
    "Hago el Scroll Manualmente"
   ]
  },
  {
   "cell_type": "code",
   "execution_count": 92,
   "metadata": {},
   "outputs": [
    {
     "data": {
      "text/plain": [
       "514"
      ]
     },
     "execution_count": 92,
     "metadata": {},
     "output_type": "execute_result"
    }
   ],
   "source": [
    "data_html = driver.find_elements(By.XPATH, '//*[@id=\"search_resultsRows\"]/a/div[2]/div[1]/span')\n",
    "len(data_html)"
   ]
  },
  {
   "cell_type": "code",
   "execution_count": 93,
   "metadata": {},
   "outputs": [],
   "source": [
    "data = []\n",
    "for i in range(len(data_html)):\n",
    "    titulo = data_html[i].text\n",
    "    data.append(titulo)"
   ]
  },
  {
   "cell_type": "markdown",
   "metadata": {},
   "source": [
    "Creo el DataFrame y lo paso a un csv"
   ]
  },
  {
   "cell_type": "code",
   "execution_count": 94,
   "metadata": {},
   "outputs": [
    {
     "name": "stdout",
     "output_type": "stream",
     "text": [
      "(514, 1)\n"
     ]
    },
    {
     "data": {
      "text/html": [
       "<div><style>\n",
       ".dataframe > thead > tr,\n",
       ".dataframe > tbody > tr {\n",
       "  text-align: right;\n",
       "  white-space: pre-wrap;\n",
       "}\n",
       "</style>\n",
       "<small>shape: (5, 1)</small><table border=\"1\" class=\"dataframe\"><thead><tr><th>titulo</th></tr><tr><td>str</td></tr></thead><tbody><tr><td>&quot;Rust&quot;</td></tr><tr><td>&quot;Black Myth: Wukong&quot;</td></tr><tr><td>&quot;Baldur&#x27;s Gate 3&quot;</td></tr><tr><td>&quot;Cyberpunk 2077&quot;</td></tr><tr><td>&quot;Snowbreak: Containment Zone&quot;</td></tr></tbody></table></div>"
      ],
      "text/plain": [
       "shape: (5, 1)\n",
       "┌─────────────────────────────┐\n",
       "│ titulo                      │\n",
       "│ ---                         │\n",
       "│ str                         │\n",
       "╞═════════════════════════════╡\n",
       "│ Rust                        │\n",
       "│ Black Myth: Wukong          │\n",
       "│ Baldur's Gate 3             │\n",
       "│ Cyberpunk 2077              │\n",
       "│ Snowbreak: Containment Zone │\n",
       "└─────────────────────────────┘"
      ]
     },
     "execution_count": 94,
     "metadata": {},
     "output_type": "execute_result"
    }
   ],
   "source": [
    "df = pl.DataFrame(data=data, schema={'titulo':pl.String})\n",
    "print(df.shape)\n",
    "df.head()"
   ]
  },
  {
   "cell_type": "code",
   "execution_count": 95,
   "metadata": {},
   "outputs": [],
   "source": [
    "df.write_csv('genero/desnudos.csv')"
   ]
  },
  {
   "cell_type": "markdown",
   "metadata": {},
   "source": [
    "***\n",
    "Me dirijo a la Categoria `Deportes`"
   ]
  },
  {
   "cell_type": "code",
   "execution_count": 96,
   "metadata": {},
   "outputs": [],
   "source": [
    "url = 'https://store.steampowered.com/search/?tags=701&filter=globaltopsellers&ndl=1'\n",
    "driver.get(url)"
   ]
  },
  {
   "cell_type": "markdown",
   "metadata": {},
   "source": [
    "Hago el Scroll Manualmente"
   ]
  },
  {
   "cell_type": "code",
   "execution_count": 97,
   "metadata": {},
   "outputs": [
    {
     "data": {
      "text/plain": [
       "493"
      ]
     },
     "execution_count": 97,
     "metadata": {},
     "output_type": "execute_result"
    }
   ],
   "source": [
    "data_html = driver.find_elements(By.XPATH, '//*[@id=\"search_resultsRows\"]/a/div[2]/div[1]/span')\n",
    "len(data_html)"
   ]
  },
  {
   "cell_type": "code",
   "execution_count": 98,
   "metadata": {},
   "outputs": [],
   "source": [
    "data = []\n",
    "for i in range(len(data_html)):\n",
    "    titulo = data_html[i].text\n",
    "    data.append(titulo)"
   ]
  },
  {
   "cell_type": "markdown",
   "metadata": {},
   "source": [
    "Creo el Dataframe y lo paso a un csv"
   ]
  },
  {
   "cell_type": "code",
   "execution_count": 99,
   "metadata": {},
   "outputs": [
    {
     "name": "stdout",
     "output_type": "stream",
     "text": [
      "(493, 1)\n"
     ]
    },
    {
     "data": {
      "text/html": [
       "<div><style>\n",
       ".dataframe > thead > tr,\n",
       ".dataframe > tbody > tr {\n",
       "  text-align: right;\n",
       "  white-space: pre-wrap;\n",
       "}\n",
       "</style>\n",
       "<small>shape: (5, 1)</small><table border=\"1\" class=\"dataframe\"><thead><tr><th>titulo</th></tr><tr><td>str</td></tr></thead><tbody><tr><td>&quot;EA SPORTS FC™ 24&quot;</td></tr><tr><td>&quot;EA SPORTS FC™ 25&quot;</td></tr><tr><td>&quot;Forza Horizon 5&quot;</td></tr><tr><td>&quot;F1® Manager 2024&quot;</td></tr><tr><td>&quot;NBA 2K24&quot;</td></tr></tbody></table></div>"
      ],
      "text/plain": [
       "shape: (5, 1)\n",
       "┌──────────────────┐\n",
       "│ titulo           │\n",
       "│ ---              │\n",
       "│ str              │\n",
       "╞══════════════════╡\n",
       "│ EA SPORTS FC™ 24 │\n",
       "│ EA SPORTS FC™ 25 │\n",
       "│ Forza Horizon 5  │\n",
       "│ F1® Manager 2024 │\n",
       "│ NBA 2K24         │\n",
       "└──────────────────┘"
      ]
     },
     "execution_count": 99,
     "metadata": {},
     "output_type": "execute_result"
    }
   ],
   "source": [
    "df = pl.DataFrame(data=data, schema={'titulo':pl.String})\n",
    "print(df.shape)\n",
    "df.head()"
   ]
  },
  {
   "cell_type": "code",
   "execution_count": 100,
   "metadata": {},
   "outputs": [],
   "source": [
    "df.write_csv('genero/deportes.csv')"
   ]
  },
  {
   "cell_type": "markdown",
   "metadata": {},
   "source": [
    "***\n",
    "Me dirijo a la Categoria `Sangriento`"
   ]
  },
  {
   "cell_type": "code",
   "execution_count": 101,
   "metadata": {},
   "outputs": [],
   "source": [
    "url = 'https://store.steampowered.com/search/?tags=4345&filter=globaltopsellers&ndl=1'\n",
    "driver.get(url)"
   ]
  },
  {
   "cell_type": "markdown",
   "metadata": {},
   "source": [
    "Hago el Scroll Manualmente"
   ]
  },
  {
   "cell_type": "code",
   "execution_count": 102,
   "metadata": {},
   "outputs": [
    {
     "data": {
      "text/plain": [
       "990"
      ]
     },
     "execution_count": 102,
     "metadata": {},
     "output_type": "execute_result"
    }
   ],
   "source": [
    "data_html = driver.find_elements(By.XPATH, '//*[@id=\"search_resultsRows\"]/a/div[2]/div[1]/span')\n",
    "len(data_html)"
   ]
  },
  {
   "cell_type": "code",
   "execution_count": 103,
   "metadata": {},
   "outputs": [],
   "source": [
    "data = []\n",
    "for i in range(len(data_html)):\n",
    "    titulo = data_html[i].text\n",
    "    data.append(titulo)"
   ]
  },
  {
   "cell_type": "markdown",
   "metadata": {},
   "source": [
    "Creo el Dataframe y lo paso a un csv"
   ]
  },
  {
   "cell_type": "code",
   "execution_count": 104,
   "metadata": {},
   "outputs": [
    {
     "name": "stdout",
     "output_type": "stream",
     "text": [
      "(990, 1)\n"
     ]
    },
    {
     "data": {
      "text/html": [
       "<div><style>\n",
       ".dataframe > thead > tr,\n",
       ".dataframe > tbody > tr {\n",
       "  text-align: right;\n",
       "  white-space: pre-wrap;\n",
       "}\n",
       "</style>\n",
       "<small>shape: (5, 1)</small><table border=\"1\" class=\"dataframe\"><thead><tr><th>titulo</th></tr><tr><td>str</td></tr></thead><tbody><tr><td>&quot;Red Dead Redemption 2&quot;</td></tr><tr><td>&quot;Dead by Daylight&quot;</td></tr><tr><td>&quot;EARTH DEFENSE FORCE 6&quot;</td></tr><tr><td>&quot;NARAKA: BLADEPOINT&quot;</td></tr><tr><td>&quot;Lost Ark&quot;</td></tr></tbody></table></div>"
      ],
      "text/plain": [
       "shape: (5, 1)\n",
       "┌───────────────────────┐\n",
       "│ titulo                │\n",
       "│ ---                   │\n",
       "│ str                   │\n",
       "╞═══════════════════════╡\n",
       "│ Red Dead Redemption 2 │\n",
       "│ Dead by Daylight      │\n",
       "│ EARTH DEFENSE FORCE 6 │\n",
       "│ NARAKA: BLADEPOINT    │\n",
       "│ Lost Ark              │\n",
       "└───────────────────────┘"
      ]
     },
     "execution_count": 104,
     "metadata": {},
     "output_type": "execute_result"
    }
   ],
   "source": [
    "df = pl.DataFrame(data=data, schema={'titulo':pl.String})\n",
    "print(df.shape)\n",
    "df.head()"
   ]
  },
  {
   "cell_type": "code",
   "execution_count": 105,
   "metadata": {},
   "outputs": [],
   "source": [
    "df.write_csv('genero/sangriento.csv')"
   ]
  },
  {
   "cell_type": "markdown",
   "metadata": {},
   "source": [
    "***\n",
    "Me dirijo a la Categoria `Utilidades`"
   ]
  },
  {
   "cell_type": "code",
   "execution_count": 106,
   "metadata": {},
   "outputs": [],
   "source": [
    "url = 'https://store.steampowered.com/search/?tags=87&filter=globaltopsellers&ndl=1'\n",
    "driver.get(url)"
   ]
  },
  {
   "cell_type": "markdown",
   "metadata": {},
   "source": [
    "Hago el Scroll Manualmente"
   ]
  },
  {
   "cell_type": "code",
   "execution_count": 107,
   "metadata": {},
   "outputs": [
    {
     "data": {
      "text/plain": [
       "92"
      ]
     },
     "execution_count": 107,
     "metadata": {},
     "output_type": "execute_result"
    }
   ],
   "source": [
    "data_html = driver.find_elements(By.XPATH, '//*[@id=\"search_resultsRows\"]/a/div[2]/div[1]/span')\n",
    "len(data_html)"
   ]
  },
  {
   "cell_type": "code",
   "execution_count": 108,
   "metadata": {},
   "outputs": [],
   "source": [
    "data = []\n",
    "for i in range(len(data_html)):\n",
    "    titulo = data_html[i].text\n",
    "    data.append(titulo)"
   ]
  },
  {
   "cell_type": "markdown",
   "metadata": {},
   "source": [
    "Creo un Dataframe y lo paso a un csv"
   ]
  },
  {
   "cell_type": "code",
   "execution_count": 109,
   "metadata": {},
   "outputs": [
    {
     "name": "stdout",
     "output_type": "stream",
     "text": [
      "(92, 1)\n"
     ]
    },
    {
     "data": {
      "text/html": [
       "<div><style>\n",
       ".dataframe > thead > tr,\n",
       ".dataframe > tbody > tr {\n",
       "  text-align: right;\n",
       "  white-space: pre-wrap;\n",
       "}\n",
       "</style>\n",
       "<small>shape: (5, 1)</small><table border=\"1\" class=\"dataframe\"><thead><tr><th>titulo</th></tr><tr><td>str</td></tr></thead><tbody><tr><td>&quot;Wallpaper Engine&quot;</td></tr><tr><td>&quot;Lossless Scaling&quot;</td></tr><tr><td>&quot;Crosshair X&quot;</td></tr><tr><td>&quot;Soundpad&quot;</td></tr><tr><td>&quot;Spirit City: Lofi Sessions&quot;</td></tr></tbody></table></div>"
      ],
      "text/plain": [
       "shape: (5, 1)\n",
       "┌────────────────────────────┐\n",
       "│ titulo                     │\n",
       "│ ---                        │\n",
       "│ str                        │\n",
       "╞════════════════════════════╡\n",
       "│ Wallpaper Engine           │\n",
       "│ Lossless Scaling           │\n",
       "│ Crosshair X                │\n",
       "│ Soundpad                   │\n",
       "│ Spirit City: Lofi Sessions │\n",
       "└────────────────────────────┘"
      ]
     },
     "execution_count": 109,
     "metadata": {},
     "output_type": "execute_result"
    }
   ],
   "source": [
    "df = pl.DataFrame(data=data, schema={'titulo':pl.String})\n",
    "print(df.shape)\n",
    "df.head()"
   ]
  },
  {
   "cell_type": "code",
   "execution_count": 110,
   "metadata": {},
   "outputs": [],
   "source": [
    "df.write_csv('genero/utilidades.csv')"
   ]
  },
  {
   "cell_type": "markdown",
   "metadata": {},
   "source": [
    "***\n",
    "Me dirijo a la Categoria `Diseño e Ilustracion`"
   ]
  },
  {
   "cell_type": "code",
   "execution_count": 111,
   "metadata": {},
   "outputs": [],
   "source": [
    "url = 'https://store.steampowered.com/search/?tags=84&filter=globaltopsellers&ndl=1'\n",
    "driver.get(url)"
   ]
  },
  {
   "cell_type": "markdown",
   "metadata": {},
   "source": [
    "Hago el Scroll Manualmente"
   ]
  },
  {
   "cell_type": "code",
   "execution_count": 112,
   "metadata": {},
   "outputs": [
    {
     "data": {
      "text/plain": [
       "103"
      ]
     },
     "execution_count": 112,
     "metadata": {},
     "output_type": "execute_result"
    }
   ],
   "source": [
    "data_html = driver.find_elements(By.XPATH, '//*[@id=\"search_resultsRows\"]/a/div[2]/div[1]/span')\n",
    "len(data_html)"
   ]
  },
  {
   "cell_type": "code",
   "execution_count": 113,
   "metadata": {},
   "outputs": [],
   "source": [
    "data = []\n",
    "for i in range(len(data_html)):\n",
    "    titulo = data_html[i].text\n",
    "    data.append(titulo)"
   ]
  },
  {
   "cell_type": "markdown",
   "metadata": {},
   "source": [
    "Creo el Dataframe y lo paso a un csv"
   ]
  },
  {
   "cell_type": "code",
   "execution_count": 114,
   "metadata": {},
   "outputs": [
    {
     "name": "stdout",
     "output_type": "stream",
     "text": [
      "(103, 1)\n"
     ]
    },
    {
     "data": {
      "text/html": [
       "<div><style>\n",
       ".dataframe > thead > tr,\n",
       ".dataframe > tbody > tr {\n",
       "  text-align: right;\n",
       "  white-space: pre-wrap;\n",
       "}\n",
       "</style>\n",
       "<small>shape: (5, 1)</small><table border=\"1\" class=\"dataframe\"><thead><tr><th>titulo</th></tr><tr><td>str</td></tr></thead><tbody><tr><td>&quot;Wallpaper Engine&quot;</td></tr><tr><td>&quot;House Flipper 2&quot;</td></tr><tr><td>&quot;Gas Station Simulator&quot;</td></tr><tr><td>&quot;House Flipper&quot;</td></tr><tr><td>&quot;Crosshair X&quot;</td></tr></tbody></table></div>"
      ],
      "text/plain": [
       "shape: (5, 1)\n",
       "┌───────────────────────┐\n",
       "│ titulo                │\n",
       "│ ---                   │\n",
       "│ str                   │\n",
       "╞═══════════════════════╡\n",
       "│ Wallpaper Engine      │\n",
       "│ House Flipper 2       │\n",
       "│ Gas Station Simulator │\n",
       "│ House Flipper         │\n",
       "│ Crosshair X           │\n",
       "└───────────────────────┘"
      ]
     },
     "execution_count": 114,
     "metadata": {},
     "output_type": "execute_result"
    }
   ],
   "source": [
    "df = pl.DataFrame(data=data, schema={'titulo':pl.String})\n",
    "print(df.shape)\n",
    "df.head()"
   ]
  },
  {
   "cell_type": "code",
   "execution_count": 115,
   "metadata": {},
   "outputs": [],
   "source": [
    "df.write_csv('genero/diseno_ilustracion.csv')"
   ]
  },
  {
   "cell_type": "markdown",
   "metadata": {},
   "source": [
    "***\n",
    "Me dirijo a la Categoria `Publicacion Web`"
   ]
  },
  {
   "cell_type": "code",
   "execution_count": 116,
   "metadata": {},
   "outputs": [],
   "source": [
    "url = 'https://store.steampowered.com/search/?tags=1038&filter=globaltopsellers&ndl=1'\n",
    "driver.get(url)"
   ]
  },
  {
   "cell_type": "code",
   "execution_count": 117,
   "metadata": {},
   "outputs": [
    {
     "data": {
      "text/plain": [
       "16"
      ]
     },
     "execution_count": 117,
     "metadata": {},
     "output_type": "execute_result"
    }
   ],
   "source": [
    "data_html = driver.find_elements(By.XPATH, '//*[@id=\"search_resultsRows\"]/a/div[2]/div[1]/span')\n",
    "len(data_html)"
   ]
  },
  {
   "cell_type": "code",
   "execution_count": 118,
   "metadata": {},
   "outputs": [],
   "source": [
    "data = []\n",
    "for i in range(len(data_html)):\n",
    "    titulo = data_html[i].text\n",
    "    data.append(titulo)"
   ]
  },
  {
   "cell_type": "markdown",
   "metadata": {},
   "source": [
    "Creo el Dataframe y lo paso a un csv"
   ]
  },
  {
   "cell_type": "code",
   "execution_count": 119,
   "metadata": {},
   "outputs": [
    {
     "name": "stdout",
     "output_type": "stream",
     "text": [
      "(16, 1)\n"
     ]
    },
    {
     "data": {
      "text/html": [
       "<div><style>\n",
       ".dataframe > thead > tr,\n",
       ".dataframe > tbody > tr {\n",
       "  text-align: right;\n",
       "  white-space: pre-wrap;\n",
       "}\n",
       "</style>\n",
       "<small>shape: (5, 1)</small><table border=\"1\" class=\"dataframe\"><thead><tr><th>titulo</th></tr><tr><td>str</td></tr></thead><tbody><tr><td>&quot;RPG Maker MZ&quot;</td></tr><tr><td>&quot;RPG Maker MV&quot;</td></tr><tr><td>&quot;Stream Avatars&quot;</td></tr><tr><td>&quot;Movavi Video Editor 2023&quot;</td></tr><tr><td>&quot;RPG Maker XP&quot;</td></tr></tbody></table></div>"
      ],
      "text/plain": [
       "shape: (5, 1)\n",
       "┌──────────────────────────┐\n",
       "│ titulo                   │\n",
       "│ ---                      │\n",
       "│ str                      │\n",
       "╞══════════════════════════╡\n",
       "│ RPG Maker MZ             │\n",
       "│ RPG Maker MV             │\n",
       "│ Stream Avatars           │\n",
       "│ Movavi Video Editor 2023 │\n",
       "│ RPG Maker XP             │\n",
       "└──────────────────────────┘"
      ]
     },
     "execution_count": 119,
     "metadata": {},
     "output_type": "execute_result"
    }
   ],
   "source": [
    "df = pl.DataFrame(data=data, schema={'titulo':pl.String})\n",
    "print(df.shape)\n",
    "df.head()"
   ]
  },
  {
   "cell_type": "code",
   "execution_count": 120,
   "metadata": {},
   "outputs": [],
   "source": [
    "df.write_csv('genero/publicacion_web.csv')"
   ]
  },
  {
   "cell_type": "markdown",
   "metadata": {},
   "source": [
    "***\n",
    "Me dirijo a la categoria `Educacion`"
   ]
  },
  {
   "cell_type": "code",
   "execution_count": 121,
   "metadata": {},
   "outputs": [],
   "source": [
    "url = 'https://store.steampowered.com/search/?tags=1036&filter=globaltopsellers&ndl=1'\n",
    "driver.get(url)"
   ]
  },
  {
   "cell_type": "markdown",
   "metadata": {},
   "source": [
    "Hago el Scroll Manualmente"
   ]
  },
  {
   "cell_type": "code",
   "execution_count": 122,
   "metadata": {},
   "outputs": [
    {
     "data": {
      "text/plain": [
       "223"
      ]
     },
     "execution_count": 122,
     "metadata": {},
     "output_type": "execute_result"
    }
   ],
   "source": [
    "data_html = driver.find_elements(By.XPATH, '//*[@id=\"search_resultsRows\"]/a/div[2]/div[1]/span')\n",
    "len(data_html)"
   ]
  },
  {
   "cell_type": "code",
   "execution_count": 123,
   "metadata": {},
   "outputs": [],
   "source": [
    "data = []\n",
    "for i in range(len(data_html)):\n",
    "    titulo = data_html[i].text\n",
    "    data.append(titulo)"
   ]
  },
  {
   "cell_type": "markdown",
   "metadata": {},
   "source": [
    "Creo el Dataframe y lo paso a un csv"
   ]
  },
  {
   "cell_type": "code",
   "execution_count": 124,
   "metadata": {},
   "outputs": [
    {
     "name": "stdout",
     "output_type": "stream",
     "text": [
      "(223, 1)\n"
     ]
    },
    {
     "data": {
      "text/html": [
       "<div><style>\n",
       ".dataframe > thead > tr,\n",
       ".dataframe > tbody > tr {\n",
       "  text-align: right;\n",
       "  white-space: pre-wrap;\n",
       "}\n",
       "</style>\n",
       "<small>shape: (5, 1)</small><table border=\"1\" class=\"dataframe\"><thead><tr><th>titulo</th></tr><tr><td>str</td></tr></thead><tbody><tr><td>&quot;ContractVille&quot;</td></tr><tr><td>&quot;The Farmer Was Replaced&quot;</td></tr><tr><td>&quot;Police Simulator: Patrol Offic…</td></tr><tr><td>&quot;Car Mechanic Simulator 2021&quot;</td></tr><tr><td>&quot;House Flipper 2&quot;</td></tr></tbody></table></div>"
      ],
      "text/plain": [
       "shape: (5, 1)\n",
       "┌─────────────────────────────────┐\n",
       "│ titulo                          │\n",
       "│ ---                             │\n",
       "│ str                             │\n",
       "╞═════════════════════════════════╡\n",
       "│ ContractVille                   │\n",
       "│ The Farmer Was Replaced         │\n",
       "│ Police Simulator: Patrol Offic… │\n",
       "│ Car Mechanic Simulator 2021     │\n",
       "│ House Flipper 2                 │\n",
       "└─────────────────────────────────┘"
      ]
     },
     "execution_count": 124,
     "metadata": {},
     "output_type": "execute_result"
    }
   ],
   "source": [
    "df = pl.DataFrame(data=data, schema={'titulo':pl.String})\n",
    "print(df.shape)\n",
    "df.head()"
   ]
  },
  {
   "cell_type": "code",
   "execution_count": 125,
   "metadata": {},
   "outputs": [],
   "source": [
    "df.write_csv('genero/educacion.csv')"
   ]
  },
  {
   "cell_type": "markdown",
   "metadata": {},
   "source": [
    "***\n",
    "Me dirijo a la Categoria `Formacion de Software`"
   ]
  },
  {
   "cell_type": "code",
   "execution_count": 126,
   "metadata": {},
   "outputs": [],
   "source": [
    "url = 'https://store.steampowered.com/search/?tags=1445%2C8013&filter=globaltopsellers&ndl=1'\n",
    "driver.get(url)"
   ]
  },
  {
   "cell_type": "code",
   "execution_count": 127,
   "metadata": {},
   "outputs": [
    {
     "data": {
      "text/plain": [
       "12"
      ]
     },
     "execution_count": 127,
     "metadata": {},
     "output_type": "execute_result"
    }
   ],
   "source": [
    "data_html = driver.find_elements(By.XPATH, '//*[@id=\"search_resultsRows\"]/a/div[2]/div[1]/span')\n",
    "len(data_html)"
   ]
  },
  {
   "cell_type": "code",
   "execution_count": 128,
   "metadata": {},
   "outputs": [],
   "source": [
    "data = []\n",
    "for i in range(len(data_html)):\n",
    "    titulo = data_html[i].text\n",
    "    data.append(titulo)"
   ]
  },
  {
   "cell_type": "markdown",
   "metadata": {},
   "source": [
    "Creo el Dataframe y lo paso a un csv"
   ]
  },
  {
   "cell_type": "code",
   "execution_count": 129,
   "metadata": {},
   "outputs": [
    {
     "name": "stdout",
     "output_type": "stream",
     "text": [
      "(12, 1)\n"
     ]
    },
    {
     "data": {
      "text/html": [
       "<div><style>\n",
       ".dataframe > thead > tr,\n",
       ".dataframe > tbody > tr {\n",
       "  text-align: right;\n",
       "  white-space: pre-wrap;\n",
       "}\n",
       "</style>\n",
       "<small>shape: (5, 1)</small><table border=\"1\" class=\"dataframe\"><thead><tr><th>titulo</th></tr><tr><td>str</td></tr></thead><tbody><tr><td>&quot;Oblivity - Find your perfect S…</td></tr><tr><td>&quot;Movavi Video Editor 2023&quot;</td></tr><tr><td>&quot;YoloMouse - Game Cursor Change…</td></tr><tr><td>&quot;Movavi Video Editor 2024&quot;</td></tr><tr><td>&quot;HudSight - custom crosshair ov…</td></tr></tbody></table></div>"
      ],
      "text/plain": [
       "shape: (5, 1)\n",
       "┌─────────────────────────────────┐\n",
       "│ titulo                          │\n",
       "│ ---                             │\n",
       "│ str                             │\n",
       "╞═════════════════════════════════╡\n",
       "│ Oblivity - Find your perfect S… │\n",
       "│ Movavi Video Editor 2023        │\n",
       "│ YoloMouse - Game Cursor Change… │\n",
       "│ Movavi Video Editor 2024        │\n",
       "│ HudSight - custom crosshair ov… │\n",
       "└─────────────────────────────────┘"
      ]
     },
     "execution_count": 129,
     "metadata": {},
     "output_type": "execute_result"
    }
   ],
   "source": [
    "df = pl.DataFrame(data=data, schema={'titulo':pl.String})\n",
    "print(df.shape)\n",
    "df.head()"
   ]
  },
  {
   "cell_type": "code",
   "execution_count": 130,
   "metadata": {},
   "outputs": [],
   "source": [
    "df.write_csv('genero/formacion_software.csv')"
   ]
  },
  {
   "cell_type": "markdown",
   "metadata": {},
   "source": [
    "***\n",
    "Me dirijo a la Categoria `Contenido Sexual`"
   ]
  },
  {
   "cell_type": "code",
   "execution_count": 131,
   "metadata": {},
   "outputs": [],
   "source": [
    "url = 'https://store.steampowered.com/search/?tags=12095&filter=globaltopsellers&ndl=1'\n",
    "driver.get(url)"
   ]
  },
  {
   "cell_type": "markdown",
   "metadata": {},
   "source": [
    "Hago el Scroll Manualmente"
   ]
  },
  {
   "cell_type": "code",
   "execution_count": 133,
   "metadata": {},
   "outputs": [
    {
     "data": {
      "text/plain": [
       "588"
      ]
     },
     "execution_count": 133,
     "metadata": {},
     "output_type": "execute_result"
    }
   ],
   "source": [
    "data_html = driver.find_elements(By.XPATH, '//*[@id=\"search_resultsRows\"]/a/div[2]/div[1]/span')\n",
    "len(data_html)"
   ]
  },
  {
   "cell_type": "code",
   "execution_count": 134,
   "metadata": {},
   "outputs": [],
   "source": [
    "data = []\n",
    "for i in range(len(data_html)):\n",
    "    titulo = data_html[i].text\n",
    "    data.append(titulo)"
   ]
  },
  {
   "cell_type": "markdown",
   "metadata": {},
   "source": [
    "Creo el Dataframe y lo paso a un csv"
   ]
  },
  {
   "cell_type": "code",
   "execution_count": 135,
   "metadata": {},
   "outputs": [
    {
     "name": "stdout",
     "output_type": "stream",
     "text": [
      "(588, 1)\n"
     ]
    },
    {
     "data": {
      "text/html": [
       "<div><style>\n",
       ".dataframe > thead > tr,\n",
       ".dataframe > tbody > tr {\n",
       "  text-align: right;\n",
       "  white-space: pre-wrap;\n",
       "}\n",
       "</style>\n",
       "<small>shape: (5, 1)</small><table border=\"1\" class=\"dataframe\"><thead><tr><th>titulo</th></tr><tr><td>str</td></tr></thead><tbody><tr><td>&quot;The First Descendant&quot;</td></tr><tr><td>&quot;Baldur&#x27;s Gate 3&quot;</td></tr><tr><td>&quot;Lost Ark&quot;</td></tr><tr><td>&quot;Yu-Gi-Oh! Master Duel&quot;</td></tr><tr><td>&quot;Cyberpunk 2077: Phantom Libert…</td></tr></tbody></table></div>"
      ],
      "text/plain": [
       "shape: (5, 1)\n",
       "┌─────────────────────────────────┐\n",
       "│ titulo                          │\n",
       "│ ---                             │\n",
       "│ str                             │\n",
       "╞═════════════════════════════════╡\n",
       "│ The First Descendant            │\n",
       "│ Baldur's Gate 3                 │\n",
       "│ Lost Ark                        │\n",
       "│ Yu-Gi-Oh! Master Duel           │\n",
       "│ Cyberpunk 2077: Phantom Libert… │\n",
       "└─────────────────────────────────┘"
      ]
     },
     "execution_count": 135,
     "metadata": {},
     "output_type": "execute_result"
    }
   ],
   "source": [
    "df = pl.DataFrame(data=data, schema={'titulo':pl.String})\n",
    "print(df.shape)\n",
    "df.head()"
   ]
  },
  {
   "cell_type": "code",
   "execution_count": 136,
   "metadata": {},
   "outputs": [],
   "source": [
    "df.write_csv('genero/contenido_sexual.csv')"
   ]
  },
  {
   "cell_type": "markdown",
   "metadata": {},
   "source": [
    "***\n",
    "Me dirijo a la Categoria `Produccion de Audio`"
   ]
  },
  {
   "cell_type": "code",
   "execution_count": 137,
   "metadata": {},
   "outputs": [],
   "source": [
    "url = 'https://store.steampowered.com/search/?tags=1027&filter=globaltopsellers&ndl=1'\n",
    "driver.get(url)"
   ]
  },
  {
   "cell_type": "code",
   "execution_count": 138,
   "metadata": {},
   "outputs": [
    {
     "data": {
      "text/plain": [
       "17"
      ]
     },
     "execution_count": 138,
     "metadata": {},
     "output_type": "execute_result"
    }
   ],
   "source": [
    "data_html = driver.find_elements(By.XPATH, '//*[@id=\"search_resultsRows\"]/a/div[2]/div[1]/span')\n",
    "len(data_html)"
   ]
  },
  {
   "cell_type": "code",
   "execution_count": 139,
   "metadata": {},
   "outputs": [],
   "source": [
    "data = []\n",
    "for i in range(len(data_html)):\n",
    "    titulo = data_html[i].text\n",
    "    data.append(titulo)"
   ]
  },
  {
   "cell_type": "markdown",
   "metadata": {},
   "source": [
    "Creo el Dataframe y lo paso a un csv"
   ]
  },
  {
   "cell_type": "code",
   "execution_count": 140,
   "metadata": {},
   "outputs": [
    {
     "name": "stdout",
     "output_type": "stream",
     "text": [
      "(17, 1)\n"
     ]
    },
    {
     "data": {
      "text/html": [
       "<div><style>\n",
       ".dataframe > thead > tr,\n",
       ".dataframe > tbody > tr {\n",
       "  text-align: right;\n",
       "  white-space: pre-wrap;\n",
       "}\n",
       "</style>\n",
       "<small>shape: (5, 1)</small><table border=\"1\" class=\"dataframe\"><thead><tr><th>titulo</th></tr><tr><td>str</td></tr></thead><tbody><tr><td>&quot;Soundpad&quot;</td></tr><tr><td>&quot;Stream Avatars&quot;</td></tr><tr><td>&quot;Movavi Video Editor 2023&quot;</td></tr><tr><td>&quot;Incredibox&quot;</td></tr><tr><td>&quot;Spin Rhythm XD&quot;</td></tr></tbody></table></div>"
      ],
      "text/plain": [
       "shape: (5, 1)\n",
       "┌──────────────────────────┐\n",
       "│ titulo                   │\n",
       "│ ---                      │\n",
       "│ str                      │\n",
       "╞══════════════════════════╡\n",
       "│ Soundpad                 │\n",
       "│ Stream Avatars           │\n",
       "│ Movavi Video Editor 2023 │\n",
       "│ Incredibox               │\n",
       "│ Spin Rhythm XD           │\n",
       "└──────────────────────────┘"
      ]
     },
     "execution_count": 140,
     "metadata": {},
     "output_type": "execute_result"
    }
   ],
   "source": [
    "df = pl.DataFrame(data=data, schema={'titulo':pl.String})\n",
    "print(df.shape)\n",
    "df.head()"
   ]
  },
  {
   "cell_type": "code",
   "execution_count": 141,
   "metadata": {},
   "outputs": [],
   "source": [
    "df.write_csv('genero/produccion_audio.csv')"
   ]
  },
  {
   "cell_type": "markdown",
   "metadata": {},
   "source": [
    "***\n",
    "Me dirijo a la Categoria `Desarrollo de Juegos`"
   ]
  },
  {
   "cell_type": "code",
   "execution_count": 142,
   "metadata": {},
   "outputs": [],
   "source": [
    "url = 'https://store.steampowered.com/search/?tags=13906&filter=globaltopsellers&ndl=1'\n",
    "driver.get(url)"
   ]
  },
  {
   "cell_type": "markdown",
   "metadata": {},
   "source": [
    "Hago el scroll manualmente"
   ]
  },
  {
   "cell_type": "code",
   "execution_count": 143,
   "metadata": {},
   "outputs": [
    {
     "data": {
      "text/plain": [
       "62"
      ]
     },
     "execution_count": 143,
     "metadata": {},
     "output_type": "execute_result"
    }
   ],
   "source": [
    "data_html = driver.find_elements(By.XPATH, '//*[@id=\"search_resultsRows\"]/a/div[2]/div[1]/span')\n",
    "len(data_html)"
   ]
  },
  {
   "cell_type": "code",
   "execution_count": 144,
   "metadata": {},
   "outputs": [],
   "source": [
    "data = []\n",
    "for i in range(len(data_html)):\n",
    "    titulo = data_html[i].text\n",
    "    data.append(titulo)"
   ]
  },
  {
   "cell_type": "markdown",
   "metadata": {},
   "source": [
    "Creo el Dataframe y lo paso a un csv"
   ]
  },
  {
   "cell_type": "code",
   "execution_count": 145,
   "metadata": {},
   "outputs": [
    {
     "name": "stdout",
     "output_type": "stream",
     "text": [
      "(62, 1)\n"
     ]
    },
    {
     "data": {
      "text/html": [
       "<div><style>\n",
       ".dataframe > thead > tr,\n",
       ".dataframe > tbody > tr {\n",
       "  text-align: right;\n",
       "  white-space: pre-wrap;\n",
       "}\n",
       "</style>\n",
       "<small>shape: (5, 1)</small><table border=\"1\" class=\"dataframe\"><thead><tr><th>titulo</th></tr><tr><td>str</td></tr></thead><tbody><tr><td>&quot;Wallpaper Engine&quot;</td></tr><tr><td>&quot;Crosshair X&quot;</td></tr><tr><td>&quot;Aseprite&quot;</td></tr><tr><td>&quot;RPG Maker MZ&quot;</td></tr><tr><td>&quot;Substance 3D Painter 2024&quot;</td></tr></tbody></table></div>"
      ],
      "text/plain": [
       "shape: (5, 1)\n",
       "┌───────────────────────────┐\n",
       "│ titulo                    │\n",
       "│ ---                       │\n",
       "│ str                       │\n",
       "╞═══════════════════════════╡\n",
       "│ Wallpaper Engine          │\n",
       "│ Crosshair X               │\n",
       "│ Aseprite                  │\n",
       "│ RPG Maker MZ              │\n",
       "│ Substance 3D Painter 2024 │\n",
       "└───────────────────────────┘"
      ]
     },
     "execution_count": 145,
     "metadata": {},
     "output_type": "execute_result"
    }
   ],
   "source": [
    "df = pl.DataFrame(data=data, schema={'titulo':pl.String})\n",
    "print(df.shape)\n",
    "df.head()"
   ]
  },
  {
   "cell_type": "code",
   "execution_count": 146,
   "metadata": {},
   "outputs": [],
   "source": [
    "df.write_csv('genero/desarrollo_juegos.csv')"
   ]
  },
  {
   "cell_type": "markdown",
   "metadata": {},
   "source": [
    "***\n",
    "Me dirijo a la Categoria `Edicion Fotografica`"
   ]
  },
  {
   "cell_type": "code",
   "execution_count": 147,
   "metadata": {},
   "outputs": [],
   "source": [
    "url = 'https://store.steampowered.com/search/?tags=809&filter=globaltopsellers&ndl=1'\n",
    "driver.get(url)"
   ]
  },
  {
   "cell_type": "code",
   "execution_count": 148,
   "metadata": {},
   "outputs": [
    {
     "data": {
      "text/plain": [
       "15"
      ]
     },
     "execution_count": 148,
     "metadata": {},
     "output_type": "execute_result"
    }
   ],
   "source": [
    "data_html = driver.find_elements(By.XPATH, '//*[@id=\"search_resultsRows\"]/a/div[2]/div[1]/span')\n",
    "len(data_html)"
   ]
  },
  {
   "cell_type": "code",
   "execution_count": 149,
   "metadata": {},
   "outputs": [],
   "source": [
    "data = []\n",
    "for i in range(len(data_html)):\n",
    "    titulo = data_html[i].text\n",
    "    data.append(titulo)"
   ]
  },
  {
   "cell_type": "markdown",
   "metadata": {},
   "source": [
    "Creo el Dataframe y lo paso a un csv"
   ]
  },
  {
   "cell_type": "code",
   "execution_count": 150,
   "metadata": {},
   "outputs": [
    {
     "name": "stdout",
     "output_type": "stream",
     "text": [
      "(15, 1)\n"
     ]
    },
    {
     "data": {
      "text/html": [
       "<div><style>\n",
       ".dataframe > thead > tr,\n",
       ".dataframe > tbody > tr {\n",
       "  text-align: right;\n",
       "  white-space: pre-wrap;\n",
       "}\n",
       "</style>\n",
       "<small>shape: (5, 1)</small><table border=\"1\" class=\"dataframe\"><thead><tr><th>titulo</th></tr><tr><td>str</td></tr></thead><tbody><tr><td>&quot;Wallpaper Engine&quot;</td></tr><tr><td>&quot;Crosshair X&quot;</td></tr><tr><td>&quot;Endorphin Vice&quot;</td></tr><tr><td>&quot;TOEM: A Photo Adventure&quot;</td></tr><tr><td>&quot;YoloMouse - Game Cursor Change…</td></tr></tbody></table></div>"
      ],
      "text/plain": [
       "shape: (5, 1)\n",
       "┌─────────────────────────────────┐\n",
       "│ titulo                          │\n",
       "│ ---                             │\n",
       "│ str                             │\n",
       "╞═════════════════════════════════╡\n",
       "│ Wallpaper Engine                │\n",
       "│ Crosshair X                     │\n",
       "│ Endorphin Vice                  │\n",
       "│ TOEM: A Photo Adventure         │\n",
       "│ YoloMouse - Game Cursor Change… │\n",
       "└─────────────────────────────────┘"
      ]
     },
     "execution_count": 150,
     "metadata": {},
     "output_type": "execute_result"
    }
   ],
   "source": [
    "df = pl.DataFrame(data=data, schema={'titulo':pl.String})\n",
    "print(df.shape)\n",
    "df.head()"
   ]
  },
  {
   "cell_type": "code",
   "execution_count": 151,
   "metadata": {},
   "outputs": [],
   "source": [
    "df.write_csv('genero/edicion_fotografica.csv')"
   ]
  },
  {
   "cell_type": "markdown",
   "metadata": {},
   "source": [
    "***\n",
    "Me dirijo a la Categoria `Documentales`"
   ]
  },
  {
   "cell_type": "code",
   "execution_count": 152,
   "metadata": {},
   "outputs": [],
   "source": [
    "url = 'https://store.steampowered.com/search/?tags=15339&filter=globaltopsellers&ndl=1'\n",
    "driver.get(url)"
   ]
  },
  {
   "cell_type": "code",
   "execution_count": 153,
   "metadata": {},
   "outputs": [
    {
     "data": {
      "text/plain": [
       "1"
      ]
     },
     "execution_count": 153,
     "metadata": {},
     "output_type": "execute_result"
    }
   ],
   "source": [
    "data_html = driver.find_elements(By.XPATH, '//*[@id=\"search_resultsRows\"]/a/div[2]/div[1]/span')\n",
    "len(data_html)"
   ]
  },
  {
   "cell_type": "code",
   "execution_count": 154,
   "metadata": {},
   "outputs": [],
   "source": [
    "data = []\n",
    "for i in range(len(data_html)):\n",
    "    titulo = data_html[i].text\n",
    "    data.append(titulo)"
   ]
  },
  {
   "cell_type": "markdown",
   "metadata": {},
   "source": [
    "Creo Dataframe y lo paso a un Dataframe"
   ]
  },
  {
   "cell_type": "code",
   "execution_count": 155,
   "metadata": {},
   "outputs": [
    {
     "name": "stdout",
     "output_type": "stream",
     "text": [
      "(1, 1)\n"
     ]
    },
    {
     "data": {
      "text/html": [
       "<div><style>\n",
       ".dataframe > thead > tr,\n",
       ".dataframe > tbody > tr {\n",
       "  text-align: right;\n",
       "  white-space: pre-wrap;\n",
       "}\n",
       "</style>\n",
       "<small>shape: (1, 1)</small><table border=\"1\" class=\"dataframe\"><thead><tr><th>titulo</th></tr><tr><td>str</td></tr></thead><tbody><tr><td>&quot;That Dragon, Cancer&quot;</td></tr></tbody></table></div>"
      ],
      "text/plain": [
       "shape: (1, 1)\n",
       "┌─────────────────────┐\n",
       "│ titulo              │\n",
       "│ ---                 │\n",
       "│ str                 │\n",
       "╞═════════════════════╡\n",
       "│ That Dragon, Cancer │\n",
       "└─────────────────────┘"
      ]
     },
     "execution_count": 155,
     "metadata": {},
     "output_type": "execute_result"
    }
   ],
   "source": [
    "df = pl.DataFrame(data=data, schema={'titulo':pl.String})\n",
    "print(df.shape)\n",
    "df.head()"
   ]
  },
  {
   "cell_type": "code",
   "execution_count": 156,
   "metadata": {},
   "outputs": [],
   "source": [
    "df.write_csv('genero/documentales.csv')"
   ]
  },
  {
   "cell_type": "markdown",
   "metadata": {},
   "source": [
    "***\n",
    "Me dirijo a la Categoria `Tutoriales`"
   ]
  },
  {
   "cell_type": "code",
   "execution_count": 157,
   "metadata": {},
   "outputs": [],
   "source": [
    "url = 'https://store.steampowered.com/search/?tags=12057&filter=globaltopsellers&ndl=1'\n",
    "driver.get(url)"
   ]
  },
  {
   "cell_type": "markdown",
   "metadata": {},
   "source": [
    "Hago el Scroll Manualmente"
   ]
  },
  {
   "cell_type": "code",
   "execution_count": 158,
   "metadata": {},
   "outputs": [
    {
     "data": {
      "text/plain": [
       "100"
      ]
     },
     "execution_count": 158,
     "metadata": {},
     "output_type": "execute_result"
    }
   ],
   "source": [
    "data_html = driver.find_elements(By.XPATH, '//*[@id=\"search_resultsRows\"]/a/div[2]/div[1]/span')\n",
    "len(data_html)"
   ]
  },
  {
   "cell_type": "code",
   "execution_count": 159,
   "metadata": {},
   "outputs": [],
   "source": [
    "data = []\n",
    "for i in range(len(data_html)):\n",
    "    titulo = data_html[i].text\n",
    "    data.append(titulo)"
   ]
  },
  {
   "cell_type": "markdown",
   "metadata": {},
   "source": [
    "Creo el Dataframe y lo paso a un csv"
   ]
  },
  {
   "cell_type": "code",
   "execution_count": 160,
   "metadata": {},
   "outputs": [
    {
     "name": "stdout",
     "output_type": "stream",
     "text": [
      "(100, 1)\n"
     ]
    },
    {
     "data": {
      "text/html": [
       "<div><style>\n",
       ".dataframe > thead > tr,\n",
       ".dataframe > tbody > tr {\n",
       "  text-align: right;\n",
       "  white-space: pre-wrap;\n",
       "}\n",
       "</style>\n",
       "<small>shape: (5, 1)</small><table border=\"1\" class=\"dataframe\"><thead><tr><th>titulo</th></tr><tr><td>str</td></tr></thead><tbody><tr><td>&quot;Age of Mythology: Retold&quot;</td></tr><tr><td>&quot;Summoners&#x27; War: Sky Arena&quot;</td></tr><tr><td>&quot;Stormworks: Build and Rescue&quot;</td></tr><tr><td>&quot;Granblue Fantasy: Relink&quot;</td></tr><tr><td>&quot;Tetris® Effect: Connected&quot;</td></tr></tbody></table></div>"
      ],
      "text/plain": [
       "shape: (5, 1)\n",
       "┌──────────────────────────────┐\n",
       "│ titulo                       │\n",
       "│ ---                          │\n",
       "│ str                          │\n",
       "╞══════════════════════════════╡\n",
       "│ Age of Mythology: Retold     │\n",
       "│ Summoners' War: Sky Arena    │\n",
       "│ Stormworks: Build and Rescue │\n",
       "│ Granblue Fantasy: Relink     │\n",
       "│ Tetris® Effect: Connected    │\n",
       "└──────────────────────────────┘"
      ]
     },
     "execution_count": 160,
     "metadata": {},
     "output_type": "execute_result"
    }
   ],
   "source": [
    "df = pl.DataFrame(data=data, schema={'titulo':pl.String})\n",
    "print(df.shape)\n",
    "df.head()"
   ]
  },
  {
   "cell_type": "code",
   "execution_count": 161,
   "metadata": {},
   "outputs": [],
   "source": [
    "df.write_csv('genero/tutoriales.csv')"
   ]
  }
 ],
 "metadata": {
  "kernelspec": {
   "display_name": "Python 3",
   "language": "python",
   "name": "python3"
  },
  "language_info": {
   "codemirror_mode": {
    "name": "ipython",
    "version": 3
   },
   "file_extension": ".py",
   "mimetype": "text/x-python",
   "name": "python",
   "nbconvert_exporter": "python",
   "pygments_lexer": "ipython3",
   "version": "3.10.11"
  }
 },
 "nbformat": 4,
 "nbformat_minor": 2
}
