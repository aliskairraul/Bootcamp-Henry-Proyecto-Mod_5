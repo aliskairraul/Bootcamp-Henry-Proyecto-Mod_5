{
 "cells": [
  {
   "cell_type": "markdown",
   "metadata": {},
   "source": [
    "### EDA al csv juegos_en_steam"
   ]
  },
  {
   "cell_type": "markdown",
   "metadata": {},
   "source": [
    "`Steam` es una plataforma de distribución digital desarrollada por la famosa empresa de videojuegos Valve Corporation. Imagina que es como una enorme tienda en línea donde puedes comprar, descargar y jugar una amplia variedad de videojuegos. Desde éxitos populares hasta títulos indie únicos, Steam ofrece algo para todos los gustos."
   ]
  },
  {
   "cell_type": "markdown",
   "metadata": {},
   "source": [
    "### Campos del Csv\n",
    "- appid\n",
    "    - Aplication Id, Es un numero unico asociado a cada juego en la plataforma Steam\n",
    "- name\n",
    "    - Nombre del Video Juego \n",
    "- release_date\n",
    "    - Fecha de Lanzamiento\n",
    "- english\n",
    "    - Esta en Ingles?\n",
    "- developer\n",
    "    -  Estudio o Empresa que desarrolló el Juego\n",
    "- publisher\n",
    "    -  Empresa o entidad que publica y distribuye el juego.\n",
    "- platforms\n",
    "    - Sistemas Operativos\n",
    "- required_age\n",
    "    - Requiere Mayoria de Edad\n",
    "- categories\n",
    "    - Categorias\n",
    "- genres\n",
    "    - Genero\n",
    "- steamspy_tags\n",
    "    - Etiquetas asociadas al Juego\n",
    "- achievements\n",
    "    - Logros, Metas o desafios\n",
    "- positive_ratings\n",
    "    - Calificaciones Positivas\n",
    "- negative_ratings\n",
    "    - Calificaciones Negativas\n",
    "- average_playtime\n",
    "    - Tiempo de Juego Promedio\n",
    "- median_playtime\n",
    "    - Mediana del Tiempo de Juego\n",
    "- owners\n",
    "    - Cantidad de personas que lo han adquirido\n",
    "- price\n",
    "    - Precio del Video Juego\n",
    "\n",
    "\n",
    "\n",
    "\n"
   ]
  },
  {
   "cell_type": "markdown",
   "metadata": {},
   "source": [
    "Imoprtando Librerias"
   ]
  },
  {
   "cell_type": "code",
   "execution_count": 1,
   "metadata": {},
   "outputs": [],
   "source": [
    "import polars as pl\n",
    "import duckdb"
   ]
  },
  {
   "cell_type": "markdown",
   "metadata": {},
   "source": [
    "Creo el Dataframe"
   ]
  },
  {
   "cell_type": "code",
   "execution_count": 2,
   "metadata": {},
   "outputs": [],
   "source": [
    "df = pl.read_csv('csv_originales/03_Juegos_en_steam.csv', separator=',')"
   ]
  },
  {
   "cell_type": "code",
   "execution_count": 3,
   "metadata": {},
   "outputs": [
    {
     "data": {
      "text/html": [
       "<div><style>\n",
       ".dataframe > thead > tr,\n",
       ".dataframe > tbody > tr {\n",
       "  text-align: right;\n",
       "  white-space: pre-wrap;\n",
       "}\n",
       "</style>\n",
       "<small>shape: (5, 18)</small><table border=\"1\" class=\"dataframe\"><thead><tr><th>appid</th><th>name</th><th>release_date</th><th>english</th><th>developer</th><th>publisher</th><th>platforms</th><th>required_age</th><th>categories</th><th>genres</th><th>steamspy_tags</th><th>achievements</th><th>positive_ratings</th><th>negative_ratings</th><th>average_playtime</th><th>median_playtime</th><th>owners</th><th>price</th></tr><tr><td>i64</td><td>str</td><td>str</td><td>i64</td><td>str</td><td>str</td><td>str</td><td>i64</td><td>str</td><td>str</td><td>str</td><td>i64</td><td>i64</td><td>i64</td><td>i64</td><td>i64</td><td>str</td><td>f64</td></tr></thead><tbody><tr><td>10</td><td>&quot;Counter-Strike&quot;</td><td>&quot;2000-11-01&quot;</td><td>1</td><td>&quot;Valve&quot;</td><td>&quot;Valve&quot;</td><td>&quot;windows;mac;linux&quot;</td><td>0</td><td>&quot;Multi-player;Online Multi-Play…</td><td>&quot;Action&quot;</td><td>&quot;Action;FPS;Multiplayer&quot;</td><td>0</td><td>124534</td><td>3339</td><td>17612</td><td>317</td><td>&quot;10000000-20000000&quot;</td><td>7.19</td></tr><tr><td>20</td><td>&quot;Team Fortress Classic&quot;</td><td>&quot;1999-04-01&quot;</td><td>1</td><td>&quot;Valve&quot;</td><td>&quot;Valve&quot;</td><td>&quot;windows;mac;linux&quot;</td><td>0</td><td>&quot;Multi-player;Online Multi-Play…</td><td>&quot;Action&quot;</td><td>&quot;Action;FPS;Multiplayer&quot;</td><td>0</td><td>3318</td><td>633</td><td>277</td><td>62</td><td>&quot;5000000-10000000&quot;</td><td>3.99</td></tr><tr><td>30</td><td>&quot;Day of Defeat&quot;</td><td>&quot;2003-05-01&quot;</td><td>1</td><td>&quot;Valve&quot;</td><td>&quot;Valve&quot;</td><td>&quot;windows;mac;linux&quot;</td><td>0</td><td>&quot;Multi-player;Valve Anti-Cheat …</td><td>&quot;Action&quot;</td><td>&quot;FPS;World War II;Multiplayer&quot;</td><td>0</td><td>3416</td><td>398</td><td>187</td><td>34</td><td>&quot;5000000-10000000&quot;</td><td>3.99</td></tr><tr><td>40</td><td>&quot;Deathmatch Classic&quot;</td><td>&quot;2001-06-01&quot;</td><td>1</td><td>&quot;Valve&quot;</td><td>&quot;Valve&quot;</td><td>&quot;windows;mac;linux&quot;</td><td>0</td><td>&quot;Multi-player;Online Multi-Play…</td><td>&quot;Action&quot;</td><td>&quot;Action;FPS;Multiplayer&quot;</td><td>0</td><td>1273</td><td>267</td><td>258</td><td>184</td><td>&quot;5000000-10000000&quot;</td><td>3.99</td></tr><tr><td>50</td><td>&quot;Half-Life: Opposing Force&quot;</td><td>&quot;1999-11-01&quot;</td><td>1</td><td>&quot;Gearbox Software&quot;</td><td>&quot;Valve&quot;</td><td>&quot;windows;mac;linux&quot;</td><td>0</td><td>&quot;Single-player;Multi-player;Val…</td><td>&quot;Action&quot;</td><td>&quot;FPS;Action;Sci-fi&quot;</td><td>0</td><td>5250</td><td>288</td><td>624</td><td>415</td><td>&quot;5000000-10000000&quot;</td><td>3.99</td></tr></tbody></table></div>"
      ],
      "text/plain": [
       "shape: (5, 18)\n",
       "┌───────┬─────────────┬─────────────┬─────────┬───┬─────────────┬─────────────┬────────────┬───────┐\n",
       "│ appid ┆ name        ┆ release_dat ┆ english ┆ … ┆ average_pla ┆ median_play ┆ owners     ┆ price │\n",
       "│ ---   ┆ ---         ┆ e           ┆ ---     ┆   ┆ ytime       ┆ time        ┆ ---        ┆ ---   │\n",
       "│ i64   ┆ str         ┆ ---         ┆ i64     ┆   ┆ ---         ┆ ---         ┆ str        ┆ f64   │\n",
       "│       ┆             ┆ str         ┆         ┆   ┆ i64         ┆ i64         ┆            ┆       │\n",
       "╞═══════╪═════════════╪═════════════╪═════════╪═══╪═════════════╪═════════════╪════════════╪═══════╡\n",
       "│ 10    ┆ Counter-Str ┆ 2000-11-01  ┆ 1       ┆ … ┆ 17612       ┆ 317         ┆ 10000000-2 ┆ 7.19  │\n",
       "│       ┆ ike         ┆             ┆         ┆   ┆             ┆             ┆ 0000000    ┆       │\n",
       "│ 20    ┆ Team        ┆ 1999-04-01  ┆ 1       ┆ … ┆ 277         ┆ 62          ┆ 5000000-10 ┆ 3.99  │\n",
       "│       ┆ Fortress    ┆             ┆         ┆   ┆             ┆             ┆ 000000     ┆       │\n",
       "│       ┆ Classic     ┆             ┆         ┆   ┆             ┆             ┆            ┆       │\n",
       "│ 30    ┆ Day of      ┆ 2003-05-01  ┆ 1       ┆ … ┆ 187         ┆ 34          ┆ 5000000-10 ┆ 3.99  │\n",
       "│       ┆ Defeat      ┆             ┆         ┆   ┆             ┆             ┆ 000000     ┆       │\n",
       "│ 40    ┆ Deathmatch  ┆ 2001-06-01  ┆ 1       ┆ … ┆ 258         ┆ 184         ┆ 5000000-10 ┆ 3.99  │\n",
       "│       ┆ Classic     ┆             ┆         ┆   ┆             ┆             ┆ 000000     ┆       │\n",
       "│ 50    ┆ Half-Life:  ┆ 1999-11-01  ┆ 1       ┆ … ┆ 624         ┆ 415         ┆ 5000000-10 ┆ 3.99  │\n",
       "│       ┆ Opposing    ┆             ┆         ┆   ┆             ┆             ┆ 000000     ┆       │\n",
       "│       ┆ Force       ┆             ┆         ┆   ┆             ┆             ┆            ┆       │\n",
       "└───────┴─────────────┴─────────────┴─────────┴───┴─────────────┴─────────────┴────────────┴───────┘"
      ]
     },
     "execution_count": 3,
     "metadata": {},
     "output_type": "execute_result"
    }
   ],
   "source": [
    "df.head()"
   ]
  },
  {
   "cell_type": "code",
   "execution_count": 4,
   "metadata": {},
   "outputs": [
    {
     "data": {
      "text/plain": [
       "(27075, 18)"
      ]
     },
     "execution_count": 4,
     "metadata": {},
     "output_type": "execute_result"
    }
   ],
   "source": [
    "df.shape"
   ]
  },
  {
   "cell_type": "markdown",
   "metadata": {},
   "source": [
    "Examinando los Valores Nulos"
   ]
  },
  {
   "cell_type": "code",
   "execution_count": 5,
   "metadata": {},
   "outputs": [
    {
     "name": "stdout",
     "output_type": "stream",
     "text": [
      "Columna: appid Cantidad de nulos -->  0\n",
      "Columna: name Cantidad de nulos -->  0\n",
      "Columna: release_date Cantidad de nulos -->  0\n",
      "Columna: english Cantidad de nulos -->  0\n",
      "Columna: developer Cantidad de nulos -->  0\n",
      "Columna: publisher Cantidad de nulos -->  0\n",
      "Columna: platforms Cantidad de nulos -->  0\n",
      "Columna: required_age Cantidad de nulos -->  0\n",
      "Columna: categories Cantidad de nulos -->  0\n",
      "Columna: genres Cantidad de nulos -->  0\n",
      "Columna: steamspy_tags Cantidad de nulos -->  0\n",
      "Columna: achievements Cantidad de nulos -->  0\n",
      "Columna: positive_ratings Cantidad de nulos -->  0\n",
      "Columna: negative_ratings Cantidad de nulos -->  0\n",
      "Columna: average_playtime Cantidad de nulos -->  0\n",
      "Columna: median_playtime Cantidad de nulos -->  0\n",
      "Columna: owners Cantidad de nulos -->  0\n",
      "Columna: price Cantidad de nulos -->  0\n"
     ]
    }
   ],
   "source": [
    "for column in df.columns:\n",
    "    print(f\"Columna: {column} Cantidad de nulos -->  {df[column].is_null().sum()}\")"
   ]
  },
  {
   "cell_type": "code",
   "execution_count": null,
   "metadata": {},
   "outputs": [],
   "source": [
    "df.head(1)"
   ]
  },
  {
   "cell_type": "markdown",
   "metadata": {},
   "source": [
    "Averiguando cuantos Generos existen"
   ]
  },
  {
   "cell_type": "code",
   "execution_count": 6,
   "metadata": {},
   "outputs": [
    {
     "name": "stdout",
     "output_type": "stream",
     "text": [
      "1552\n",
      "3333\n"
     ]
    }
   ],
   "source": [
    "print(df['genres'].unique().count())\n",
    "print(df['categories'].unique().count())"
   ]
  },
  {
   "cell_type": "markdown",
   "metadata": {},
   "source": [
    "En realidad no existen 1552 Generos, simplemente hay registradas 1552 combinaciones de Generos, ya que hay video juegos que pertenecen a mas de un Genero, por lo que el '.unique()` lo ve como otro genero nuevo. Por ejemplo hay Juegos que pertenecen a Categorias de 'Accion', 'Primera Persona', 'Disparo', etc, El Mismo análisis tambien aplica para las Categorias"
   ]
  },
  {
   "cell_type": "markdown",
   "metadata": {},
   "source": [
    "***\n",
    "Spliteo y Extraigo las Distintas Categorias, Generos y Plataformas para poder saber de cuantos estamos hablando"
   ]
  },
  {
   "cell_type": "code",
   "execution_count": 7,
   "metadata": {},
   "outputs": [
    {
     "name": "stdout",
     "output_type": "stream",
     "text": [
      "Numero de Categorias -->  29\n",
      "Numero de Generos -->  29\n",
      "Numero de Plataformas--> 3\n"
     ]
    }
   ],
   "source": [
    "categories_list = []\n",
    "genres_list = []\n",
    "platforms_list = []\n",
    "for i in range(len(df)):\n",
    "    categories = df[i,8].split(\";\")\n",
    "    genres = df[i,9].split(\";\")\n",
    "    platforms = df[i,6].split(\";\")\n",
    "    for category in categories:\n",
    "        if not category in categories_list:\n",
    "            categories_list.append(category)\n",
    "    for gen in genres:\n",
    "        if not gen in genres_list:\n",
    "            genres_list.append(gen)\n",
    "    for platform in platforms:\n",
    "        if not platform in platforms_list:\n",
    "            platforms_list.append(platform) \n",
    "\n",
    "print(f\"Numero de Categorias -->  {len(categories_list)}\")\n",
    "print(f\"Numero de Generos -->  {len(genres_list)}\")\n",
    "print(f\"Numero de Plataformas--> {len(platforms_list)}\")"
   ]
  },
  {
   "cell_type": "code",
   "execution_count": 8,
   "metadata": {},
   "outputs": [
    {
     "name": "stdout",
     "output_type": "stream",
     "text": [
      "['Action', 'Free to Play', 'Strategy', 'Adventure', 'Indie', 'RPG', 'Animation & Modeling', 'Video Production', 'Casual', 'Simulation', 'Racing', 'Violent', 'Massively Multiplayer', 'Nudity', 'Sports', 'Early Access', 'Gore', 'Utilities', 'Design & Illustration', 'Web Publishing', 'Education', 'Software Training', 'Sexual Content', 'Audio Production', 'Game Development', 'Photo Editing', 'Accounting', 'Documentary', 'Tutorial']\n",
      "['Multi-player', 'Online Multi-Player', 'Local Multi-Player', 'Valve Anti-Cheat enabled', 'Single-player', 'Steam Cloud', 'Steam Achievements', 'Steam Trading Cards', 'Captions available', 'Partial Controller Support', 'Includes Source SDK', 'Cross-Platform Multiplayer', 'Stats', 'Commentary available', 'Includes level editor', 'Steam Workshop', 'In-App Purchases', 'Co-op', 'Full controller support', 'Steam Leaderboards', 'SteamVR Collectibles', 'Online Co-op', 'Shared/Split Screen', 'Local Co-op', 'MMO', 'VR Support', 'Mods', 'Mods (require HL2)', 'Steam Turn Notifications']\n",
      "['windows', 'mac', 'linux']\n"
     ]
    }
   ],
   "source": [
    "print(genres_list)\n",
    "print(categories_list)\n",
    "print(platforms_list)\n",
    "#Las siglas “RPG” provienen del inglés y significan “Role-Playing Game”, que en español se traduce como “juego de rol”."
   ]
  },
  {
   "cell_type": "markdown",
   "metadata": {},
   "source": [
    "***\n",
    "Creare una Matrices para Generos, Categorias y Plataformas. Por Ejemplo la matriz de Generos contara con 32 columnas `appid`, `possitive_ratings`,`negative_ratings` y `TODOS LOS GENEROS POR SEPARADO` colocando un 1 solo solo en los generos a los cuales pertenece cada Genero"
   ]
  },
  {
   "cell_type": "code",
   "execution_count": 9,
   "metadata": {},
   "outputs": [
    {
     "data": {
      "text/html": [
       "<div><style>\n",
       ".dataframe > thead > tr,\n",
       ".dataframe > tbody > tr {\n",
       "  text-align: right;\n",
       "  white-space: pre-wrap;\n",
       "}\n",
       "</style>\n",
       "<small>shape: (1, 18)</small><table border=\"1\" class=\"dataframe\"><thead><tr><th>appid</th><th>name</th><th>release_date</th><th>english</th><th>developer</th><th>publisher</th><th>platforms</th><th>required_age</th><th>categories</th><th>genres</th><th>steamspy_tags</th><th>achievements</th><th>positive_ratings</th><th>negative_ratings</th><th>average_playtime</th><th>median_playtime</th><th>owners</th><th>price</th></tr><tr><td>i64</td><td>str</td><td>str</td><td>i64</td><td>str</td><td>str</td><td>str</td><td>i64</td><td>str</td><td>str</td><td>str</td><td>i64</td><td>i64</td><td>i64</td><td>i64</td><td>i64</td><td>str</td><td>f64</td></tr></thead><tbody><tr><td>10</td><td>&quot;Counter-Strike&quot;</td><td>&quot;2000-11-01&quot;</td><td>1</td><td>&quot;Valve&quot;</td><td>&quot;Valve&quot;</td><td>&quot;windows;mac;linux&quot;</td><td>0</td><td>&quot;Multi-player;Online Multi-Play…</td><td>&quot;Action&quot;</td><td>&quot;Action;FPS;Multiplayer&quot;</td><td>0</td><td>124534</td><td>3339</td><td>17612</td><td>317</td><td>&quot;10000000-20000000&quot;</td><td>7.19</td></tr></tbody></table></div>"
      ],
      "text/plain": [
       "shape: (1, 18)\n",
       "┌───────┬─────────────┬─────────────┬─────────┬───┬─────────────┬─────────────┬────────────┬───────┐\n",
       "│ appid ┆ name        ┆ release_dat ┆ english ┆ … ┆ average_pla ┆ median_play ┆ owners     ┆ price │\n",
       "│ ---   ┆ ---         ┆ e           ┆ ---     ┆   ┆ ytime       ┆ time        ┆ ---        ┆ ---   │\n",
       "│ i64   ┆ str         ┆ ---         ┆ i64     ┆   ┆ ---         ┆ ---         ┆ str        ┆ f64   │\n",
       "│       ┆             ┆ str         ┆         ┆   ┆ i64         ┆ i64         ┆            ┆       │\n",
       "╞═══════╪═════════════╪═════════════╪═════════╪═══╪═════════════╪═════════════╪════════════╪═══════╡\n",
       "│ 10    ┆ Counter-Str ┆ 2000-11-01  ┆ 1       ┆ … ┆ 17612       ┆ 317         ┆ 10000000-2 ┆ 7.19  │\n",
       "│       ┆ ike         ┆             ┆         ┆   ┆             ┆             ┆ 0000000    ┆       │\n",
       "└───────┴─────────────┴─────────────┴─────────┴───┴─────────────┴─────────────┴────────────┴───────┘"
      ]
     },
     "execution_count": 9,
     "metadata": {},
     "output_type": "execute_result"
    }
   ],
   "source": [
    "df[0]"
   ]
  },
  {
   "cell_type": "code",
   "execution_count": 10,
   "metadata": {},
   "outputs": [],
   "source": [
    "data_generos = []\n",
    "data_categorias = []\n",
    "data_plataformas = []\n",
    "data_titulos = []\n",
    "for i in range(len(df)):\n",
    "    #Extrayendo o Haciendo un Spliteo para obtener Data de Generos Individualizados\n",
    "    diccionario_genero = {}\n",
    "    generos = df[i,9].split(\";\")  \n",
    "    diccionario_genero['appid'] = df[i,0]\n",
    "    diccionario_genero['possitive_ratings'] = df[i,12]\n",
    "    diccionario_genero['negative_ratings'] = df[i,13]\n",
    "    for genero in generos:\n",
    "        diccionario_genero[genero] = 1\n",
    "    data_generos.append(diccionario_genero) \n",
    "\n",
    "    #Extrayendo o Haciendo un Spliteo para obtener Data de Categorias Individualizadas\n",
    "    diccionario_categorias = {}\n",
    "    categorias = df[i,8].split(\";\")\n",
    "    diccionario_categorias['appid'] = df[i,0]\n",
    "    diccionario_categorias['possitive_ratings'] = df[i,12]\n",
    "    diccionario_categorias['negative_ratings'] = df[i,13]\n",
    "    for categoria in categorias:\n",
    "        diccionario_categorias[categoria] = 1\n",
    "    data_categorias.append(diccionario_categorias)\n",
    "\n",
    "    #Extrayendo o Haciendo un Spliteo para obtener Data de Plataformas Individualizadas\n",
    "    diccionario_plataformas = {}\n",
    "    plataformas = df[i,6].split(\";\")\n",
    "    diccionario_plataformas['appid'] = df[i,0]\n",
    "    for plataforma in plataformas:\n",
    "        diccionario_plataformas[plataforma] = 1\n",
    "    data_plataformas.append(diccionario_plataformas)    \n",
    "\n"
   ]
  },
  {
   "cell_type": "markdown",
   "metadata": {},
   "source": [
    "En este caso se Observa que el Video Juego con el Appid 3560 tiene 98 calificaciones positivas, 18 calificaciones negativas y pertenece a 2 Generos, 'Estrategia' y 'Casual'"
   ]
  },
  {
   "cell_type": "code",
   "execution_count": 11,
   "metadata": {},
   "outputs": [
    {
     "data": {
      "text/plain": [
       "{'appid': 3560,\n",
       " 'possitive_ratings': 98,\n",
       " 'negative_ratings': 18,\n",
       " 'Strategy': 1,\n",
       " 'Casual': 1}"
      ]
     },
     "execution_count": 11,
     "metadata": {},
     "output_type": "execute_result"
    }
   ],
   "source": [
    "data_generos[100]"
   ]
  },
  {
   "cell_type": "code",
   "execution_count": 12,
   "metadata": {},
   "outputs": [
    {
     "data": {
      "text/plain": [
       "{'appid': 20,\n",
       " 'possitive_ratings': 3318,\n",
       " 'negative_ratings': 633,\n",
       " 'Multi-player': 1,\n",
       " 'Online Multi-Player': 1,\n",
       " 'Local Multi-Player': 1,\n",
       " 'Valve Anti-Cheat enabled': 1}"
      ]
     },
     "execution_count": 12,
     "metadata": {},
     "output_type": "execute_result"
    }
   ],
   "source": [
    "data_categorias[1]"
   ]
  },
  {
   "cell_type": "code",
   "execution_count": 13,
   "metadata": {},
   "outputs": [
    {
     "data": {
      "text/plain": [
       "{'appid': 10, 'windows': 1, 'mac': 1, 'linux': 1}"
      ]
     },
     "execution_count": 13,
     "metadata": {},
     "output_type": "execute_result"
    }
   ],
   "source": [
    "data_plataformas[0]"
   ]
  },
  {
   "cell_type": "markdown",
   "metadata": {},
   "source": [
    "Creo el Schema de la Matriz Individualizada de Generos"
   ]
  },
  {
   "cell_type": "code",
   "execution_count": 14,
   "metadata": {},
   "outputs": [
    {
     "name": "stdout",
     "output_type": "stream",
     "text": [
      "32\n",
      "32\n"
     ]
    }
   ],
   "source": [
    "\n",
    "schema_genero = {'appid': pl.Int64, 'possitive_ratings':pl.Int64, 'negative_ratings':pl.Int64}\n",
    "for element in genres_list:\n",
    "    schema_genero[element] = pl.Int64\n",
    "\n",
    "schema_categoria = {'appid': pl.Int64, 'possitive_ratings':pl.Int64, 'negative_ratings':pl.Int64}\n",
    "for element in categories_list:\n",
    "    schema_categoria[element] = pl.Int64\n",
    "\n",
    "print(len(schema_categoria))\n",
    "print(len(schema_genero))"
   ]
  },
  {
   "cell_type": "markdown",
   "metadata": {},
   "source": [
    "Creo los dataframes de Generos (Matriz)"
   ]
  },
  {
   "cell_type": "code",
   "execution_count": 15,
   "metadata": {},
   "outputs": [],
   "source": [
    "df_generos = pl.DataFrame(data=data_generos, nan_to_null=True, strict=False, schema=schema_genero)"
   ]
  },
  {
   "cell_type": "code",
   "execution_count": 16,
   "metadata": {},
   "outputs": [],
   "source": [
    "df_categorias = pl.DataFrame(data=data_categorias, nan_to_null=True, strict=False, schema=schema_categoria)"
   ]
  },
  {
   "cell_type": "code",
   "execution_count": 17,
   "metadata": {},
   "outputs": [],
   "source": [
    "df_plataformas = pl.DataFrame(data=data_plataformas, nan_to_null=True, strict=False)"
   ]
  },
  {
   "cell_type": "markdown",
   "metadata": {},
   "source": [
    "Obviamente donde Los Generos, Categorias o Plataformas No coincidan con los Video Juegos hay un null que debe ser reemplazado por un 0"
   ]
  },
  {
   "cell_type": "code",
   "execution_count": 18,
   "metadata": {},
   "outputs": [],
   "source": [
    "df_generos = df_generos.fill_null(0)"
   ]
  },
  {
   "cell_type": "code",
   "execution_count": 19,
   "metadata": {},
   "outputs": [],
   "source": [
    "df_categorias = df_categorias.fill_null(0)"
   ]
  },
  {
   "cell_type": "code",
   "execution_count": 20,
   "metadata": {},
   "outputs": [],
   "source": [
    "df_plataformas = df_plataformas.fill_null(0)"
   ]
  },
  {
   "cell_type": "markdown",
   "metadata": {},
   "source": [
    "Ya tenemos las Matrices de Generos, Categorias y Plataformas Donde Podemos Hacer una ponderacion Individual de los ratings por Genero"
   ]
  },
  {
   "cell_type": "code",
   "execution_count": 21,
   "metadata": {},
   "outputs": [
    {
     "data": {
      "text/html": [
       "<div><style>\n",
       ".dataframe > thead > tr,\n",
       ".dataframe > tbody > tr {\n",
       "  text-align: right;\n",
       "  white-space: pre-wrap;\n",
       "}\n",
       "</style>\n",
       "<small>shape: (27_074, 32)</small><table border=\"1\" class=\"dataframe\"><thead><tr><th>appid</th><th>possitive_ratings</th><th>negative_ratings</th><th>Action</th><th>Free to Play</th><th>Strategy</th><th>Adventure</th><th>Indie</th><th>RPG</th><th>Animation &amp; Modeling</th><th>Video Production</th><th>Casual</th><th>Simulation</th><th>Racing</th><th>Violent</th><th>Massively Multiplayer</th><th>Nudity</th><th>Sports</th><th>Early Access</th><th>Gore</th><th>Utilities</th><th>Design &amp; Illustration</th><th>Web Publishing</th><th>Education</th><th>Software Training</th><th>Sexual Content</th><th>Audio Production</th><th>Game Development</th><th>Photo Editing</th><th>Accounting</th><th>Documentary</th><th>Tutorial</th></tr><tr><td>i64</td><td>i64</td><td>i64</td><td>i64</td><td>i64</td><td>i64</td><td>i64</td><td>i64</td><td>i64</td><td>i64</td><td>i64</td><td>i64</td><td>i64</td><td>i64</td><td>i64</td><td>i64</td><td>i64</td><td>i64</td><td>i64</td><td>i64</td><td>i64</td><td>i64</td><td>i64</td><td>i64</td><td>i64</td><td>i64</td><td>i64</td><td>i64</td><td>i64</td><td>i64</td><td>i64</td><td>i64</td></tr></thead><tbody><tr><td>10</td><td>124534</td><td>3339</td><td>1</td><td>0</td><td>0</td><td>0</td><td>0</td><td>0</td><td>0</td><td>0</td><td>0</td><td>0</td><td>0</td><td>0</td><td>0</td><td>0</td><td>0</td><td>0</td><td>0</td><td>0</td><td>0</td><td>0</td><td>0</td><td>0</td><td>0</td><td>0</td><td>0</td><td>0</td><td>0</td><td>0</td><td>0</td></tr><tr><td>20</td><td>3318</td><td>633</td><td>1</td><td>0</td><td>0</td><td>0</td><td>0</td><td>0</td><td>0</td><td>0</td><td>0</td><td>0</td><td>0</td><td>0</td><td>0</td><td>0</td><td>0</td><td>0</td><td>0</td><td>0</td><td>0</td><td>0</td><td>0</td><td>0</td><td>0</td><td>0</td><td>0</td><td>0</td><td>0</td><td>0</td><td>0</td></tr><tr><td>30</td><td>3416</td><td>398</td><td>1</td><td>0</td><td>0</td><td>0</td><td>0</td><td>0</td><td>0</td><td>0</td><td>0</td><td>0</td><td>0</td><td>0</td><td>0</td><td>0</td><td>0</td><td>0</td><td>0</td><td>0</td><td>0</td><td>0</td><td>0</td><td>0</td><td>0</td><td>0</td><td>0</td><td>0</td><td>0</td><td>0</td><td>0</td></tr><tr><td>40</td><td>1273</td><td>267</td><td>1</td><td>0</td><td>0</td><td>0</td><td>0</td><td>0</td><td>0</td><td>0</td><td>0</td><td>0</td><td>0</td><td>0</td><td>0</td><td>0</td><td>0</td><td>0</td><td>0</td><td>0</td><td>0</td><td>0</td><td>0</td><td>0</td><td>0</td><td>0</td><td>0</td><td>0</td><td>0</td><td>0</td><td>0</td></tr><tr><td>50</td><td>5250</td><td>288</td><td>1</td><td>0</td><td>0</td><td>0</td><td>0</td><td>0</td><td>0</td><td>0</td><td>0</td><td>0</td><td>0</td><td>0</td><td>0</td><td>0</td><td>0</td><td>0</td><td>0</td><td>0</td><td>0</td><td>0</td><td>0</td><td>0</td><td>0</td><td>0</td><td>0</td><td>0</td><td>0</td><td>0</td><td>0</td></tr><tr><td>&hellip;</td><td>&hellip;</td><td>&hellip;</td><td>&hellip;</td><td>&hellip;</td><td>&hellip;</td><td>&hellip;</td><td>&hellip;</td><td>&hellip;</td><td>&hellip;</td><td>&hellip;</td><td>&hellip;</td><td>&hellip;</td><td>&hellip;</td><td>&hellip;</td><td>&hellip;</td><td>&hellip;</td><td>&hellip;</td><td>&hellip;</td><td>&hellip;</td><td>&hellip;</td><td>&hellip;</td><td>&hellip;</td><td>&hellip;</td><td>&hellip;</td><td>&hellip;</td><td>&hellip;</td><td>&hellip;</td><td>&hellip;</td><td>&hellip;</td><td>&hellip;</td><td>&hellip;</td></tr><tr><td>1065160</td><td>2</td><td>2</td><td>0</td><td>0</td><td>0</td><td>0</td><td>1</td><td>0</td><td>0</td><td>0</td><td>0</td><td>0</td><td>0</td><td>0</td><td>0</td><td>0</td><td>0</td><td>0</td><td>0</td><td>0</td><td>0</td><td>0</td><td>0</td><td>0</td><td>0</td><td>0</td><td>0</td><td>0</td><td>0</td><td>0</td><td>0</td></tr><tr><td>1065230</td><td>3</td><td>0</td><td>0</td><td>0</td><td>0</td><td>1</td><td>1</td><td>0</td><td>0</td><td>0</td><td>1</td><td>0</td><td>0</td><td>0</td><td>0</td><td>0</td><td>0</td><td>0</td><td>0</td><td>0</td><td>0</td><td>0</td><td>0</td><td>0</td><td>0</td><td>0</td><td>0</td><td>0</td><td>0</td><td>0</td><td>0</td></tr><tr><td>1065570</td><td>8</td><td>1</td><td>1</td><td>0</td><td>0</td><td>1</td><td>1</td><td>0</td><td>0</td><td>0</td><td>0</td><td>0</td><td>0</td><td>0</td><td>0</td><td>0</td><td>0</td><td>0</td><td>0</td><td>0</td><td>0</td><td>0</td><td>0</td><td>0</td><td>0</td><td>0</td><td>0</td><td>0</td><td>0</td><td>0</td><td>0</td></tr><tr><td>1065650</td><td>0</td><td>1</td><td>1</td><td>0</td><td>0</td><td>0</td><td>1</td><td>0</td><td>0</td><td>0</td><td>1</td><td>0</td><td>0</td><td>0</td><td>0</td><td>0</td><td>0</td><td>0</td><td>0</td><td>0</td><td>0</td><td>0</td><td>0</td><td>0</td><td>0</td><td>0</td><td>0</td><td>0</td><td>0</td><td>0</td><td>0</td></tr><tr><td>1066700</td><td>2</td><td>0</td><td>0</td><td>0</td><td>0</td><td>1</td><td>1</td><td>0</td><td>0</td><td>0</td><td>1</td><td>0</td><td>0</td><td>0</td><td>0</td><td>0</td><td>0</td><td>0</td><td>0</td><td>0</td><td>0</td><td>0</td><td>0</td><td>0</td><td>0</td><td>0</td><td>0</td><td>0</td><td>0</td><td>0</td><td>0</td></tr></tbody></table></div>"
      ],
      "text/plain": [
       "shape: (27_074, 32)\n",
       "┌─────────┬─────────────┬─────────────┬────────┬───┬─────────┬────────────┬─────────────┬──────────┐\n",
       "│ appid   ┆ possitive_r ┆ negative_ra ┆ Action ┆ … ┆ Photo   ┆ Accounting ┆ Documentary ┆ Tutorial │\n",
       "│ ---     ┆ atings      ┆ tings       ┆ ---    ┆   ┆ Editing ┆ ---        ┆ ---         ┆ ---      │\n",
       "│ i64     ┆ ---         ┆ ---         ┆ i64    ┆   ┆ ---     ┆ i64        ┆ i64         ┆ i64      │\n",
       "│         ┆ i64         ┆ i64         ┆        ┆   ┆ i64     ┆            ┆             ┆          │\n",
       "╞═════════╪═════════════╪═════════════╪════════╪═══╪═════════╪════════════╪═════════════╪══════════╡\n",
       "│ 10      ┆ 124534      ┆ 3339        ┆ 1      ┆ … ┆ 0       ┆ 0          ┆ 0           ┆ 0        │\n",
       "│ 20      ┆ 3318        ┆ 633         ┆ 1      ┆ … ┆ 0       ┆ 0          ┆ 0           ┆ 0        │\n",
       "│ 30      ┆ 3416        ┆ 398         ┆ 1      ┆ … ┆ 0       ┆ 0          ┆ 0           ┆ 0        │\n",
       "│ 40      ┆ 1273        ┆ 267         ┆ 1      ┆ … ┆ 0       ┆ 0          ┆ 0           ┆ 0        │\n",
       "│ 50      ┆ 5250        ┆ 288         ┆ 1      ┆ … ┆ 0       ┆ 0          ┆ 0           ┆ 0        │\n",
       "│ …       ┆ …           ┆ …           ┆ …      ┆ … ┆ …       ┆ …          ┆ …           ┆ …        │\n",
       "│ 1065160 ┆ 2           ┆ 2           ┆ 0      ┆ … ┆ 0       ┆ 0          ┆ 0           ┆ 0        │\n",
       "│ 1065230 ┆ 3           ┆ 0           ┆ 0      ┆ … ┆ 0       ┆ 0          ┆ 0           ┆ 0        │\n",
       "│ 1065570 ┆ 8           ┆ 1           ┆ 1      ┆ … ┆ 0       ┆ 0          ┆ 0           ┆ 0        │\n",
       "│ 1065650 ┆ 0           ┆ 1           ┆ 1      ┆ … ┆ 0       ┆ 0          ┆ 0           ┆ 0        │\n",
       "│ 1066700 ┆ 2           ┆ 0           ┆ 0      ┆ … ┆ 0       ┆ 0          ┆ 0           ┆ 0        │\n",
       "└─────────┴─────────────┴─────────────┴────────┴───┴─────────┴────────────┴─────────────┴──────────┘"
      ]
     },
     "execution_count": 21,
     "metadata": {},
     "output_type": "execute_result"
    }
   ],
   "source": [
    "df_generos[:-1]"
   ]
  },
  {
   "cell_type": "code",
   "execution_count": 22,
   "metadata": {},
   "outputs": [
    {
     "data": {
      "text/html": [
       "<div><style>\n",
       ".dataframe > thead > tr,\n",
       ".dataframe > tbody > tr {\n",
       "  text-align: right;\n",
       "  white-space: pre-wrap;\n",
       "}\n",
       "</style>\n",
       "<small>shape: (27_074, 32)</small><table border=\"1\" class=\"dataframe\"><thead><tr><th>appid</th><th>possitive_ratings</th><th>negative_ratings</th><th>Multi-player</th><th>Online Multi-Player</th><th>Local Multi-Player</th><th>Valve Anti-Cheat enabled</th><th>Single-player</th><th>Steam Cloud</th><th>Steam Achievements</th><th>Steam Trading Cards</th><th>Captions available</th><th>Partial Controller Support</th><th>Includes Source SDK</th><th>Cross-Platform Multiplayer</th><th>Stats</th><th>Commentary available</th><th>Includes level editor</th><th>Steam Workshop</th><th>In-App Purchases</th><th>Co-op</th><th>Full controller support</th><th>Steam Leaderboards</th><th>SteamVR Collectibles</th><th>Online Co-op</th><th>Shared/Split Screen</th><th>Local Co-op</th><th>MMO</th><th>VR Support</th><th>Mods</th><th>Mods (require HL2)</th><th>Steam Turn Notifications</th></tr><tr><td>i64</td><td>i64</td><td>i64</td><td>i64</td><td>i64</td><td>i64</td><td>i64</td><td>i64</td><td>i64</td><td>i64</td><td>i64</td><td>i64</td><td>i64</td><td>i64</td><td>i64</td><td>i64</td><td>i64</td><td>i64</td><td>i64</td><td>i64</td><td>i64</td><td>i64</td><td>i64</td><td>i64</td><td>i64</td><td>i64</td><td>i64</td><td>i64</td><td>i64</td><td>i64</td><td>i64</td><td>i64</td></tr></thead><tbody><tr><td>10</td><td>124534</td><td>3339</td><td>1</td><td>1</td><td>1</td><td>1</td><td>0</td><td>0</td><td>0</td><td>0</td><td>0</td><td>0</td><td>0</td><td>0</td><td>0</td><td>0</td><td>0</td><td>0</td><td>0</td><td>0</td><td>0</td><td>0</td><td>0</td><td>0</td><td>0</td><td>0</td><td>0</td><td>0</td><td>0</td><td>0</td><td>0</td></tr><tr><td>20</td><td>3318</td><td>633</td><td>1</td><td>1</td><td>1</td><td>1</td><td>0</td><td>0</td><td>0</td><td>0</td><td>0</td><td>0</td><td>0</td><td>0</td><td>0</td><td>0</td><td>0</td><td>0</td><td>0</td><td>0</td><td>0</td><td>0</td><td>0</td><td>0</td><td>0</td><td>0</td><td>0</td><td>0</td><td>0</td><td>0</td><td>0</td></tr><tr><td>30</td><td>3416</td><td>398</td><td>1</td><td>0</td><td>0</td><td>1</td><td>0</td><td>0</td><td>0</td><td>0</td><td>0</td><td>0</td><td>0</td><td>0</td><td>0</td><td>0</td><td>0</td><td>0</td><td>0</td><td>0</td><td>0</td><td>0</td><td>0</td><td>0</td><td>0</td><td>0</td><td>0</td><td>0</td><td>0</td><td>0</td><td>0</td></tr><tr><td>40</td><td>1273</td><td>267</td><td>1</td><td>1</td><td>1</td><td>1</td><td>0</td><td>0</td><td>0</td><td>0</td><td>0</td><td>0</td><td>0</td><td>0</td><td>0</td><td>0</td><td>0</td><td>0</td><td>0</td><td>0</td><td>0</td><td>0</td><td>0</td><td>0</td><td>0</td><td>0</td><td>0</td><td>0</td><td>0</td><td>0</td><td>0</td></tr><tr><td>50</td><td>5250</td><td>288</td><td>1</td><td>0</td><td>0</td><td>1</td><td>1</td><td>0</td><td>0</td><td>0</td><td>0</td><td>0</td><td>0</td><td>0</td><td>0</td><td>0</td><td>0</td><td>0</td><td>0</td><td>0</td><td>0</td><td>0</td><td>0</td><td>0</td><td>0</td><td>0</td><td>0</td><td>0</td><td>0</td><td>0</td><td>0</td></tr><tr><td>&hellip;</td><td>&hellip;</td><td>&hellip;</td><td>&hellip;</td><td>&hellip;</td><td>&hellip;</td><td>&hellip;</td><td>&hellip;</td><td>&hellip;</td><td>&hellip;</td><td>&hellip;</td><td>&hellip;</td><td>&hellip;</td><td>&hellip;</td><td>&hellip;</td><td>&hellip;</td><td>&hellip;</td><td>&hellip;</td><td>&hellip;</td><td>&hellip;</td><td>&hellip;</td><td>&hellip;</td><td>&hellip;</td><td>&hellip;</td><td>&hellip;</td><td>&hellip;</td><td>&hellip;</td><td>&hellip;</td><td>&hellip;</td><td>&hellip;</td><td>&hellip;</td><td>&hellip;</td></tr><tr><td>1065160</td><td>2</td><td>2</td><td>0</td><td>0</td><td>0</td><td>0</td><td>1</td><td>0</td><td>1</td><td>0</td><td>0</td><td>0</td><td>0</td><td>0</td><td>0</td><td>0</td><td>0</td><td>0</td><td>0</td><td>0</td><td>0</td><td>0</td><td>0</td><td>0</td><td>0</td><td>0</td><td>0</td><td>0</td><td>0</td><td>0</td><td>0</td></tr><tr><td>1065230</td><td>3</td><td>0</td><td>0</td><td>0</td><td>0</td><td>0</td><td>1</td><td>0</td><td>1</td><td>0</td><td>0</td><td>0</td><td>0</td><td>0</td><td>0</td><td>0</td><td>0</td><td>0</td><td>0</td><td>0</td><td>0</td><td>0</td><td>0</td><td>0</td><td>0</td><td>0</td><td>0</td><td>0</td><td>0</td><td>0</td><td>0</td></tr><tr><td>1065570</td><td>8</td><td>1</td><td>0</td><td>0</td><td>0</td><td>0</td><td>1</td><td>0</td><td>0</td><td>0</td><td>0</td><td>0</td><td>0</td><td>0</td><td>0</td><td>0</td><td>0</td><td>0</td><td>0</td><td>0</td><td>0</td><td>0</td><td>0</td><td>0</td><td>0</td><td>0</td><td>0</td><td>0</td><td>0</td><td>0</td><td>0</td></tr><tr><td>1065650</td><td>0</td><td>1</td><td>1</td><td>0</td><td>0</td><td>0</td><td>1</td><td>1</td><td>1</td><td>0</td><td>0</td><td>0</td><td>0</td><td>0</td><td>0</td><td>0</td><td>0</td><td>0</td><td>0</td><td>1</td><td>1</td><td>0</td><td>0</td><td>0</td><td>1</td><td>0</td><td>0</td><td>0</td><td>0</td><td>0</td><td>0</td></tr><tr><td>1066700</td><td>2</td><td>0</td><td>0</td><td>0</td><td>0</td><td>0</td><td>1</td><td>1</td><td>0</td><td>0</td><td>0</td><td>0</td><td>0</td><td>0</td><td>0</td><td>0</td><td>0</td><td>0</td><td>0</td><td>0</td><td>0</td><td>0</td><td>0</td><td>0</td><td>0</td><td>0</td><td>0</td><td>0</td><td>0</td><td>0</td><td>0</td></tr></tbody></table></div>"
      ],
      "text/plain": [
       "shape: (27_074, 32)\n",
       "┌─────────┬────────────┬────────────┬────────────┬───┬────────────┬──────┬────────────┬────────────┐\n",
       "│ appid   ┆ possitive_ ┆ negative_r ┆ Multi-play ┆ … ┆ VR Support ┆ Mods ┆ Mods       ┆ Steam Turn │\n",
       "│ ---     ┆ ratings    ┆ atings     ┆ er         ┆   ┆ ---        ┆ ---  ┆ (require   ┆ Notificati │\n",
       "│ i64     ┆ ---        ┆ ---        ┆ ---        ┆   ┆ i64        ┆ i64  ┆ HL2)       ┆ ons        │\n",
       "│         ┆ i64        ┆ i64        ┆ i64        ┆   ┆            ┆      ┆ ---        ┆ ---        │\n",
       "│         ┆            ┆            ┆            ┆   ┆            ┆      ┆ i64        ┆ i64        │\n",
       "╞═════════╪════════════╪════════════╪════════════╪═══╪════════════╪══════╪════════════╪════════════╡\n",
       "│ 10      ┆ 124534     ┆ 3339       ┆ 1          ┆ … ┆ 0          ┆ 0    ┆ 0          ┆ 0          │\n",
       "│ 20      ┆ 3318       ┆ 633        ┆ 1          ┆ … ┆ 0          ┆ 0    ┆ 0          ┆ 0          │\n",
       "│ 30      ┆ 3416       ┆ 398        ┆ 1          ┆ … ┆ 0          ┆ 0    ┆ 0          ┆ 0          │\n",
       "│ 40      ┆ 1273       ┆ 267        ┆ 1          ┆ … ┆ 0          ┆ 0    ┆ 0          ┆ 0          │\n",
       "│ 50      ┆ 5250       ┆ 288        ┆ 1          ┆ … ┆ 0          ┆ 0    ┆ 0          ┆ 0          │\n",
       "│ …       ┆ …          ┆ …          ┆ …          ┆ … ┆ …          ┆ …    ┆ …          ┆ …          │\n",
       "│ 1065160 ┆ 2          ┆ 2          ┆ 0          ┆ … ┆ 0          ┆ 0    ┆ 0          ┆ 0          │\n",
       "│ 1065230 ┆ 3          ┆ 0          ┆ 0          ┆ … ┆ 0          ┆ 0    ┆ 0          ┆ 0          │\n",
       "│ 1065570 ┆ 8          ┆ 1          ┆ 0          ┆ … ┆ 0          ┆ 0    ┆ 0          ┆ 0          │\n",
       "│ 1065650 ┆ 0          ┆ 1          ┆ 1          ┆ … ┆ 0          ┆ 0    ┆ 0          ┆ 0          │\n",
       "│ 1066700 ┆ 2          ┆ 0          ┆ 0          ┆ … ┆ 0          ┆ 0    ┆ 0          ┆ 0          │\n",
       "└─────────┴────────────┴────────────┴────────────┴───┴────────────┴──────┴────────────┴────────────┘"
      ]
     },
     "execution_count": 22,
     "metadata": {},
     "output_type": "execute_result"
    }
   ],
   "source": [
    "df_categorias[:-1]"
   ]
  },
  {
   "cell_type": "code",
   "execution_count": 23,
   "metadata": {},
   "outputs": [
    {
     "data": {
      "text/html": [
       "<div><style>\n",
       ".dataframe > thead > tr,\n",
       ".dataframe > tbody > tr {\n",
       "  text-align: right;\n",
       "  white-space: pre-wrap;\n",
       "}\n",
       "</style>\n",
       "<small>shape: (27_075, 4)</small><table border=\"1\" class=\"dataframe\"><thead><tr><th>appid</th><th>windows</th><th>mac</th><th>linux</th></tr><tr><td>i64</td><td>i64</td><td>i64</td><td>i64</td></tr></thead><tbody><tr><td>10</td><td>1</td><td>1</td><td>1</td></tr><tr><td>20</td><td>1</td><td>1</td><td>1</td></tr><tr><td>30</td><td>1</td><td>1</td><td>1</td></tr><tr><td>40</td><td>1</td><td>1</td><td>1</td></tr><tr><td>50</td><td>1</td><td>1</td><td>1</td></tr><tr><td>&hellip;</td><td>&hellip;</td><td>&hellip;</td><td>&hellip;</td></tr><tr><td>1065230</td><td>1</td><td>0</td><td>0</td></tr><tr><td>1065570</td><td>1</td><td>0</td><td>0</td></tr><tr><td>1065650</td><td>1</td><td>0</td><td>0</td></tr><tr><td>1066700</td><td>1</td><td>1</td><td>0</td></tr><tr><td>1069460</td><td>1</td><td>1</td><td>0</td></tr></tbody></table></div>"
      ],
      "text/plain": [
       "shape: (27_075, 4)\n",
       "┌─────────┬─────────┬─────┬───────┐\n",
       "│ appid   ┆ windows ┆ mac ┆ linux │\n",
       "│ ---     ┆ ---     ┆ --- ┆ ---   │\n",
       "│ i64     ┆ i64     ┆ i64 ┆ i64   │\n",
       "╞═════════╪═════════╪═════╪═══════╡\n",
       "│ 10      ┆ 1       ┆ 1   ┆ 1     │\n",
       "│ 20      ┆ 1       ┆ 1   ┆ 1     │\n",
       "│ 30      ┆ 1       ┆ 1   ┆ 1     │\n",
       "│ 40      ┆ 1       ┆ 1   ┆ 1     │\n",
       "│ 50      ┆ 1       ┆ 1   ┆ 1     │\n",
       "│ …       ┆ …       ┆ …   ┆ …     │\n",
       "│ 1065230 ┆ 1       ┆ 0   ┆ 0     │\n",
       "│ 1065570 ┆ 1       ┆ 0   ┆ 0     │\n",
       "│ 1065650 ┆ 1       ┆ 0   ┆ 0     │\n",
       "│ 1066700 ┆ 1       ┆ 1   ┆ 0     │\n",
       "│ 1069460 ┆ 1       ┆ 1   ┆ 0     │\n",
       "└─────────┴─────────┴─────┴───────┘"
      ]
     },
     "execution_count": 23,
     "metadata": {},
     "output_type": "execute_result"
    }
   ],
   "source": [
    "df_plataformas"
   ]
  },
  {
   "cell_type": "code",
   "execution_count": null,
   "metadata": {},
   "outputs": [],
   "source": [
    "# Verificando como voy a obtener los nombres de las columnas dentro de los ciclos for\n",
    "print(df_generos[:,3].name)\n",
    "print(df_categorias[:,3].name)"
   ]
  },
  {
   "cell_type": "code",
   "execution_count": null,
   "metadata": {},
   "outputs": [],
   "source": [
    "df_categorias"
   ]
  },
  {
   "cell_type": "markdown",
   "metadata": {},
   "source": [
    "***\n",
    "Aca, puedo sencillamente crear la Metrica que crea Conveniente para caso de Estudio\n",
    "* Tablas Generos y Categorias\n",
    "    * diferencial_ratings : Diferencia entre calificaciones Positivas y Negativas\n",
    "    * percent_possitive: Porcentaje de Calificaciones Positivas con respecto al total"
   ]
  },
  {
   "cell_type": "code",
   "execution_count": 24,
   "metadata": {},
   "outputs": [],
   "source": [
    "df_generos = df_generos.with_columns(\n",
    "    diferencial_ratings = pl.col('possitive_ratings') - pl.col('negative_ratings')\n",
    ")\n",
    "\n",
    "df_generos = df_generos.with_columns(\n",
    "    percent_possitive = pl.col('possitive_ratings') / (pl.col('possitive_ratings') + pl.col('negative_ratings'))\n",
    ")"
   ]
  },
  {
   "cell_type": "code",
   "execution_count": 25,
   "metadata": {},
   "outputs": [],
   "source": [
    "df_categorias = df_categorias.with_columns(\n",
    "    diferencial_ratings = pl.col('possitive_ratings') - pl.col('negative_ratings')\n",
    ")\n",
    "\n",
    "df_categorias = df_categorias.with_columns(\n",
    "    percent_possitive = pl.col('possitive_ratings') / (pl.col('possitive_ratings') + pl.col('negative_ratings'))\n",
    ")"
   ]
  },
  {
   "cell_type": "code",
   "execution_count": 26,
   "metadata": {},
   "outputs": [],
   "source": [
    "df = df.drop('platforms').drop('categories').drop('genres')"
   ]
  },
  {
   "cell_type": "markdown",
   "metadata": {},
   "source": [
    "Hasta aca lo que se hizo fue Splitear a Generos, Categorias y Plataformas para poder estudiarlos por separado\n",
    "de una tabla (o archivo csv) se convienrten en 4 donde permanecen enlazados por el `id del videojuego appid`"
   ]
  },
  {
   "cell_type": "code",
   "execution_count": 27,
   "metadata": {},
   "outputs": [],
   "source": [
    "df.write_csv('data/03_steam_videojuegos.csv')\n",
    "df_categorias.write_csv('data/03_steam_categorias_videojuegos.csv')\n",
    "df_generos.write_csv('data/03_steam_generos_videojuegos.csv')\n",
    "df_plataformas.write_csv('data/03_steam_plataformas_videojuegos.csv')"
   ]
  },
  {
   "cell_type": "code",
   "execution_count": 28,
   "metadata": {},
   "outputs": [
    {
     "data": {
      "text/plain": [
       "(27075, 34)"
      ]
     },
     "execution_count": 28,
     "metadata": {},
     "output_type": "execute_result"
    }
   ],
   "source": [
    "df_generos.shape"
   ]
  }
 ],
 "metadata": {
  "kernelspec": {
   "display_name": "venv_modulo5",
   "language": "python",
   "name": "python3"
  },
  "language_info": {
   "codemirror_mode": {
    "name": "ipython",
    "version": 3
   },
   "file_extension": ".py",
   "mimetype": "text/x-python",
   "name": "python",
   "nbconvert_exporter": "python",
   "pygments_lexer": "ipython3",
   "version": "3.10.11"
  }
 },
 "nbformat": 4,
 "nbformat_minor": 2
}
