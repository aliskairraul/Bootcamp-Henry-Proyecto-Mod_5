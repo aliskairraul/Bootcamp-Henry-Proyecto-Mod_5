{
 "cells": [
  {
   "cell_type": "markdown",
   "metadata": {},
   "source": [
    "### EDA GAMING\n",
    "Importando las librerias"
   ]
  },
  {
   "cell_type": "code",
   "execution_count": 1,
   "metadata": {},
   "outputs": [],
   "source": [
    "import pandas as pd\n",
    "import duckdb \n",
    "import polars as pl"
   ]
  },
  {
   "cell_type": "code",
   "execution_count": 2,
   "metadata": {},
   "outputs": [],
   "source": [
    "df = pl.read_csv('csv_originales/02_Console_sales_retocado.csv', separator=';')"
   ]
  },
  {
   "cell_type": "code",
   "execution_count": 3,
   "metadata": {},
   "outputs": [
    {
     "data": {
      "text/html": [
       "<div><style>\n",
       ".dataframe > thead > tr,\n",
       ".dataframe > tbody > tr {\n",
       "  text-align: right;\n",
       "  white-space: pre-wrap;\n",
       "}\n",
       "</style>\n",
       "<small>shape: (77, 5)</small><table border=\"1\" class=\"dataframe\"><thead><tr><th>Year</th><th>Dato</th><th>Console</th><th>Company</th><th>Sales</th></tr><tr><td>i64</td><td>str</td><td>str</td><td>str</td><td>str</td></tr></thead><tbody><tr><td>2011</td><td>&quot;anual&quot;</td><td>&quot;Nintendo 3DS&quot;</td><td>&quot;Nintendo&quot;</td><td>&quot;12.560.000&quot;</td></tr><tr><td>2012</td><td>&quot;anual&quot;</td><td>&quot;Nintendo 3DS&quot;</td><td>&quot;Nintendo&quot;</td><td>&quot;13.480.000&quot;</td></tr><tr><td>2013</td><td>&quot;anual&quot;</td><td>&quot;Nintendo 3DS&quot;</td><td>&quot;Nintendo&quot;</td><td>&quot;14.310.000&quot;</td></tr><tr><td>2014</td><td>&quot;anual&quot;</td><td>&quot;Nintendo 3DS&quot;</td><td>&quot;Nintendo&quot;</td><td>&quot;9.740.000&quot;</td></tr><tr><td>2015</td><td>&quot;anual&quot;</td><td>&quot;Nintendo 3DS&quot;</td><td>&quot;Nintendo&quot;</td><td>&quot;7.330.000&quot;</td></tr><tr><td>&hellip;</td><td>&hellip;</td><td>&hellip;</td><td>&hellip;</td><td>&hellip;</td></tr><tr><td>2013</td><td>&quot;anual&quot;</td><td>&quot;Xbox360&quot;</td><td>&quot;Microsoft&quot;</td><td>&quot;6.240.000&quot;</td></tr><tr><td>2014</td><td>&quot;anual&quot;</td><td>&quot;Xbox360&quot;</td><td>&quot;Microsoft&quot;</td><td>&quot;2.600.000&quot;</td></tr><tr><td>2015</td><td>&quot;anual&quot;</td><td>&quot;Xbox360&quot;</td><td>&quot;Microsoft&quot;</td><td>&quot;930.000&quot;</td></tr><tr><td>2016</td><td>&quot;anual&quot;</td><td>&quot;Xbox360&quot;</td><td>&quot;Microsoft&quot;</td><td>&quot;390.000&quot;</td></tr><tr><td>2017</td><td>&quot;anual&quot;</td><td>&quot;Xbox360&quot;</td><td>&quot;Microsoft&quot;</td><td>&quot;60.000&quot;</td></tr></tbody></table></div>"
      ],
      "text/plain": [
       "shape: (77, 5)\n",
       "┌──────┬───────┬──────────────┬───────────┬────────────┐\n",
       "│ Year ┆ Dato  ┆ Console      ┆ Company   ┆ Sales      │\n",
       "│ ---  ┆ ---   ┆ ---          ┆ ---       ┆ ---        │\n",
       "│ i64  ┆ str   ┆ str          ┆ str       ┆ str        │\n",
       "╞══════╪═══════╪══════════════╪═══════════╪════════════╡\n",
       "│ 2011 ┆ anual ┆ Nintendo 3DS ┆ Nintendo  ┆ 12.560.000 │\n",
       "│ 2012 ┆ anual ┆ Nintendo 3DS ┆ Nintendo  ┆ 13.480.000 │\n",
       "│ 2013 ┆ anual ┆ Nintendo 3DS ┆ Nintendo  ┆ 14.310.000 │\n",
       "│ 2014 ┆ anual ┆ Nintendo 3DS ┆ Nintendo  ┆ 9.740.000  │\n",
       "│ 2015 ┆ anual ┆ Nintendo 3DS ┆ Nintendo  ┆ 7.330.000  │\n",
       "│ …    ┆ …     ┆ …            ┆ …         ┆ …          │\n",
       "│ 2013 ┆ anual ┆ Xbox360      ┆ Microsoft ┆ 6.240.000  │\n",
       "│ 2014 ┆ anual ┆ Xbox360      ┆ Microsoft ┆ 2.600.000  │\n",
       "│ 2015 ┆ anual ┆ Xbox360      ┆ Microsoft ┆ 930.000    │\n",
       "│ 2016 ┆ anual ┆ Xbox360      ┆ Microsoft ┆ 390.000    │\n",
       "│ 2017 ┆ anual ┆ Xbox360      ┆ Microsoft ┆ 60.000     │\n",
       "└──────┴───────┴──────────────┴───────────┴────────────┘"
      ]
     },
     "execution_count": 3,
     "metadata": {},
     "output_type": "execute_result"
    }
   ],
   "source": [
    "df"
   ]
  },
  {
   "cell_type": "code",
   "execution_count": 4,
   "metadata": {},
   "outputs": [],
   "source": [
    "df = df.with_columns(\n",
    "    Sales = pl.col('Sales').str.replace_all('\\.','').cast(pl.Int64) \n",
    ")"
   ]
  },
  {
   "cell_type": "code",
   "execution_count": 5,
   "metadata": {},
   "outputs": [
    {
     "data": {
      "text/html": [
       "<div><style>\n",
       ".dataframe > thead > tr,\n",
       ".dataframe > tbody > tr {\n",
       "  text-align: right;\n",
       "  white-space: pre-wrap;\n",
       "}\n",
       "</style>\n",
       "<small>shape: (77, 5)</small><table border=\"1\" class=\"dataframe\"><thead><tr><th>Year</th><th>Dato</th><th>Console</th><th>Company</th><th>Sales</th></tr><tr><td>i64</td><td>str</td><td>str</td><td>str</td><td>i64</td></tr></thead><tbody><tr><td>2011</td><td>&quot;anual&quot;</td><td>&quot;Nintendo 3DS&quot;</td><td>&quot;Nintendo&quot;</td><td>12560000</td></tr><tr><td>2012</td><td>&quot;anual&quot;</td><td>&quot;Nintendo 3DS&quot;</td><td>&quot;Nintendo&quot;</td><td>13480000</td></tr><tr><td>2013</td><td>&quot;anual&quot;</td><td>&quot;Nintendo 3DS&quot;</td><td>&quot;Nintendo&quot;</td><td>14310000</td></tr><tr><td>2014</td><td>&quot;anual&quot;</td><td>&quot;Nintendo 3DS&quot;</td><td>&quot;Nintendo&quot;</td><td>9740000</td></tr><tr><td>2015</td><td>&quot;anual&quot;</td><td>&quot;Nintendo 3DS&quot;</td><td>&quot;Nintendo&quot;</td><td>7330000</td></tr><tr><td>&hellip;</td><td>&hellip;</td><td>&hellip;</td><td>&hellip;</td><td>&hellip;</td></tr><tr><td>2013</td><td>&quot;anual&quot;</td><td>&quot;Xbox360&quot;</td><td>&quot;Microsoft&quot;</td><td>6240000</td></tr><tr><td>2014</td><td>&quot;anual&quot;</td><td>&quot;Xbox360&quot;</td><td>&quot;Microsoft&quot;</td><td>2600000</td></tr><tr><td>2015</td><td>&quot;anual&quot;</td><td>&quot;Xbox360&quot;</td><td>&quot;Microsoft&quot;</td><td>930000</td></tr><tr><td>2016</td><td>&quot;anual&quot;</td><td>&quot;Xbox360&quot;</td><td>&quot;Microsoft&quot;</td><td>390000</td></tr><tr><td>2017</td><td>&quot;anual&quot;</td><td>&quot;Xbox360&quot;</td><td>&quot;Microsoft&quot;</td><td>60000</td></tr></tbody></table></div>"
      ],
      "text/plain": [
       "shape: (77, 5)\n",
       "┌──────┬───────┬──────────────┬───────────┬──────────┐\n",
       "│ Year ┆ Dato  ┆ Console      ┆ Company   ┆ Sales    │\n",
       "│ ---  ┆ ---   ┆ ---          ┆ ---       ┆ ---      │\n",
       "│ i64  ┆ str   ┆ str          ┆ str       ┆ i64      │\n",
       "╞══════╪═══════╪══════════════╪═══════════╪══════════╡\n",
       "│ 2011 ┆ anual ┆ Nintendo 3DS ┆ Nintendo  ┆ 12560000 │\n",
       "│ 2012 ┆ anual ┆ Nintendo 3DS ┆ Nintendo  ┆ 13480000 │\n",
       "│ 2013 ┆ anual ┆ Nintendo 3DS ┆ Nintendo  ┆ 14310000 │\n",
       "│ 2014 ┆ anual ┆ Nintendo 3DS ┆ Nintendo  ┆ 9740000  │\n",
       "│ 2015 ┆ anual ┆ Nintendo 3DS ┆ Nintendo  ┆ 7330000  │\n",
       "│ …    ┆ …     ┆ …            ┆ …         ┆ …        │\n",
       "│ 2013 ┆ anual ┆ Xbox360      ┆ Microsoft ┆ 6240000  │\n",
       "│ 2014 ┆ anual ┆ Xbox360      ┆ Microsoft ┆ 2600000  │\n",
       "│ 2015 ┆ anual ┆ Xbox360      ┆ Microsoft ┆ 930000   │\n",
       "│ 2016 ┆ anual ┆ Xbox360      ┆ Microsoft ┆ 390000   │\n",
       "│ 2017 ┆ anual ┆ Xbox360      ┆ Microsoft ┆ 60000    │\n",
       "└──────┴───────┴──────────────┴───────────┴──────────┘"
      ]
     },
     "execution_count": 5,
     "metadata": {},
     "output_type": "execute_result"
    }
   ],
   "source": [
    "df"
   ]
  },
  {
   "cell_type": "code",
   "execution_count": 12,
   "metadata": {},
   "outputs": [
    {
     "name": "stdout",
     "output_type": "stream",
     "text": [
      "┌─────────────────┬──────────────┐\n",
      "│     Console     │ TOTAL_VENTAS │\n",
      "│     varchar     │    int128    │\n",
      "├─────────────────┼──────────────┤\n",
      "│ Sony PS4        │     91820000 │\n",
      "│ Nintendo DS     │     89890000 │\n",
      "│ Nintendo Wii    │     81510000 │\n",
      "│ Sony PS3        │     77730000 │\n",
      "│ Nintendo 3DS    │     74700000 │\n",
      "│ Xbox360         │     69910000 │\n",
      "│ Sony PSP        │     48290000 │\n",
      "│ Xbox One        │     43160000 │\n",
      "│ Nintendo Switch │     28900000 │\n",
      "│ Sony PS Vita    │     15530000 │\n",
      "│ Nintendo Wii U  │     13630000 │\n",
      "├─────────────────┴──────────────┤\n",
      "│ 11 rows              2 columns │\n",
      "└────────────────────────────────┘\n",
      "\n"
     ]
    }
   ],
   "source": [
    "duckdb.sql(\"\"\"\n",
    "    SELECT Console, SUM(Sales) AS TOTAL_VENTAS\n",
    "    FROM df \n",
    "    GROUP BY 1\n",
    "    ORDER BY 2 DESC;       \n",
    "\"\"\").show()"
   ]
  },
  {
   "cell_type": "code",
   "execution_count": 10,
   "metadata": {},
   "outputs": [
    {
     "name": "stdout",
     "output_type": "stream",
     "text": [
      "┌───────────┬──────────────┐\n",
      "│  Company  │ TOTAL_VENTAS │\n",
      "│  varchar  │    int128    │\n",
      "├───────────┼──────────────┤\n",
      "│ Nintendo  │    288630000 │\n",
      "│ Sony      │    233370000 │\n",
      "│ Microsoft │    113070000 │\n",
      "└───────────┴──────────────┘\n",
      "\n"
     ]
    }
   ],
   "source": [
    "duckdb.sql(\"\"\"\n",
    "    SELECT Company, SUM(Sales) AS TOTAL_VENTAS\n",
    "    FROM df \n",
    "    GROUP BY 1\n",
    "    ORDER BY 2 DESC;       \n",
    "\"\"\").show()"
   ]
  }
 ],
 "metadata": {
  "kernelspec": {
   "display_name": "venv_modulo5",
   "language": "python",
   "name": "python3"
  },
  "language_info": {
   "codemirror_mode": {
    "name": "ipython",
    "version": 3
   },
   "file_extension": ".py",
   "mimetype": "text/x-python",
   "name": "python",
   "nbconvert_exporter": "python",
   "pygments_lexer": "ipython3",
   "version": "3.10.11"
  }
 },
 "nbformat": 4,
 "nbformat_minor": 2
}
