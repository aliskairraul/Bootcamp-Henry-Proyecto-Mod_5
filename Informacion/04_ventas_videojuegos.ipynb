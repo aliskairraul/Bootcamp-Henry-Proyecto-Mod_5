{
 "cells": [
  {
   "cell_type": "markdown",
   "metadata": {},
   "source": [
    "### EDA GAMING Video_Games_Sales"
   ]
  },
  {
   "cell_type": "markdown",
   "metadata": {},
   "source": [
    "### Campos:\n",
    "- Name\n",
    "    - Nombre del VideoJuego\n",
    "- Platform\n",
    "    - Plataforma\n",
    "- Year_of_Release\n",
    "    - Año de Lanzamiento\n",
    "- Genre\n",
    "    - Genero\n",
    "- Publisher\n",
    "    - Casa que Publica\n",
    "- NA_Sales\n",
    "    - Ventas en Norte America\n",
    "- EU_Sales\n",
    "    - Ventas en Union Europea\n",
    "- JP_Sales\n",
    "    - Ventas en Japon\n",
    "- Other_Sales\n",
    "    - Ventas en otros Lugares\n",
    "- Global_Sales\n",
    "    - Ventas Globales\n",
    "- Critic_Score\n",
    "    - Calificación de la Critica\n",
    "- Critic_Count\n",
    "    - Cantidad de Calificaciones\n",
    "- User_Score\n",
    "    - Puntuacion Usuario\n",
    "- User_Count\n",
    "    - Recuento de Usuarios\n",
    "- Developer\n",
    "    - Desarrollador\n",
    "- Rating\n",
    "   - Clasificación"
   ]
  },
  {
   "cell_type": "code",
   "execution_count": null,
   "metadata": {},
   "outputs": [],
   "source": [
    "# %config InlineBackend.figure_format = 'retina'\n",
    "# pd.set_option('display.max_columns', None)"
   ]
  },
  {
   "cell_type": "markdown",
   "metadata": {},
   "source": [
    "Importando Librerias"
   ]
  },
  {
   "cell_type": "code",
   "execution_count": 1,
   "metadata": {},
   "outputs": [],
   "source": [
    "import polars as pl\n",
    "import duckdb"
   ]
  },
  {
   "cell_type": "code",
   "execution_count": 2,
   "metadata": {},
   "outputs": [],
   "source": [
    "df = pl.read_csv('csv_originales/04_Video_Games_Sales.csv',\n",
    "                 separator=',',\n",
    "                 null_values=[\"N/A\", \"NA\"])"
   ]
  },
  {
   "cell_type": "code",
   "execution_count": 3,
   "metadata": {},
   "outputs": [
    {
     "data": {
      "text/html": [
       "<div><style>\n",
       ".dataframe > thead > tr,\n",
       ".dataframe > tbody > tr {\n",
       "  text-align: right;\n",
       "  white-space: pre-wrap;\n",
       "}\n",
       "</style>\n",
       "<small>shape: (16_719, 16)</small><table border=\"1\" class=\"dataframe\"><thead><tr><th>Name</th><th>Platform</th><th>Year_of_Release</th><th>Genre</th><th>Publisher</th><th>NA_Sales</th><th>EU_Sales</th><th>JP_Sales</th><th>Other_Sales</th><th>Global_Sales</th><th>Critic_Score</th><th>Critic_Count</th><th>User_Score</th><th>User_Count</th><th>Developer</th><th>Rating</th></tr><tr><td>str</td><td>str</td><td>i64</td><td>str</td><td>str</td><td>f64</td><td>f64</td><td>f64</td><td>f64</td><td>f64</td><td>i64</td><td>i64</td><td>str</td><td>i64</td><td>str</td><td>str</td></tr></thead><tbody><tr><td>&quot;Wii Sports&quot;</td><td>&quot;Wii&quot;</td><td>2006</td><td>&quot;Sports&quot;</td><td>&quot;Nintendo&quot;</td><td>41.36</td><td>28.96</td><td>3.77</td><td>null</td><td>82.53</td><td>76</td><td>51</td><td>&quot;8&quot;</td><td>322</td><td>&quot;Nintendo&quot;</td><td>&quot;E&quot;</td></tr><tr><td>&quot;Super Mario Bros.&quot;</td><td>&quot;NES&quot;</td><td>1985</td><td>&quot;Platform&quot;</td><td>&quot;Nintendo&quot;</td><td>29.08</td><td>3.58</td><td>6.81</td><td>0.77</td><td>40.24</td><td>null</td><td>null</td><td>&quot;&quot;</td><td>null</td><td>&quot;&quot;</td><td>&quot;&quot;</td></tr><tr><td>&quot;Mario Kart Wii&quot;</td><td>&quot;Wii&quot;</td><td>2008</td><td>&quot;Racing&quot;</td><td>&quot;Nintendo&quot;</td><td>15.68</td><td>12.76</td><td>3.79</td><td>3.29</td><td>35.52</td><td>82</td><td>73</td><td>&quot;8.3&quot;</td><td>709</td><td>&quot;Nintendo&quot;</td><td>&quot;E&quot;</td></tr><tr><td>&quot;Wii Sports Resort&quot;</td><td>&quot;Wii&quot;</td><td>2009</td><td>&quot;Sports&quot;</td><td>&quot;Nintendo&quot;</td><td>15.61</td><td>10.93</td><td>3.28</td><td>null</td><td>32.77</td><td>80</td><td>73</td><td>&quot;8&quot;</td><td>192</td><td>&quot;Nintendo&quot;</td><td>&quot;E&quot;</td></tr><tr><td>&quot;Pokemon Red/Pokemon Blue&quot;</td><td>&quot;GB&quot;</td><td>1996</td><td>&quot;Role-Playing&quot;</td><td>&quot;Nintendo&quot;</td><td>11.27</td><td>8.89</td><td>10.22</td><td>1.0</td><td>31.37</td><td>null</td><td>null</td><td>&quot;&quot;</td><td>null</td><td>&quot;&quot;</td><td>&quot;&quot;</td></tr><tr><td>&hellip;</td><td>&hellip;</td><td>&hellip;</td><td>&hellip;</td><td>&hellip;</td><td>&hellip;</td><td>&hellip;</td><td>&hellip;</td><td>&hellip;</td><td>&hellip;</td><td>&hellip;</td><td>&hellip;</td><td>&hellip;</td><td>&hellip;</td><td>&hellip;</td><td>&hellip;</td></tr><tr><td>&quot;Samurai Warriors: Sanada Maru&quot;</td><td>&quot;PS3&quot;</td><td>2016</td><td>&quot;Action&quot;</td><td>&quot;Tecmo Koei&quot;</td><td>0.0</td><td>0.0</td><td>0.01</td><td>0.0</td><td>0.01</td><td>null</td><td>null</td><td>&quot;&quot;</td><td>null</td><td>&quot;&quot;</td><td>&quot;&quot;</td></tr><tr><td>&quot;LMA Manager 2007&quot;</td><td>&quot;X360&quot;</td><td>2006</td><td>&quot;Sports&quot;</td><td>&quot;Codemasters&quot;</td><td>0.0</td><td>null</td><td>0.0</td><td>0.0</td><td>0.01</td><td>null</td><td>null</td><td>&quot;&quot;</td><td>null</td><td>&quot;&quot;</td><td>&quot;&quot;</td></tr><tr><td>&quot;Haitaka no Psychedelica&quot;</td><td>&quot;PSV&quot;</td><td>2016</td><td>&quot;Adventure&quot;</td><td>&quot;Idea Factory&quot;</td><td>0.0</td><td>0.0</td><td>0.01</td><td>0.0</td><td>0.01</td><td>null</td><td>null</td><td>&quot;&quot;</td><td>null</td><td>&quot;&quot;</td><td>&quot;&quot;</td></tr><tr><td>&quot;Spirits &amp; Spells&quot;</td><td>&quot;GBA&quot;</td><td>2003</td><td>&quot;Platform&quot;</td><td>&quot;Wanadoo&quot;</td><td>0.01</td><td>0.0</td><td>0.0</td><td>0.0</td><td>0.01</td><td>null</td><td>null</td><td>&quot;&quot;</td><td>null</td><td>&quot;&quot;</td><td>&quot;&quot;</td></tr><tr><td>&quot;Winning Post 8 2016&quot;</td><td>&quot;PSV&quot;</td><td>2016</td><td>&quot;Simulation&quot;</td><td>&quot;Tecmo Koei&quot;</td><td>0.0</td><td>null</td><td>0.01</td><td>0.0</td><td>0.01</td><td>null</td><td>null</td><td>&quot;&quot;</td><td>null</td><td>&quot;&quot;</td><td>&quot;&quot;</td></tr></tbody></table></div>"
      ],
      "text/plain": [
       "shape: (16_719, 16)\n",
       "┌────────────┬──────────┬────────────┬────────────┬───┬───────────┬───────────┬───────────┬────────┐\n",
       "│ Name       ┆ Platform ┆ Year_of_Re ┆ Genre      ┆ … ┆ User_Scor ┆ User_Coun ┆ Developer ┆ Rating │\n",
       "│ ---        ┆ ---      ┆ lease      ┆ ---        ┆   ┆ e         ┆ t         ┆ ---       ┆ ---    │\n",
       "│ str        ┆ str      ┆ ---        ┆ str        ┆   ┆ ---       ┆ ---       ┆ str       ┆ str    │\n",
       "│            ┆          ┆ i64        ┆            ┆   ┆ str       ┆ i64       ┆           ┆        │\n",
       "╞════════════╪══════════╪════════════╪════════════╪═══╪═══════════╪═══════════╪═══════════╪════════╡\n",
       "│ Wii Sports ┆ Wii      ┆ 2006       ┆ Sports     ┆ … ┆ 8         ┆ 322       ┆ Nintendo  ┆ E      │\n",
       "│ Super      ┆ NES      ┆ 1985       ┆ Platform   ┆ … ┆           ┆ null      ┆           ┆        │\n",
       "│ Mario      ┆          ┆            ┆            ┆   ┆           ┆           ┆           ┆        │\n",
       "│ Bros.      ┆          ┆            ┆            ┆   ┆           ┆           ┆           ┆        │\n",
       "│ Mario Kart ┆ Wii      ┆ 2008       ┆ Racing     ┆ … ┆ 8.3       ┆ 709       ┆ Nintendo  ┆ E      │\n",
       "│ Wii        ┆          ┆            ┆            ┆   ┆           ┆           ┆           ┆        │\n",
       "│ Wii Sports ┆ Wii      ┆ 2009       ┆ Sports     ┆ … ┆ 8         ┆ 192       ┆ Nintendo  ┆ E      │\n",
       "│ Resort     ┆          ┆            ┆            ┆   ┆           ┆           ┆           ┆        │\n",
       "│ Pokemon    ┆ GB       ┆ 1996       ┆ Role-Playi ┆ … ┆           ┆ null      ┆           ┆        │\n",
       "│ Red/Pokemo ┆          ┆            ┆ ng         ┆   ┆           ┆           ┆           ┆        │\n",
       "│ n Blue     ┆          ┆            ┆            ┆   ┆           ┆           ┆           ┆        │\n",
       "│ …          ┆ …        ┆ …          ┆ …          ┆ … ┆ …         ┆ …         ┆ …         ┆ …      │\n",
       "│ Samurai    ┆ PS3      ┆ 2016       ┆ Action     ┆ … ┆           ┆ null      ┆           ┆        │\n",
       "│ Warriors:  ┆          ┆            ┆            ┆   ┆           ┆           ┆           ┆        │\n",
       "│ Sanada     ┆          ┆            ┆            ┆   ┆           ┆           ┆           ┆        │\n",
       "│ Maru       ┆          ┆            ┆            ┆   ┆           ┆           ┆           ┆        │\n",
       "│ LMA        ┆ X360     ┆ 2006       ┆ Sports     ┆ … ┆           ┆ null      ┆           ┆        │\n",
       "│ Manager    ┆          ┆            ┆            ┆   ┆           ┆           ┆           ┆        │\n",
       "│ 2007       ┆          ┆            ┆            ┆   ┆           ┆           ┆           ┆        │\n",
       "│ Haitaka no ┆ PSV      ┆ 2016       ┆ Adventure  ┆ … ┆           ┆ null      ┆           ┆        │\n",
       "│ Psychedeli ┆          ┆            ┆            ┆   ┆           ┆           ┆           ┆        │\n",
       "│ ca         ┆          ┆            ┆            ┆   ┆           ┆           ┆           ┆        │\n",
       "│ Spirits &  ┆ GBA      ┆ 2003       ┆ Platform   ┆ … ┆           ┆ null      ┆           ┆        │\n",
       "│ Spells     ┆          ┆            ┆            ┆   ┆           ┆           ┆           ┆        │\n",
       "│ Winning    ┆ PSV      ┆ 2016       ┆ Simulation ┆ … ┆           ┆ null      ┆           ┆        │\n",
       "│ Post 8     ┆          ┆            ┆            ┆   ┆           ┆           ┆           ┆        │\n",
       "│ 2016       ┆          ┆            ┆            ┆   ┆           ┆           ┆           ┆        │\n",
       "└────────────┴──────────┴────────────┴────────────┴───┴───────────┴───────────┴───────────┴────────┘"
      ]
     },
     "execution_count": 3,
     "metadata": {},
     "output_type": "execute_result"
    }
   ],
   "source": [
    "df"
   ]
  },
  {
   "cell_type": "markdown",
   "metadata": {},
   "source": [
    "Determinando los Distintos Generos en las consolas"
   ]
  },
  {
   "cell_type": "code",
   "execution_count": 8,
   "metadata": {},
   "outputs": [
    {
     "name": "stdout",
     "output_type": "stream",
     "text": [
      "['Role-Playing', 'Sports', 'Platform', 'Puzzle', 'Adventure', 'Strategy', 'Shooter', 'Racing', 'Fighting', 'Simulation', 'Misc', None, 'Action']\n"
     ]
    }
   ],
   "source": [
    "generos = []\n",
    "for genero in df['Genre'].unique():\n",
    "    generos.append(genero)\n",
    "\n",
    "print(generos)"
   ]
  },
  {
   "cell_type": "code",
   "execution_count": 5,
   "metadata": {},
   "outputs": [
    {
     "data": {
      "text/html": [
       "<div><style>\n",
       ".dataframe > thead > tr,\n",
       ".dataframe > tbody > tr {\n",
       "  text-align: right;\n",
       "  white-space: pre-wrap;\n",
       "}\n",
       "</style>\n",
       "<small>shape: (13, 2)</small><table border=\"1\" class=\"dataframe\"><thead><tr><th>Genre</th><th>len</th></tr><tr><td>str</td><td>u32</td></tr></thead><tbody><tr><td>&quot;Simulation&quot;</td><td>874</td></tr><tr><td>&quot;Sports&quot;</td><td>2348</td></tr><tr><td>&quot;Shooter&quot;</td><td>1323</td></tr><tr><td>&quot;&quot;</td><td>2</td></tr><tr><td>&quot;Racing&quot;</td><td>1249</td></tr><tr><td>&hellip;</td><td>&hellip;</td></tr><tr><td>&quot;Platform&quot;</td><td>888</td></tr><tr><td>&quot;Strategy&quot;</td><td>683</td></tr><tr><td>&quot;Misc&quot;</td><td>1750</td></tr><tr><td>&quot;Role-Playing&quot;</td><td>1500</td></tr><tr><td>&quot;Adventure&quot;</td><td>1303</td></tr></tbody></table></div>"
      ],
      "text/plain": [
       "shape: (13, 2)\n",
       "┌──────────────┬──────┐\n",
       "│ Genre        ┆ len  │\n",
       "│ ---          ┆ ---  │\n",
       "│ str          ┆ u32  │\n",
       "╞══════════════╪══════╡\n",
       "│ Simulation   ┆ 874  │\n",
       "│ Sports       ┆ 2348 │\n",
       "│ Shooter      ┆ 1323 │\n",
       "│              ┆ 2    │\n",
       "│ Racing       ┆ 1249 │\n",
       "│ …            ┆ …    │\n",
       "│ Platform     ┆ 888  │\n",
       "│ Strategy     ┆ 683  │\n",
       "│ Misc         ┆ 1750 │\n",
       "│ Role-Playing ┆ 1500 │\n",
       "│ Adventure    ┆ 1303 │\n",
       "└──────────────┴──────┘"
      ]
     },
     "execution_count": 5,
     "metadata": {},
     "output_type": "execute_result"
    }
   ],
   "source": [
    "# df.group_by('Genre').count()   # Manera ya deprecada\n",
    "df.group_by('Genre').len()"
   ]
  },
  {
   "cell_type": "markdown",
   "metadata": {},
   "source": [
    "Cuantos Publisher Hay?"
   ]
  },
  {
   "cell_type": "code",
   "execution_count": 11,
   "metadata": {},
   "outputs": [
    {
     "data": {
      "text/plain": [
       "1696"
      ]
     },
     "execution_count": 11,
     "metadata": {},
     "output_type": "execute_result"
    }
   ],
   "source": [
    "df['Developer'].unique().count()"
   ]
  },
  {
   "cell_type": "markdown",
   "metadata": {},
   "source": [
    "#### Datos Faltantes"
   ]
  },
  {
   "cell_type": "code",
   "execution_count": 12,
   "metadata": {},
   "outputs": [
    {
     "name": "stdout",
     "output_type": "stream",
     "text": [
      "Name -->  2\n",
      "Platform -->  0\n",
      "Year_of_Release -->  269\n",
      "Genre -->  2\n",
      "Publisher -->  54\n",
      "NA_Sales -->  871\n",
      "EU_Sales -->  1199\n",
      "JP_Sales -->  0\n",
      "Other_Sales -->  1378\n",
      "Global_Sales -->  991\n",
      "Critic_Score -->  8582\n",
      "Critic_Count -->  8582\n",
      "User_Score -->  9129\n",
      "User_Count -->  9129\n",
      "Developer -->  6623\n",
      "Rating -->  6769\n"
     ]
    }
   ],
   "source": [
    "for column in df.columns:\n",
    "    print(f\"{column} -->  {df[column].is_null().sum()}\")"
   ]
  },
  {
   "cell_type": "markdown",
   "metadata": {},
   "source": [
    "***\n",
    "## Inputacion Datos Faltantes en Columnas Asociadas a Ventas"
   ]
  },
  {
   "cell_type": "markdown",
   "metadata": {},
   "source": [
    "#### Prestar Atención a la Fórmula\n",
    "`Global_Sales = Other_Sales + JP_Sales + EU_Sales + NA_Sales` <br>\n",
    "`Global_Sales` ---> Columna 9   --->  Ventas GLOBALES<br>\n",
    "`Other_Sales` ---> Colummna 8   --->  Ventas OTROS<br>\n",
    "`JP_Sales` ---> Columna 7       --->  Ventas JAPON<br>\n",
    "`EU_Sales` ---> Columna 6       --->  Ventas UNION EUROPEA<br>\n",
    "`NA_Sales` ---> Columna 5       --->  Ventas NORTE AMERICA<br>\n",
    "Recorrer TODOS los registros y aplicar la Fórmula donde se pueda<br>\n",
    "`Ejemplo`<br>\n",
    "Si en una fila `Other_Sales` es null o cero(0) y Todas las demas columnas tienen informacion numerica entonces<br>\n",
    "`Other_Sales` = `Global_Sales` - `JP_Sales` - `EU_Sales` - `NA_Sales` <br>\n",
    "y asi sucesivamente hay que estudiar todos los casos...\n"
   ]
  },
  {
   "cell_type": "code",
   "execution_count": 6,
   "metadata": {},
   "outputs": [],
   "source": [
    "for i in range(len(df)):\n",
    "    if df[i,5] is not None and\\\n",
    "       df[i,6] is not None and\\\n",
    "       df[i,7] is not None and\\\n",
    "       df[i,9] is not None and\\\n",
    "       (df[i,8] is None or df[i,8] == 0):\n",
    "        df[i,8] = df[i,9] - df[i,7] - df[i,6] - df[i,5]\n",
    "        continue\n",
    "      \n",
    "    if df[i,5] is not None and\\\n",
    "       df[i,6] is not None and\\\n",
    "       df[i,7] is not None and\\\n",
    "       df[i,8] is not None and\\\n",
    "       (df[i,9] is None or df[i,9] == 0):\n",
    "        df[i,9] = df[i,8] + df[i,7] + df[i,6] + df[i,5]\n",
    "        continue\n",
    "\n",
    "    if df[i,6] is not None and\\\n",
    "       df[i,7] is not None and\\\n",
    "       df[i,8] is not None and\\\n",
    "       df[i,9] is not None and\\\n",
    "       (df[i,5] is None or df[i,5] == 0):\n",
    "        df[i,5] = df[i,9] - df[i,8] - df[i,7] - df[i,6]\n",
    "        continue\n",
    "\n",
    "    if df[i,5] is not None and\\\n",
    "       df[i,7] is not None and\\\n",
    "       df[i,8] is not None and\\\n",
    "       df[i,9] is not None and\\\n",
    "       (df[i,6] is None or df[i,6] == 0):\n",
    "        df[i,6] = df[i,9] - df[i,8] - df[i,7] - df[i,5]\n",
    "        continue    "
   ]
  },
  {
   "cell_type": "markdown",
   "metadata": {},
   "source": [
    "Con la Aplicación de la Formula en todos los registros Veamos como quedan los registros Faltantes Solo en columnas de Ventas"
   ]
  },
  {
   "cell_type": "code",
   "execution_count": 7,
   "metadata": {},
   "outputs": [
    {
     "name": "stdout",
     "output_type": "stream",
     "text": [
      "NA_Sales -> 171   Antes Habían -->871\n",
      "EU_Sales -> 214   Antes Habían -->1199\n",
      "JP_Sales -> 0\n",
      "Other_Sales -> 234   Antes Habían -->1378\n",
      "Global_Sales -> 205   Antes Habían -->991\n"
     ]
    }
   ],
   "source": [
    "print(f\"NA_Sales -> {df['NA_Sales'].is_null().sum()}   Antes Habían -->871\")\n",
    "print(f\"EU_Sales -> {df['EU_Sales'].is_null().sum()}   Antes Habían -->1199\")\n",
    "print(f\"JP_Sales -> {df['JP_Sales'].is_null().sum()}\")\n",
    "print(f\"Other_Sales -> {df['Other_Sales'].is_null().sum()}   Antes Habían -->1378\")\n",
    "print(f\"Global_Sales -> {df['Global_Sales'].is_null().sum()}   Antes Habían -->991\")"
   ]
  },
  {
   "cell_type": "code",
   "execution_count": 8,
   "metadata": {},
   "outputs": [
    {
     "data": {
      "text/html": [
       "<div><style>\n",
       ".dataframe > thead > tr,\n",
       ".dataframe > tbody > tr {\n",
       "  text-align: right;\n",
       "  white-space: pre-wrap;\n",
       "}\n",
       "</style>\n",
       "<small>shape: (1, 16)</small><table border=\"1\" class=\"dataframe\"><thead><tr><th>Name</th><th>Platform</th><th>Year_of_Release</th><th>Genre</th><th>Publisher</th><th>NA_Sales</th><th>EU_Sales</th><th>JP_Sales</th><th>Other_Sales</th><th>Global_Sales</th><th>Critic_Score</th><th>Critic_Count</th><th>User_Score</th><th>User_Count</th><th>Developer</th><th>Rating</th></tr><tr><td>str</td><td>str</td><td>i64</td><td>str</td><td>str</td><td>f64</td><td>f64</td><td>f64</td><td>f64</td><td>f64</td><td>i64</td><td>i64</td><td>str</td><td>i64</td><td>str</td><td>str</td></tr></thead><tbody><tr><td>&quot;Wii Sports&quot;</td><td>&quot;Wii&quot;</td><td>2006</td><td>&quot;Sports&quot;</td><td>&quot;Nintendo&quot;</td><td>41.36</td><td>28.96</td><td>3.77</td><td>8.44</td><td>82.53</td><td>76</td><td>51</td><td>&quot;8&quot;</td><td>322</td><td>&quot;Nintendo&quot;</td><td>&quot;E&quot;</td></tr></tbody></table></div>"
      ],
      "text/plain": [
       "shape: (1, 16)\n",
       "┌────────────┬──────────┬──────────────┬────────┬───┬────────────┬────────────┬───────────┬────────┐\n",
       "│ Name       ┆ Platform ┆ Year_of_Rele ┆ Genre  ┆ … ┆ User_Score ┆ User_Count ┆ Developer ┆ Rating │\n",
       "│ ---        ┆ ---      ┆ ase          ┆ ---    ┆   ┆ ---        ┆ ---        ┆ ---       ┆ ---    │\n",
       "│ str        ┆ str      ┆ ---          ┆ str    ┆   ┆ str        ┆ i64        ┆ str       ┆ str    │\n",
       "│            ┆          ┆ i64          ┆        ┆   ┆            ┆            ┆           ┆        │\n",
       "╞════════════╪══════════╪══════════════╪════════╪═══╪════════════╪════════════╪═══════════╪════════╡\n",
       "│ Wii Sports ┆ Wii      ┆ 2006         ┆ Sports ┆ … ┆ 8          ┆ 322        ┆ Nintendo  ┆ E      │\n",
       "└────────────┴──────────┴──────────────┴────────┴───┴────────────┴────────────┴───────────┴────────┘"
      ]
     },
     "execution_count": 8,
     "metadata": {},
     "output_type": "execute_result"
    }
   ],
   "source": [
    "df[0]"
   ]
  },
  {
   "cell_type": "markdown",
   "metadata": {},
   "source": [
    "Verificar cuantos son los registros TOTALES con al menos 2 Campos de Ventas NULOS. (Recordar que el aplicar la formula en uno de los pasos anteriores eliminó la posibilidad de haya un solo campo de venta NULO) <br>\n"
   ]
  },
  {
   "cell_type": "code",
   "execution_count": 9,
   "metadata": {},
   "outputs": [
    {
     "data": {
      "text/plain": [
       "401"
      ]
     },
     "execution_count": 9,
     "metadata": {},
     "output_type": "execute_result"
    }
   ],
   "source": [
    "con_ventas_nulas = df.filter((df['Global_Sales'].is_null()) |\\\n",
    "                             (df['EU_Sales'].is_null()) |\\\n",
    "                             (df['Other_Sales'].is_null()) |\\\n",
    "                             (df['NA_Sales'].is_null())\n",
    "                            )\n",
    "\n",
    "len(con_ventas_nulas)"
   ]
  },
  {
   "cell_type": "code",
   "execution_count": 10,
   "metadata": {},
   "outputs": [
    {
     "data": {
      "text/plain": [
       "16318"
      ]
     },
     "execution_count": 10,
     "metadata": {},
     "output_type": "execute_result"
    }
   ],
   "source": [
    "sin_ventas_nulas = df.filter((~df['Global_Sales'].is_null()) &\\\n",
    "                             (~df['EU_Sales'].is_null()) &\\\n",
    "                             (~df['Other_Sales'].is_null()) &\\\n",
    "                             (~df['NA_Sales'].is_null())\n",
    "                            )\n",
    "\n",
    "len(sin_ventas_nulas)"
   ]
  },
  {
   "cell_type": "markdown",
   "metadata": {},
   "source": [
    "Hay 401 Registros con al menos 2 Zonas de Ventas Nulas de un total de 16719 Registros 2,4% de los Registros"
   ]
  },
  {
   "cell_type": "code",
   "execution_count": 21,
   "metadata": {},
   "outputs": [
    {
     "data": {
      "text/html": [
       "<div><style>\n",
       ".dataframe > thead > tr,\n",
       ".dataframe > tbody > tr {\n",
       "  text-align: right;\n",
       "  white-space: pre-wrap;\n",
       "}\n",
       "</style>\n",
       "<small>shape: (20, 16)</small><table border=\"1\" class=\"dataframe\"><thead><tr><th>Name</th><th>Platform</th><th>Year_of_Release</th><th>Genre</th><th>Publisher</th><th>NA_Sales</th><th>EU_Sales</th><th>JP_Sales</th><th>Other_Sales</th><th>Global_Sales</th><th>Critic_Score</th><th>Critic_Count</th><th>User_Score</th><th>User_Count</th><th>Developer</th><th>Rating</th></tr><tr><td>str</td><td>str</td><td>f64</td><td>str</td><td>str</td><td>f64</td><td>f64</td><td>f64</td><td>f64</td><td>f64</td><td>f64</td><td>f64</td><td>f64</td><td>f64</td><td>str</td><td>str</td></tr></thead><tbody><tr><td>&quot;Wii Sports&quot;</td><td>&quot;Wii&quot;</td><td>2006.0</td><td>&quot;Sports&quot;</td><td>&quot;Nintendo&quot;</td><td>41.36</td><td>28.96</td><td>3.77</td><td>8.44</td><td>82.53</td><td>76.0</td><td>51.0</td><td>8.0</td><td>322.0</td><td>&quot;Nintendo&quot;</td><td>&quot;E&quot;</td></tr><tr><td>&quot;Super Mario Bros.&quot;</td><td>&quot;NES&quot;</td><td>1985.0</td><td>&quot;Platform&quot;</td><td>&quot;Nintendo&quot;</td><td>29.08</td><td>3.58</td><td>6.81</td><td>0.77</td><td>40.24</td><td>null</td><td>null</td><td>null</td><td>null</td><td>null</td><td>null</td></tr><tr><td>&quot;Mario Kart Wii&quot;</td><td>&quot;Wii&quot;</td><td>2008.0</td><td>&quot;Racing&quot;</td><td>&quot;Nintendo&quot;</td><td>15.68</td><td>12.76</td><td>3.79</td><td>3.29</td><td>35.52</td><td>82.0</td><td>73.0</td><td>8.3</td><td>709.0</td><td>&quot;Nintendo&quot;</td><td>&quot;E&quot;</td></tr><tr><td>&quot;Wii Sports Resort&quot;</td><td>&quot;Wii&quot;</td><td>2009.0</td><td>&quot;Sports&quot;</td><td>&quot;Nintendo&quot;</td><td>15.61</td><td>10.93</td><td>3.28</td><td>2.95</td><td>32.77</td><td>80.0</td><td>73.0</td><td>8.0</td><td>192.0</td><td>&quot;Nintendo&quot;</td><td>&quot;E&quot;</td></tr><tr><td>&quot;Pokemon Red/Pokemon Blue&quot;</td><td>&quot;GB&quot;</td><td>1996.0</td><td>&quot;Role-Playing&quot;</td><td>&quot;Nintendo&quot;</td><td>11.27</td><td>8.89</td><td>10.22</td><td>1.0</td><td>31.37</td><td>null</td><td>null</td><td>null</td><td>null</td><td>null</td><td>null</td></tr><tr><td>&hellip;</td><td>&hellip;</td><td>&hellip;</td><td>&hellip;</td><td>&hellip;</td><td>&hellip;</td><td>&hellip;</td><td>&hellip;</td><td>&hellip;</td><td>&hellip;</td><td>&hellip;</td><td>&hellip;</td><td>&hellip;</td><td>&hellip;</td><td>&hellip;</td><td>&hellip;</td></tr><tr><td>&quot;Grand Theft Auto: San Andreas&quot;</td><td>&quot;PS2&quot;</td><td>2004.0</td><td>&quot;Action&quot;</td><td>&quot;Take-Two Interactive&quot;</td><td>9.43</td><td>0.4</td><td>0.41</td><td>10.57</td><td>20.81</td><td>95.0</td><td>80.0</td><td>9.0</td><td>1588.0</td><td>&quot;Rockstar North&quot;</td><td>&quot;M&quot;</td></tr><tr><td>&quot;Super Mario World&quot;</td><td>&quot;SNES&quot;</td><td>1990.0</td><td>&quot;Platform&quot;</td><td>&quot;Nintendo&quot;</td><td>12.78</td><td>3.75</td><td>3.54</td><td>0.55</td><td>20.61</td><td>null</td><td>null</td><td>null</td><td>null</td><td>null</td><td>null</td></tr><tr><td>&quot;Brain Age: Train Your Brain in…</td><td>&quot;DS&quot;</td><td>2005.0</td><td>&quot;Misc&quot;</td><td>&quot;Nintendo&quot;</td><td>4.74</td><td>9.2</td><td>4.16</td><td>2.04</td><td>20.15</td><td>77.0</td><td>58.0</td><td>7.9</td><td>50.0</td><td>&quot;Nintendo&quot;</td><td>&quot;E&quot;</td></tr><tr><td>&quot;Pokemon Diamond/Pokemon Pearl&quot;</td><td>&quot;DS&quot;</td><td>2006.0</td><td>&quot;Role-Playing&quot;</td><td>&quot;Nintendo&quot;</td><td>6.38</td><td>4.46</td><td>6.04</td><td>1.36</td><td>18.25</td><td>null</td><td>null</td><td>null</td><td>null</td><td>null</td><td>null</td></tr><tr><td>&quot;Super Mario Land&quot;</td><td>&quot;GB&quot;</td><td>1989.0</td><td>&quot;Platform&quot;</td><td>&quot;Nintendo&quot;</td><td>10.83</td><td>2.71</td><td>4.18</td><td>0.42</td><td>18.14</td><td>null</td><td>null</td><td>null</td><td>null</td><td>null</td><td>null</td></tr></tbody></table></div>"
      ],
      "text/plain": [
       "shape: (20, 16)\n",
       "┌────────────┬──────────┬────────────┬────────────┬───┬───────────┬───────────┬───────────┬────────┐\n",
       "│ Name       ┆ Platform ┆ Year_of_Re ┆ Genre      ┆ … ┆ User_Scor ┆ User_Coun ┆ Developer ┆ Rating │\n",
       "│ ---        ┆ ---      ┆ lease      ┆ ---        ┆   ┆ e         ┆ t         ┆ ---       ┆ ---    │\n",
       "│ str        ┆ str      ┆ ---        ┆ str        ┆   ┆ ---       ┆ ---       ┆ str       ┆ str    │\n",
       "│            ┆          ┆ f64        ┆            ┆   ┆ f64       ┆ f64       ┆           ┆        │\n",
       "╞════════════╪══════════╪════════════╪════════════╪═══╪═══════════╪═══════════╪═══════════╪════════╡\n",
       "│ Wii Sports ┆ Wii      ┆ 2006.0     ┆ Sports     ┆ … ┆ 8.0       ┆ 322.0     ┆ Nintendo  ┆ E      │\n",
       "│ Super      ┆ NES      ┆ 1985.0     ┆ Platform   ┆ … ┆ null      ┆ null      ┆ null      ┆ null   │\n",
       "│ Mario      ┆          ┆            ┆            ┆   ┆           ┆           ┆           ┆        │\n",
       "│ Bros.      ┆          ┆            ┆            ┆   ┆           ┆           ┆           ┆        │\n",
       "│ Mario Kart ┆ Wii      ┆ 2008.0     ┆ Racing     ┆ … ┆ 8.3       ┆ 709.0     ┆ Nintendo  ┆ E      │\n",
       "│ Wii        ┆          ┆            ┆            ┆   ┆           ┆           ┆           ┆        │\n",
       "│ Wii Sports ┆ Wii      ┆ 2009.0     ┆ Sports     ┆ … ┆ 8.0       ┆ 192.0     ┆ Nintendo  ┆ E      │\n",
       "│ Resort     ┆          ┆            ┆            ┆   ┆           ┆           ┆           ┆        │\n",
       "│ Pokemon    ┆ GB       ┆ 1996.0     ┆ Role-Playi ┆ … ┆ null      ┆ null      ┆ null      ┆ null   │\n",
       "│ Red/Pokemo ┆          ┆            ┆ ng         ┆   ┆           ┆           ┆           ┆        │\n",
       "│ n Blue     ┆          ┆            ┆            ┆   ┆           ┆           ┆           ┆        │\n",
       "│ …          ┆ …        ┆ …          ┆ …          ┆ … ┆ …         ┆ …         ┆ …         ┆ …      │\n",
       "│ Grand      ┆ PS2      ┆ 2004.0     ┆ Action     ┆ … ┆ 9.0       ┆ 1588.0    ┆ Rockstar  ┆ M      │\n",
       "│ Theft      ┆          ┆            ┆            ┆   ┆           ┆           ┆ North     ┆        │\n",
       "│ Auto: San  ┆          ┆            ┆            ┆   ┆           ┆           ┆           ┆        │\n",
       "│ Andreas    ┆          ┆            ┆            ┆   ┆           ┆           ┆           ┆        │\n",
       "│ Super      ┆ SNES     ┆ 1990.0     ┆ Platform   ┆ … ┆ null      ┆ null      ┆ null      ┆ null   │\n",
       "│ Mario      ┆          ┆            ┆            ┆   ┆           ┆           ┆           ┆        │\n",
       "│ World      ┆          ┆            ┆            ┆   ┆           ┆           ┆           ┆        │\n",
       "│ Brain Age: ┆ DS       ┆ 2005.0     ┆ Misc       ┆ … ┆ 7.9       ┆ 50.0      ┆ Nintendo  ┆ E      │\n",
       "│ Train Your ┆          ┆            ┆            ┆   ┆           ┆           ┆           ┆        │\n",
       "│ Brain in…  ┆          ┆            ┆            ┆   ┆           ┆           ┆           ┆        │\n",
       "│ Pokemon    ┆ DS       ┆ 2006.0     ┆ Role-Playi ┆ … ┆ null      ┆ null      ┆ null      ┆ null   │\n",
       "│ Diamond/Po ┆          ┆            ┆ ng         ┆   ┆           ┆           ┆           ┆        │\n",
       "│ kemon      ┆          ┆            ┆            ┆   ┆           ┆           ┆           ┆        │\n",
       "│ Pearl      ┆          ┆            ┆            ┆   ┆           ┆           ┆           ┆        │\n",
       "│ Super      ┆ GB       ┆ 1989.0     ┆ Platform   ┆ … ┆ null      ┆ null      ┆ null      ┆ null   │\n",
       "│ Mario Land ┆          ┆            ┆            ┆   ┆           ┆           ┆           ┆        │\n",
       "└────────────┴──────────┴────────────┴────────────┴───┴───────────┴───────────┴───────────┴────────┘"
      ]
     },
     "execution_count": 21,
     "metadata": {},
     "output_type": "execute_result"
    }
   ],
   "source": [
    "sin_ventas_nulas.head(20)"
   ]
  },
  {
   "cell_type": "code",
   "execution_count": 11,
   "metadata": {},
   "outputs": [
    {
     "data": {
      "application/vnd.jupyter.widget-view+json": {
       "model_id": "d4dd63f8d3fc4138bfc44a6bb38e2177",
       "version_major": 2,
       "version_minor": 0
      },
      "text/plain": [
       "FloatProgress(value=0.0, layout=Layout(width='auto'), style=ProgressStyle(bar_color='black'))"
      ]
     },
     "metadata": {},
     "output_type": "display_data"
    },
    {
     "name": "stdout",
     "output_type": "stream",
     "text": [
      "┌──────────────┬───────────┬────────┬────────┬────────┬────────┬────────┬────────┬────────┬─────────┬────────┐\n",
      "│    GENERO    │ N_America │  Por   │ Europa │  Por   │ Japon  │  Por   │ Otros  │  Por   │  Total  │  Por   │\n",
      "│   varchar    │  double   │ double │ double │ double │ double │ double │ double │ double │ double  │ double │\n",
      "├──────────────┼───────────┼────────┼────────┼────────┼────────┼────────┼────────┼────────┼─────────┼────────┤\n",
      "│ Action       │    849.56 │  19.82 │ 494.86 │  20.95 │ 153.02 │  12.06 │ 176.52 │  22.74 │ 1673.53 │  19.26 │\n",
      "│ Sports       │    674.04 │  15.73 │ 370.09 │  15.67 │ 134.27 │  10.58 │ 133.26 │  17.17 │  1311.4 │  15.09 │\n",
      "│ Shooter      │     583.4 │  13.61 │ 313.29 │  13.26 │  38.04 │    3.0 │ 103.44 │  13.32 │ 1037.95 │  11.94 │\n",
      "│ Role-Playing │    327.27 │   7.64 │ 186.78 │   7.91 │ 352.63 │  27.79 │  59.39 │   7.65 │  925.69 │  10.65 │\n",
      "│ Platform     │    441.33 │   10.3 │ 198.81 │   8.42 │ 129.16 │  10.18 │   50.6 │   6.52 │  819.66 │   9.43 │\n",
      "│ Misc         │    385.31 │   8.99 │ 204.97 │   8.68 │ 105.76 │   8.34 │  71.41 │    9.2 │  767.15 │   8.83 │\n",
      "│ Racing       │    347.52 │   8.11 │ 229.84 │   9.73 │  54.95 │   4.33 │  75.27 │    9.7 │   707.3 │   8.14 │\n",
      "│ Fighting     │    220.49 │   5.14 │  98.75 │   4.18 │  86.55 │   6.82 │  36.14 │   4.66 │   441.6 │   5.08 │\n",
      "│ Simulation   │    178.32 │   4.16 │ 112.07 │   4.74 │   60.8 │   4.79 │  30.65 │   3.95 │  381.73 │   4.39 │\n",
      "│ Adventure    │     101.1 │   2.36 │  61.13 │   2.59 │  50.26 │   3.96 │  16.56 │   2.13 │  228.72 │   2.63 │\n",
      "│ Puzzle       │    110.35 │   2.57 │  47.81 │   2.02 │  54.65 │   4.31 │  12.21 │   1.57 │  224.91 │   2.59 │\n",
      "│ Strategy     │     66.85 │   1.56 │  43.75 │   1.85 │  48.57 │   3.83 │  10.89 │    1.4 │  170.01 │   1.96 │\n",
      "│              │       0.0 │    0.0 │    0.0 │    0.0 │   0.03 │    0.0 │    0.0 │    0.0 │    0.03 │    0.0 │\n",
      "├──────────────┴───────────┴────────┴────────┴────────┴────────┴────────┴────────┴────────┴─────────┴────────┤\n",
      "│ 13 rows                                                                                         11 columns │\n",
      "└────────────────────────────────────────────────────────────────────────────────────────────────────────────┘\n",
      "\n"
     ]
    }
   ],
   "source": [
    "duckdb.sql(\"\"\"\n",
    "    SELECT Genre AS GENERO,\n",
    "           ROUND(SUM(NA_Sales), 2) AS N_America,\n",
    "           ROUND(100 * SUM(NA_Sales) / SUM(SUM(NA_Sales)) OVER (),2) AS Por,\n",
    "           ROUND(SUM(EU_Sales), 2) AS Europa,\n",
    "           ROUND(100 * SUM(EU_Sales) / SUM(SUM(EU_Sales)) OVER (),2) AS Por,\n",
    "           ROUND(SUM(JP_Sales), 2) AS Japon,\n",
    "           ROUND(100 * SUM(JP_Sales) / SUM(SUM(JP_Sales)) OVER (),2) AS Por,\n",
    "           ROUND(SUM(Other_Sales), 2) AS Otros,\n",
    "           ROUND(100 * SUM(Other_Sales) / SUM(SUM(Other_Sales)) OVER (),2) AS Por,\n",
    "           ROUND(SUM(Global_Sales), 2) AS Total,\n",
    "           ROUND(100 * SUM(Global_Sales) / SUM(SUM(Global_Sales)) OVER (),2) AS Por\n",
    "    FROM sin_ventas_nulas  \n",
    "    GROUP BY 1\n",
    "    ORDER BY 11 DESC;\n",
    "\"\"\").show()\n"
   ]
  },
  {
   "cell_type": "code",
   "execution_count": 23,
   "metadata": {},
   "outputs": [
    {
     "name": "stdout",
     "output_type": "stream",
     "text": [
      "┌───────────┬────────────┬─────────┬────────────┬─────────┬────────────┬────────┬────────────┐\n",
      "│ N_AMERICA │ PORCENTAJE │ EUROPA  │ PORCENTAJE │  JAPON  │ PORCENTAJE │ OTROS  │ PORCENTAJE │\n",
      "│  double   │   double   │ double  │   double   │ double  │   double   │ double │   double   │\n",
      "├───────────┼────────────┼─────────┼────────────┼─────────┼────────────┼────────┼────────────┤\n",
      "│   4285.54 │      49.32 │ 2362.15 │      27.18 │ 1268.69 │       14.6 │ 776.34 │       8.93 │\n",
      "└───────────┴────────────┴─────────┴────────────┴─────────┴────────────┴────────┴────────────┘\n",
      "\n"
     ]
    }
   ],
   "source": [
    "duckdb.sql(\"\"\"\n",
    "    SELECT ROUND(SUM(NA_Sales),2) AS N_AMERICA,\n",
    "           ROUND(100 * SUM(NA_Sales) / SUM(Global_Sales),2) AS PORCENTAJE,\n",
    "           ROUND(SUM(EU_Sales),2) AS EUROPA,\n",
    "           ROUND(100 * SUM(EU_Sales) / SUM(Global_Sales),2) AS PORCENTAJE,\n",
    "           ROUND(SUM(JP_Sales),2) AS JAPON,\n",
    "           ROUND(100 * SUM(JP_Sales) / SUM(Global_Sales),2) AS PORCENTAJE,\n",
    "           ROUND(SUM(Other_Sales),2) AS OTROS,\n",
    "           ROUND(100 * SUM(Other_Sales) / SUM(Global_Sales),2) AS PORCENTAJE\n",
    "    FROM sin_ventas_nulas;\n",
    "\"\"\").show()"
   ]
  },
  {
   "cell_type": "code",
   "execution_count": 12,
   "metadata": {},
   "outputs": [
    {
     "name": "stdout",
     "output_type": "stream",
     "text": [
      "┌────────────┬───────────┬────────┬────────┬────────┬────────┬────────┬────────┬────────┬─────────┬────────┐\n",
      "│ PLATAFORMA │ N_America │  Por   │ Europa │  Por   │ Japon  │  Por   │ Otros  │  Por   │  Total  │  Por   │\n",
      "│  varchar   │  double   │ double │ double │ double │ double │ double │ double │ double │ double  │ double │\n",
      "├────────────┼───────────┼────────┼────────┼────────┼────────┼────────┼────────┼────────┼─────────┼────────┤\n",
      "│ PS2        │    572.33 │  13.35 │ 331.92 │  14.05 │ 136.81 │  10.78 │  189.7 │  24.44 │ 1230.51 │  14.16 │\n",
      "│ X360       │    578.71 │   13.5 │ 260.42 │  11.02 │  12.03 │   0.95 │  82.83 │  10.67 │  934.04 │  10.75 │\n",
      "│ PS3        │    377.37 │   8.81 │ 314.77 │  13.33 │  77.33 │    6.1 │ 128.55 │  16.56 │  897.69 │  10.33 │\n",
      "│ Wii        │    489.26 │  11.42 │ 259.33 │  10.98 │  68.94 │   5.43 │  78.76 │  10.15 │  896.09 │  10.31 │\n",
      "│ DS         │    370.29 │   8.64 │ 184.51 │   7.81 │  170.4 │  13.43 │  58.71 │   7.56 │  783.58 │   9.02 │\n",
      "│ PS         │     325.0 │   7.58 │ 206.92 │   8.76 │ 135.26 │  10.66 │  40.17 │   5.17 │  706.81 │   8.13 │\n",
      "│ GBA        │    185.32 │   4.32 │  74.39 │   3.15 │  47.02 │   3.71 │   8.58 │   1.11 │  315.02 │   3.63 │\n",
      "│ PS4        │    107.85 │   2.52 │ 139.61 │   5.91 │  15.62 │   1.23 │  48.13 │    6.2 │  311.14 │   3.58 │\n",
      "│ PSP        │    105.44 │   2.46 │  63.78 │    2.7 │  74.93 │   5.91 │  39.86 │   5.13 │  283.93 │   3.27 │\n",
      "│ 3DS        │     82.81 │   1.93 │  61.03 │   2.58 │  99.81 │   7.87 │  13.42 │   1.73 │  257.01 │   2.96 │\n",
      "│  ·         │        ·  │     ·  │     ·  │     ·  │    ·   │     ·  │     ·  │     ·  │     ·   │     ·  │\n",
      "│  ·         │        ·  │     ·  │     ·  │     ·  │    ·   │     ·  │     ·  │     ·  │     ·   │     ·  │\n",
      "│  ·         │        ·  │     ·  │     ·  │     ·  │    ·   │     ·  │     ·  │     ·  │     ·   │     ·  │\n",
      "│ SAT        │      0.72 │   0.02 │   0.54 │   0.02 │  31.86 │   2.51 │   0.08 │   0.01 │   33.19 │   0.38 │\n",
      "│ GEN        │      18.3 │   0.43 │   5.15 │   0.22 │   2.64 │   0.21 │   0.84 │   0.11 │   26.95 │   0.31 │\n",
      "│ DC         │      4.91 │   0.11 │   1.45 │   0.06 │    7.9 │   0.62 │   0.24 │   0.03 │   14.51 │   0.17 │\n",
      "│ SCD        │       1.0 │   0.02 │   0.36 │   0.02 │   0.45 │   0.04 │   0.06 │   0.01 │    1.87 │   0.02 │\n",
      "│ WS         │       0.0 │    0.0 │    0.0 │    0.0 │   1.42 │   0.11 │    0.0 │    0.0 │    1.42 │   0.02 │\n",
      "│ NG         │       0.0 │    0.0 │    0.0 │    0.0 │   1.44 │   0.11 │    0.0 │    0.0 │    1.44 │   0.02 │\n",
      "│ PCFX       │       0.0 │    0.0 │    0.0 │    0.0 │   0.03 │    0.0 │    0.0 │    0.0 │    0.03 │    0.0 │\n",
      "│ GG         │       0.0 │    0.0 │    0.0 │    0.0 │   0.04 │    0.0 │    0.0 │    0.0 │    0.04 │    0.0 │\n",
      "│ TG16       │       0.0 │    0.0 │    0.0 │    0.0 │   0.16 │   0.01 │    0.0 │    0.0 │    0.16 │    0.0 │\n",
      "│ 3DO        │       0.0 │    0.0 │    0.0 │    0.0 │    0.1 │   0.01 │    0.0 │    0.0 │     0.1 │    0.0 │\n",
      "├────────────┴───────────┴────────┴────────┴────────┴────────┴────────┴────────┴────────┴─────────┴────────┤\n",
      "│ 31 rows (20 shown)                                                                            11 columns │\n",
      "└──────────────────────────────────────────────────────────────────────────────────────────────────────────┘\n",
      "\n"
     ]
    }
   ],
   "source": [
    "duckdb.sql(\"\"\"\n",
    "    SELECT Platform AS PLATAFORMA,\n",
    "           ROUND(SUM(NA_Sales), 2) AS N_America,\n",
    "           ROUND(100 * SUM(NA_Sales) / SUM(SUM(NA_Sales)) OVER (),2) AS Por,\n",
    "           ROUND(SUM(EU_Sales), 2) AS Europa,\n",
    "           ROUND(100 * SUM(EU_Sales) / SUM(SUM(EU_Sales)) OVER (),2) AS Por,\n",
    "           ROUND(SUM(JP_Sales), 2) AS Japon,\n",
    "           ROUND(100 * SUM(JP_Sales) / SUM(SUM(JP_Sales)) OVER (),2) AS Por,\n",
    "           ROUND(SUM(Other_Sales), 2) AS Otros,\n",
    "           ROUND(100 * SUM(Other_Sales) / SUM(SUM(Other_Sales)) OVER (),2) AS Por,\n",
    "           ROUND(SUM(Global_Sales), 2) AS Total,\n",
    "           ROUND(100 * SUM(Global_Sales) / SUM(SUM(Global_Sales)) OVER (),2) AS Por\n",
    "    FROM sin_ventas_nulas  \n",
    "    GROUP BY 1\n",
    "    ORDER BY 11 DESC;\n",
    "\"\"\").show()"
   ]
  },
  {
   "cell_type": "markdown",
   "metadata": {},
   "source": [
    "Ahora con DuckDb podemos Generar la Consulta para obtener los datos que consideremos para nustras visualizaciones y automaticamente se guardan en un Dataframe de Pandas"
   ]
  },
  {
   "cell_type": "code",
   "execution_count": 27,
   "metadata": {},
   "outputs": [],
   "source": [
    "import pandas as pd"
   ]
  },
  {
   "cell_type": "code",
   "execution_count": 29,
   "metadata": {},
   "outputs": [
    {
     "name": "stdout",
     "output_type": "stream",
     "text": [
      "┌──────────────┬───────────┬────────┬────────┬────────┬─────────┐\n",
      "│    GENERO    │ N_America │ Europa │ Japon  │ Otros  │  Total  │\n",
      "│   varchar    │  double   │ double │ double │ double │ double  │\n",
      "├──────────────┼───────────┼────────┼────────┼────────┼─────────┤\n",
      "│ Action       │    849.56 │ 494.86 │ 153.02 │ 176.52 │ 1673.53 │\n",
      "│ Sports       │    674.04 │ 370.09 │ 134.27 │ 133.26 │  1311.4 │\n",
      "│ Shooter      │     583.4 │ 313.29 │  38.04 │ 103.44 │ 1037.95 │\n",
      "│ Role-Playing │    327.27 │ 186.78 │ 352.63 │  59.39 │  925.69 │\n",
      "│ Platform     │    441.33 │ 198.81 │ 129.16 │   50.6 │  819.66 │\n",
      "│ Misc         │    385.31 │ 204.97 │ 105.76 │  71.41 │  767.15 │\n",
      "│ Racing       │    347.52 │ 229.84 │  54.95 │  75.27 │   707.3 │\n",
      "│ Fighting     │    220.49 │  98.75 │  86.55 │  36.14 │   441.6 │\n",
      "│ Simulation   │    178.32 │ 112.07 │   60.8 │  30.65 │  381.73 │\n",
      "│ Adventure    │     101.1 │  61.13 │  50.26 │  16.56 │  228.72 │\n",
      "│ Puzzle       │    110.35 │  47.81 │  54.65 │  12.21 │  224.91 │\n",
      "│ Strategy     │     66.85 │  43.75 │  48.57 │  10.89 │  170.01 │\n",
      "│              │       0.0 │    0.0 │   0.03 │    0.0 │    0.03 │\n",
      "├──────────────┴───────────┴────────┴────────┴────────┴─────────┤\n",
      "│ 13 rows                                             6 columns │\n",
      "└───────────────────────────────────────────────────────────────┘\n",
      "\n"
     ]
    }
   ],
   "source": [
    "duckdb.sql(\"\"\"\n",
    "    SELECT Genre AS GENERO,\n",
    "           ROUND(SUM(NA_Sales), 2) AS N_America,\n",
    "           ROUND(SUM(EU_Sales), 2) AS Europa,\n",
    "           ROUND(SUM(JP_Sales), 2) AS Japon,\n",
    "           ROUND(SUM(Other_Sales), 2) AS Otros,\n",
    "           ROUND(SUM(Global_Sales), 2) AS Total,\n",
    "    FROM sin_ventas_nulas  \n",
    "    GROUP BY 1\n",
    "    ORDER BY 6 DESC;\n",
    "\"\"\").show()"
   ]
  },
  {
   "cell_type": "code",
   "execution_count": 30,
   "metadata": {},
   "outputs": [],
   "source": [
    "df_pandas_genero = duckdb.sql(\"\"\"\n",
    "    SELECT Genre AS GENERO,\n",
    "           ROUND(SUM(NA_Sales), 2) AS N_America,\n",
    "           ROUND(SUM(EU_Sales), 2) AS Europa,\n",
    "           ROUND(SUM(JP_Sales), 2) AS Japon,\n",
    "           ROUND(SUM(Other_Sales), 2) AS Otros,\n",
    "           ROUND(SUM(Global_Sales), 2) AS Total,\n",
    "    FROM sin_ventas_nulas  \n",
    "    GROUP BY 1\n",
    "    ORDER BY 6 DESC;\n",
    "\"\"\").fetchdf()"
   ]
  },
  {
   "cell_type": "code",
   "execution_count": 31,
   "metadata": {},
   "outputs": [
    {
     "name": "stdout",
     "output_type": "stream",
     "text": [
      "┌────────────┬───────────┬────────┬────────┬────────┬─────────┐\n",
      "│ PLATAFORMA │ N_America │ Europa │ Japon  │ Otros  │  Total  │\n",
      "│  varchar   │  double   │ double │ double │ double │ double  │\n",
      "├────────────┼───────────┼────────┼────────┼────────┼─────────┤\n",
      "│ PS2        │    572.33 │ 331.92 │ 136.81 │  189.7 │ 1230.51 │\n",
      "│ X360       │    578.71 │ 260.42 │  12.03 │  82.83 │  934.04 │\n",
      "│ PS3        │    377.37 │ 314.77 │  77.33 │ 128.55 │  897.69 │\n",
      "│ Wii        │    489.26 │ 259.33 │  68.94 │  78.76 │  896.09 │\n",
      "│ DS         │    370.29 │ 184.51 │  170.4 │  58.71 │  783.58 │\n",
      "│ PS         │     325.0 │ 206.92 │ 135.26 │  40.17 │  706.81 │\n",
      "│ GBA        │    185.32 │  74.39 │  47.02 │   8.58 │  315.02 │\n",
      "│ PS4        │    107.85 │ 139.61 │  15.62 │  48.13 │  311.14 │\n",
      "│ PSP        │    105.44 │  63.78 │  74.93 │  39.86 │  283.93 │\n",
      "│ 3DS        │     82.81 │  61.03 │  99.81 │  13.42 │  257.01 │\n",
      "│  ·         │        ·  │     ·  │    ·   │     ·  │     ·   │\n",
      "│  ·         │        ·  │     ·  │    ·   │     ·  │     ·   │\n",
      "│  ·         │        ·  │     ·  │    ·   │     ·  │     ·   │\n",
      "│ SAT        │      0.72 │   0.54 │  31.86 │   0.08 │   33.19 │\n",
      "│ GEN        │      18.3 │   5.15 │   2.64 │   0.84 │   26.95 │\n",
      "│ DC         │      4.91 │   1.45 │    7.9 │   0.24 │   14.51 │\n",
      "│ SCD        │       1.0 │   0.36 │   0.45 │   0.06 │    1.87 │\n",
      "│ NG         │       0.0 │    0.0 │   1.44 │    0.0 │    1.44 │\n",
      "│ WS         │       0.0 │    0.0 │   1.42 │    0.0 │    1.42 │\n",
      "│ TG16       │       0.0 │    0.0 │   0.16 │    0.0 │    0.16 │\n",
      "│ 3DO        │       0.0 │    0.0 │    0.1 │    0.0 │     0.1 │\n",
      "│ GG         │       0.0 │    0.0 │   0.04 │    0.0 │    0.04 │\n",
      "│ PCFX       │       0.0 │    0.0 │   0.03 │    0.0 │    0.03 │\n",
      "├────────────┴───────────┴────────┴────────┴────────┴─────────┤\n",
      "│ 31 rows (20 shown)                                6 columns │\n",
      "└─────────────────────────────────────────────────────────────┘\n",
      "\n"
     ]
    }
   ],
   "source": [
    "duckdb.sql(\"\"\"\n",
    "    SELECT Platform AS PLATAFORMA,\n",
    "           ROUND(SUM(NA_Sales), 2) AS N_America,\n",
    "           ROUND(SUM(EU_Sales), 2) AS Europa,\n",
    "           ROUND(SUM(JP_Sales), 2) AS Japon,\n",
    "           ROUND(SUM(Other_Sales), 2) AS Otros,\n",
    "           ROUND(SUM(Global_Sales), 2) AS Total,\n",
    "    FROM sin_ventas_nulas  \n",
    "    GROUP BY 1\n",
    "    ORDER BY 6 DESC;\n",
    "\"\"\").show()"
   ]
  },
  {
   "cell_type": "code",
   "execution_count": 32,
   "metadata": {},
   "outputs": [],
   "source": [
    "df_pandas_plataforma = duckdb.sql(\"\"\"\n",
    "    SELECT Platform AS PLATAFORMA,\n",
    "           ROUND(SUM(NA_Sales), 2) AS N_America,\n",
    "           ROUND(SUM(EU_Sales), 2) AS Europa,\n",
    "           ROUND(SUM(JP_Sales), 2) AS Japon,\n",
    "           ROUND(SUM(Other_Sales), 2) AS Otros,\n",
    "           ROUND(SUM(Global_Sales), 2) AS Total,\n",
    "    FROM sin_ventas_nulas  \n",
    "    GROUP BY 1\n",
    "    ORDER BY 6 DESC;\n",
    "\"\"\").fetchdf()"
   ]
  },
  {
   "cell_type": "code",
   "execution_count": 33,
   "metadata": {},
   "outputs": [],
   "source": [
    "df_pandas_genero.to_csv('data/04_ventas_juegos_genero_consolas.csv', index=False)"
   ]
  },
  {
   "cell_type": "code",
   "execution_count": 34,
   "metadata": {},
   "outputs": [],
   "source": [
    "df_pandas_plataforma.to_csv(\n",
    "    'data/04_ventas_juegos_plataformas_consolas.csv', index=False\n",
    ")"
   ]
  }
 ],
 "metadata": {
  "kernelspec": {
   "display_name": "venv_modulo5",
   "language": "python",
   "name": "python3"
  },
  "language_info": {
   "codemirror_mode": {
    "name": "ipython",
    "version": 3
   },
   "file_extension": ".py",
   "mimetype": "text/x-python",
   "name": "python",
   "nbconvert_exporter": "python",
   "pygments_lexer": "ipython3",
   "version": "3.10.11"
  }
 },
 "nbformat": 4,
 "nbformat_minor": 2
}
