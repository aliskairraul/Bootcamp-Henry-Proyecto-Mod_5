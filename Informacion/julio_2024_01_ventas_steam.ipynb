{
 "cells": [
  {
   "cell_type": "markdown",
   "metadata": {},
   "source": [
    "***\n",
    "Importando Librerias"
   ]
  },
  {
   "cell_type": "code",
   "execution_count": 2,
   "metadata": {},
   "outputs": [],
   "source": [
    "import time\n",
    "import undetected_chromedriver as uc\n",
    "from selenium.webdriver.common.by import By\n",
    "from selenium.webdriver.support.ui import WebDriverWait \n",
    "from selenium.webdriver.support import expected_conditions as ec\n",
    "\n",
    "from IPython.display import clear_output\n",
    "import csv"
   ]
  },
  {
   "cell_type": "markdown",
   "metadata": {},
   "source": [
    "Se crea el Driver"
   ]
  },
  {
   "cell_type": "code",
   "execution_count": 3,
   "metadata": {},
   "outputs": [],
   "source": [
    "options = uc.ChromeOptions()\n",
    "options.add_argument(\"--disable-popup-blocking\")\n",
    "options.add_argument(\"--disable-infobars\")\n",
    "options.headless=False\n",
    "driver = uc.Chrome(options=options)"
   ]
  },
  {
   "cell_type": "markdown",
   "metadata": {},
   "source": [
    "***\n",
    "Me posiciono exactamente donde Steam muestra las Ventas a Nivel Global"
   ]
  },
  {
   "cell_type": "code",
   "execution_count": 4,
   "metadata": {},
   "outputs": [],
   "source": [
    "url = 'https://store.steampowered.com/search/?filter=globaltopsellers&ndl=1'\n",
    "driver.get(url=url)"
   ]
  },
  {
   "cell_type": "markdown",
   "metadata": {},
   "source": [
    "*** \n",
    "Hago Iteraciones de Scroll para poder que se cargue toda la Informacion (Todos los titulos)\n",
    "Para preveer posibles interrupciones haré interrupciones cada 50 Scroll\n",
    "Respetando un Tiempo para no sobrecargar el Servidor de Peticiones, dar Tiempo de que Cargue la Inf, y no me Bloquee la Ip por saturar el servidor"
   ]
  },
  {
   "cell_type": "code",
   "execution_count": 5,
   "metadata": {},
   "outputs": [],
   "source": [
    "wait_ = WebDriverWait(driver,10)"
   ]
  },
  {
   "cell_type": "code",
   "execution_count": null,
   "metadata": {},
   "outputs": [],
   "source": [
    "contador = 0\n",
    "while True:\n",
    "    # driver.execute_script('window.scrollTo(0,document.body.scrollHeight);')\n",
    "    window_height = driver.execute_script('return window.innerHeight;')\n",
    "    scroll_position = int(window_height * 0.7)\n",
    "    driver.execute_script(f'window.scrollBy(0, {scroll_position});')\n",
    "    time.sleep(2)\n",
    "    data_html = driver.find_elements(By.XPATH, '//*[@id=\"search_resultsRows\"]/a')\n",
    "    if len(data_html) == contador and contador > 9000:\n",
    "        break\n",
    "    else:\n",
    "        contador = data_html\n",
    "\n",
    "\n",
    "#(By.XPATH, '//*[@id=\"footer_logo\"]/a/img')"
   ]
  },
  {
   "cell_type": "code",
   "execution_count": null,
   "metadata": {},
   "outputs": [],
   "source": [
    "data_html = driver.find_elements(By.XPATH, '//*[@id=\"search_resultsRows\"]/a')"
   ]
  },
  {
   "cell_type": "code",
   "execution_count": 30,
   "metadata": {},
   "outputs": [
    {
     "data": {
      "text/plain": [
       "9092"
      ]
     },
     "execution_count": 30,
     "metadata": {},
     "output_type": "execute_result"
    }
   ],
   "source": [
    "len(data_html)"
   ]
  },
  {
   "cell_type": "markdown",
   "metadata": {},
   "source": [
    "***\n",
    "Función que extrae Reseñas"
   ]
  },
  {
   "cell_type": "code",
   "execution_count": 11,
   "metadata": {},
   "outputs": [],
   "source": [
    "def extraer_resenas(resena:str) -> tuple:\n",
    "    index_1 = 0\n",
    "    index_2 = 0\n",
    "    for i in range(len(resena)):\n",
    "        if resena[i] == '<':\n",
    "            index_1 = i\n",
    "            continue\n",
    "        if resena[i].isdigit() and index_1 > 0:\n",
    "            index_2 = i\n",
    "            break\n",
    "    index_3 = 0\n",
    "    encontro_index3 = False\n",
    "    for i in range(index_2+2,len(resena)):\n",
    "        if resena[i].isdigit() and resena[i] != '0' and not encontro_index3:\n",
    "            index_3 = i\n",
    "            encontro_index3 = True\n",
    "            continue\n",
    "        if index_3 > 0 and resena[i] == ' ':\n",
    "            index_4 = i + 1\n",
    "            break\n",
    "\n",
    "    critica_usuarios = resena[:index_1]\n",
    "    porcentaje_aprobacion = resena[index_2:index_2+2]\n",
    "    cantidad_reviews = resena[index_3:index_4-1]\n",
    "    return (critica_usuarios, porcentaje_aprobacion, cantidad_reviews)"
   ]
  },
  {
   "cell_type": "markdown",
   "metadata": {},
   "source": [
    "***\n",
    "Funcion que Extrae Plataformas"
   ]
  },
  {
   "cell_type": "code",
   "execution_count": 12,
   "metadata": {},
   "outputs": [],
   "source": [
    "def extrae_plataformas(elementos_plataformas: str) -> tuple[int, int, int]:\n",
    "    windows = 0\n",
    "    linux = 0\n",
    "    mac = 0\n",
    "    for i in range(3):\n",
    "        try:\n",
    "            plataforma = elementos_plataformas.find_element(By.XPATH, f'./span[{i+1}]').get_attribute('class')\n",
    "            if 'win' in plataforma: windows = 1\n",
    "            if 'linux' in plataforma: mac = 1\n",
    "            if 'mac' in plataforma: linux = 1\n",
    "        except:\n",
    "            pass\n",
    "        \n",
    "    return (windows, mac, linux)"
   ]
  },
  {
   "cell_type": "markdown",
   "metadata": {},
   "source": [
    "*** \n",
    "Ciclo que extrae toda la informacion"
   ]
  },
  {
   "cell_type": "code",
   "execution_count": 16,
   "metadata": {},
   "outputs": [
    {
     "name": "stdout",
     "output_type": "stream",
     "text": [
      "Registro numero 9137\n",
      "{'titulo': 'Fatermyth', 'critica_usuarios': 'Muy positivas', 'aprobacion': '83', 'cantidad_reviews': '403', 'windows': 1, 'mac': 0, 'linux': 0, 'fecha_lanzamiento': '23 ABR 2024', 'precio_steam': '$5.79'}\n"
     ]
    }
   ],
   "source": [
    "with open(\"data/ventas_actuales_steam.csv\", \"a\", encoding=\"utf-8\") as f:\n",
    "    writer = csv.writer(f)\n",
    "    data = []\n",
    "    for i in range(len(data_html)):\n",
    "        registro = {}\n",
    "        try:\n",
    "            titulo = data_html[i].find_element(By.XPATH, './div[2]/div[1]/span').text\n",
    "        except:\n",
    "            titulo = 'Sin Dato'\n",
    "        try:\n",
    "            elementos_plataformas = data_html[i].find_element(By.XPATH, './div[2]/div[1]/div')\n",
    "            windows, mac, linux = extrae_plataformas(elementos_plataformas)\n",
    "        except:\n",
    "            windows = 0\n",
    "            mac = 0\n",
    "            linux = 0\n",
    "        try:\n",
    "            precio = data_html[i].find_element(By.XPATH, './div[2]/div[4]/div/div/div/div').text\n",
    "        except:\n",
    "            precio = 'Sin Dato'\n",
    "        try:\n",
    "            fecha = data_html[i].find_element(By.XPATH, './div[2]/div[2]').text\n",
    "        except:\n",
    "            fecha = 'Sin Dato'\n",
    "        try:\n",
    "            resena = data_html[i].find_element(By.XPATH, './div[2]/div[3]/span').get_attribute(\"data-tooltip-html\")\n",
    "            critica_usuarios,porcentaje_aprobacion,cantidad_reviews = extraer_resenas(resena) \n",
    "        except:\n",
    "            critica_usuarios = 'Sin Dato'\n",
    "            porcentaje_aprobacion = 'Sin Dato'\n",
    "            cantidad_reviews = 'Sin Dato'\n",
    "\n",
    "        # Voy escribiendo la informacion en un csv por si se corta el proceso no tener que volver a empezar de 0\n",
    "        row = [titulo, critica_usuarios, porcentaje_aprobacion, cantidad_reviews, windows, mac, linux, fecha, precio]\n",
    "        writer.writerow(row)\n",
    "\n",
    "        registro['titulo'] = titulo\n",
    "        registro['critica_usuarios'] = critica_usuarios\n",
    "        registro['aprobacion'] = porcentaje_aprobacion\n",
    "        registro['cantidad_reviews'] = cantidad_reviews\n",
    "        registro['windows'] = windows\n",
    "        registro['mac'] = mac\n",
    "        registro['linux'] = linux\n",
    "        registro['fecha_lanzamiento'] = fecha\n",
    "        registro['precio_steam'] = precio\n",
    "        data.append(registro)\n",
    "\n",
    "        clear_output()\n",
    "        print(f'Registro numero {i+1}')\n",
    "        print(registro)"
   ]
  },
  {
   "cell_type": "code",
   "execution_count": 17,
   "metadata": {},
   "outputs": [
    {
     "data": {
      "text/plain": [
       "9137"
      ]
     },
     "execution_count": 17,
     "metadata": {},
     "output_type": "execute_result"
    }
   ],
   "source": [
    "len(data)"
   ]
  },
  {
   "cell_type": "markdown",
   "metadata": {},
   "source": [
    "***\n",
    "Importo librerias para manipular Datos"
   ]
  },
  {
   "cell_type": "code",
   "execution_count": 18,
   "metadata": {},
   "outputs": [],
   "source": [
    "import polars as pl"
   ]
  },
  {
   "cell_type": "code",
   "execution_count": 19,
   "metadata": {},
   "outputs": [],
   "source": [
    "df = pl.DataFrame(data=data)"
   ]
  },
  {
   "cell_type": "code",
   "execution_count": 21,
   "metadata": {},
   "outputs": [
    {
     "data": {
      "text/html": [
       "<div><style>\n",
       ".dataframe > thead > tr,\n",
       ".dataframe > tbody > tr {\n",
       "  text-align: right;\n",
       "  white-space: pre-wrap;\n",
       "}\n",
       "</style>\n",
       "<small>shape: (5, 9)</small><table border=\"1\" class=\"dataframe\"><thead><tr><th>titulo</th><th>critica_usuarios</th><th>aprobacion</th><th>cantidad_reviews</th><th>windows</th><th>mac</th><th>linux</th><th>fecha_lanzamiento</th><th>precio_steam</th></tr><tr><td>str</td><td>str</td><td>str</td><td>str</td><td>i64</td><td>i64</td><td>i64</td><td>str</td><td>str</td></tr></thead><tbody><tr><td>&quot;Counter-Strike 2&quot;</td><td>&quot;Muy positivas&quot;</td><td>&quot;87&quot;</td><td>&quot;8,160,723&quot;</td><td>1</td><td>1</td><td>0</td><td>&quot;21 AGO 2012&quot;</td><td>&quot;Gratuito&quot;</td></tr><tr><td>&quot;PUBG: BATTLEGROUNDS&quot;</td><td>&quot;Variadas&quot;</td><td>&quot;58&quot;</td><td>&quot;2,397,033&quot;</td><td>1</td><td>0</td><td>0</td><td>&quot;21 DIC 2017&quot;</td><td>&quot;Gratuito&quot;</td></tr><tr><td>&quot;The First Descendant&quot;</td><td>&quot;Variadas&quot;</td><td>&quot;54&quot;</td><td>&quot;63,966&quot;</td><td>1</td><td>0</td><td>0</td><td>&quot;30 JUN 2024&quot;</td><td>&quot;Gratuito&quot;</td></tr><tr><td>&quot;Dota 2&quot;</td><td>&quot;Muy positivas&quot;</td><td>&quot;81&quot;</td><td>&quot;2,278,393&quot;</td><td>1</td><td>1</td><td>1</td><td>&quot;9 JUL 2013&quot;</td><td>&quot;Gratuito&quot;</td></tr><tr><td>&quot;Steam Deck&quot;</td><td>&quot;Sin Dato&quot;</td><td>&quot;Sin Dato&quot;</td><td>&quot;Sin Dato&quot;</td><td>1</td><td>1</td><td>1</td><td>&quot;&quot;</td><td>&quot;Sin Dato&quot;</td></tr></tbody></table></div>"
      ],
      "text/plain": [
       "shape: (5, 9)\n",
       "┌─────────────┬─────────────┬────────────┬─────────────┬───┬─────┬───────┬────────────┬────────────┐\n",
       "│ titulo      ┆ critica_usu ┆ aprobacion ┆ cantidad_re ┆ … ┆ mac ┆ linux ┆ fecha_lanz ┆ precio_ste │\n",
       "│ ---         ┆ arios       ┆ ---        ┆ views       ┆   ┆ --- ┆ ---   ┆ amiento    ┆ am         │\n",
       "│ str         ┆ ---         ┆ str        ┆ ---         ┆   ┆ i64 ┆ i64   ┆ ---        ┆ ---        │\n",
       "│             ┆ str         ┆            ┆ str         ┆   ┆     ┆       ┆ str        ┆ str        │\n",
       "╞═════════════╪═════════════╪════════════╪═════════════╪═══╪═════╪═══════╪════════════╪════════════╡\n",
       "│ Counter-Str ┆ Muy         ┆ 87         ┆ 8,160,723   ┆ … ┆ 1   ┆ 0     ┆ 21 AGO     ┆ Gratuito   │\n",
       "│ ike 2       ┆ positivas   ┆            ┆             ┆   ┆     ┆       ┆ 2012       ┆            │\n",
       "│ PUBG: BATTL ┆ Variadas    ┆ 58         ┆ 2,397,033   ┆ … ┆ 0   ┆ 0     ┆ 21 DIC     ┆ Gratuito   │\n",
       "│ EGROUNDS    ┆             ┆            ┆             ┆   ┆     ┆       ┆ 2017       ┆            │\n",
       "│ The First   ┆ Variadas    ┆ 54         ┆ 63,966      ┆ … ┆ 0   ┆ 0     ┆ 30 JUN     ┆ Gratuito   │\n",
       "│ Descendant  ┆             ┆            ┆             ┆   ┆     ┆       ┆ 2024       ┆            │\n",
       "│ Dota 2      ┆ Muy         ┆ 81         ┆ 2,278,393   ┆ … ┆ 1   ┆ 1     ┆ 9 JUL 2013 ┆ Gratuito   │\n",
       "│             ┆ positivas   ┆            ┆             ┆   ┆     ┆       ┆            ┆            │\n",
       "│ Steam Deck  ┆ Sin Dato    ┆ Sin Dato   ┆ Sin Dato    ┆ … ┆ 1   ┆ 1     ┆            ┆ Sin Dato   │\n",
       "└─────────────┴─────────────┴────────────┴─────────────┴───┴─────┴───────┴────────────┴────────────┘"
      ]
     },
     "execution_count": 21,
     "metadata": {},
     "output_type": "execute_result"
    }
   ],
   "source": [
    "df.head()"
   ]
  },
  {
   "cell_type": "markdown",
   "metadata": {},
   "source": [
    "Creo el Ranking de Ventas, aprovechando que los titulos fueron introducidos en el orden de Ventas"
   ]
  },
  {
   "cell_type": "code",
   "execution_count": 23,
   "metadata": {},
   "outputs": [],
   "source": [
    "df = df.with_row_index(\"ranking\", offset=1)\n",
    "df.head()"
   ]
  },
  {
   "cell_type": "markdown",
   "metadata": {},
   "source": [
    "Trabajo en la columna `aprobacion`"
   ]
  },
  {
   "cell_type": "code",
   "execution_count": 26,
   "metadata": {},
   "outputs": [],
   "source": [
    "df = df.with_columns(\n",
    "    aprobacion = pl.when(pl.col('aprobacion') == 'Sin Dato')\n",
    "                  .then(pl.lit('0'))\n",
    "                  .otherwise(pl.col('aprobacion'))\n",
    ")"
   ]
  },
  {
   "cell_type": "code",
   "execution_count": 42,
   "metadata": {},
   "outputs": [],
   "source": [
    "df = df.with_columns(\n",
    "    aprobacion = pl.col('aprobacion').str.strip_chars()\n",
    ")"
   ]
  },
  {
   "cell_type": "code",
   "execution_count": 43,
   "metadata": {},
   "outputs": [],
   "source": [
    "df = df.with_columns(\n",
    "    aprobacion = pl.col('aprobacion').cast(pl.Int8)\n",
    ")"
   ]
  },
  {
   "cell_type": "markdown",
   "metadata": {},
   "source": [
    "Tranajo en la Columna `cantidad_reviews`"
   ]
  },
  {
   "cell_type": "code",
   "execution_count": 47,
   "metadata": {},
   "outputs": [],
   "source": [
    "df = df.with_columns(\n",
    "    cantidad_reviews = pl.col('cantidad_reviews').str.replace_all(',','')\n",
    ")"
   ]
  },
  {
   "cell_type": "code",
   "execution_count": 49,
   "metadata": {},
   "outputs": [],
   "source": [
    "df = df.with_columns(\n",
    "    cantidad_reviews = pl.when(pl.col('cantidad_reviews') == 'Sin Dato')\n",
    "                         .then(pl.lit(0))\n",
    "                         .otherwise(pl.col('cantidad_reviews'))\n",
    ")"
   ]
  },
  {
   "cell_type": "code",
   "execution_count": 52,
   "metadata": {},
   "outputs": [],
   "source": [
    "df = df.with_columns(\n",
    "    cantidad_reviews = pl.col('cantidad_reviews').cast(pl.Int64)\n",
    ")"
   ]
  },
  {
   "cell_type": "markdown",
   "metadata": {},
   "source": [
    "Creo Columna Categorica Ordinal para las Criticas de los Usuarios"
   ]
  },
  {
   "cell_type": "code",
   "execution_count": 58,
   "metadata": {},
   "outputs": [],
   "source": [
    "df = df.with_columns(\n",
    "    critica_categorica = pl.when(pl.col('critica_usuarios') == 'Extremadamente positivas')\n",
    "                           .then(pl.lit(1))\n",
    "                           .when(pl.col('critica_usuarios') == 'Muy positivas')\n",
    "                           .then(pl.lit(2))\n",
    "                           .when(pl.col('critica_usuarios') == 'Mayormente positivas')\n",
    "                           .then(pl.lit(3))\n",
    "                           .when(pl.col('critica_usuarios') == 'Positivas')\n",
    "                           .then(pl.lit(4))\n",
    "                           .when(pl.col('critica_usuarios') == 'Variadas')\n",
    "                           .then(pl.lit(5))\n",
    "                           .when(pl.col('critica_usuarios') == 'Mayormente negativas')\n",
    "                           .then(pl.lit(6))\n",
    "                           .when(pl.col('critica_usuarios') == 'Negativas')\n",
    "                           .then(pl.lit(7))\n",
    "                           .when(pl.col('critica_usuarios') == 'Muy negativas')\n",
    "                           .then(pl.lit(8))\n",
    "                           .when(pl.col('critica_usuarios') == 'Extremadamente negativas')\n",
    "                           .then(pl.lit(9))\n",
    "                           .otherwise(pl.lit(10))\n",
    ")"
   ]
  },
  {
   "cell_type": "markdown",
   "metadata": {},
   "source": [
    "Trabajando la Columna Fecha de Lanzamiento"
   ]
  },
  {
   "cell_type": "code",
   "execution_count": 63,
   "metadata": {},
   "outputs": [],
   "source": [
    "df = df.with_columns(\n",
    "    fecha_lanzamiento = pl.when(pl.col('fecha_lanzamiento') == 'Sin Dato')\n",
    "                          .then(pl.lit(''))\n",
    "                          .otherwise(pl.col('fecha_lanzamiento'))\n",
    ")"
   ]
  },
  {
   "cell_type": "markdown",
   "metadata": {},
   "source": [
    "Cambio Palabras de Español a Ingles para que puedan ser reconocidas por funciones de Fechas mas adelante"
   ]
  },
  {
   "cell_type": "code",
   "execution_count": 76,
   "metadata": {},
   "outputs": [],
   "source": [
    "df = df.with_columns(\n",
    "    fecha_ingles = (pl.col('fecha_lanzamiento').str.replace('ENE','JAN') \n",
    "                                               .str.replace('ABR','APR') \n",
    "                                               .str.replace('AGO','AUG') \n",
    "                                               .str.replace('DIC','DEC')\n",
    "    )\n",
    ")"
   ]
  },
  {
   "cell_type": "code",
   "execution_count": 82,
   "metadata": {},
   "outputs": [],
   "source": [
    "df = df.with_columns(\n",
    "    fecha = pl.col('fecha_ingles').str.strptime(pl.Date, format='%d %b %Y', strict=False)\n",
    ")\n",
    "\n",
    "#df = df.with_columns(pl.col('fecha_str').str.strptime(pl.Date, fmt='%d %b %Y').cast(pl.Datetime))"
   ]
  },
  {
   "cell_type": "code",
   "execution_count": 84,
   "metadata": {},
   "outputs": [
    {
     "data": {
      "text/html": [
       "<div><style>\n",
       ".dataframe > thead > tr,\n",
       ".dataframe > tbody > tr {\n",
       "  text-align: right;\n",
       "  white-space: pre-wrap;\n",
       "}\n",
       "</style>\n",
       "<small>shape: (1, 13)</small><table border=\"1\" class=\"dataframe\"><thead><tr><th>ranking</th><th>titulo</th><th>critica_usuarios</th><th>aprobacion</th><th>cantidad_reviews</th><th>windows</th><th>mac</th><th>linux</th><th>fecha_lanzamiento</th><th>precio_steam</th><th>critica_categorica</th><th>fecha_ingles</th><th>fecha</th></tr><tr><td>u32</td><td>str</td><td>str</td><td>i8</td><td>i64</td><td>i64</td><td>i64</td><td>i64</td><td>str</td><td>str</td><td>i32</td><td>str</td><td>date</td></tr></thead><tbody><tr><td>1</td><td>&quot;Counter-Strike 2&quot;</td><td>&quot;Muy positivas&quot;</td><td>87</td><td>8160723</td><td>1</td><td>1</td><td>0</td><td>&quot;21 AGO 2012&quot;</td><td>&quot;Gratuito&quot;</td><td>2</td><td>&quot;21 AUG 2012&quot;</td><td>2012-08-21</td></tr></tbody></table></div>"
      ],
      "text/plain": [
       "shape: (1, 13)\n",
       "┌─────────┬────────────┬───────────┬───────────┬───┬───────────┬───────────┬───────────┬───────────┐\n",
       "│ ranking ┆ titulo     ┆ critica_u ┆ aprobacio ┆ … ┆ precio_st ┆ critica_c ┆ fecha_ing ┆ fecha     │\n",
       "│ ---     ┆ ---        ┆ suarios   ┆ n         ┆   ┆ eam       ┆ ategorica ┆ les       ┆ ---       │\n",
       "│ u32     ┆ str        ┆ ---       ┆ ---       ┆   ┆ ---       ┆ ---       ┆ ---       ┆ date      │\n",
       "│         ┆            ┆ str       ┆ i8        ┆   ┆ str       ┆ i32       ┆ str       ┆           │\n",
       "╞═════════╪════════════╪═══════════╪═══════════╪═══╪═══════════╪═══════════╪═══════════╪═══════════╡\n",
       "│ 1       ┆ Counter-St ┆ Muy       ┆ 87        ┆ … ┆ Gratuito  ┆ 2         ┆ 21 AUG    ┆ 2012-08-2 │\n",
       "│         ┆ rike 2     ┆ positivas ┆           ┆   ┆           ┆           ┆ 2012      ┆ 1         │\n",
       "└─────────┴────────────┴───────────┴───────────┴───┴───────────┴───────────┴───────────┴───────────┘"
      ]
     },
     "execution_count": 84,
     "metadata": {},
     "output_type": "execute_result"
    }
   ],
   "source": [
    "df.head(1)"
   ]
  },
  {
   "cell_type": "code",
   "execution_count": 86,
   "metadata": {},
   "outputs": [],
   "source": [
    "df.write_csv('data/julio_2024_rank_steam.csv')"
   ]
  }
 ],
 "metadata": {
  "kernelspec": {
   "display_name": "Python 3",
   "language": "python",
   "name": "python3"
  },
  "language_info": {
   "codemirror_mode": {
    "name": "ipython",
    "version": 3
   },
   "file_extension": ".py",
   "mimetype": "text/x-python",
   "name": "python",
   "nbconvert_exporter": "python",
   "pygments_lexer": "ipython3",
   "version": "3.10.11"
  }
 },
 "nbformat": 4,
 "nbformat_minor": 2
}
