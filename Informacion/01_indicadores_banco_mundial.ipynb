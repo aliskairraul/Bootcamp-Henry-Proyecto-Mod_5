{
 "cells": [
  {
   "cell_type": "markdown",
   "metadata": {},
   "source": [
    "Importando las Librerias"
   ]
  },
  {
   "cell_type": "code",
   "execution_count": 1,
   "metadata": {},
   "outputs": [],
   "source": [
    "import pandas as pd\n",
    "import polars as pl\n",
    "import duckdb"
   ]
  },
  {
   "cell_type": "code",
   "execution_count": 2,
   "metadata": {},
   "outputs": [],
   "source": [
    "df = pl.read_csv('csv_originales/01_Indicadores_del_desarrollo_humano_mundial Banco Mundial.csv', separator=';', \n",
    "                 null_values='..')"
   ]
  },
  {
   "cell_type": "code",
   "execution_count": null,
   "metadata": {},
   "outputs": [],
   "source": [
    "df"
   ]
  },
  {
   "cell_type": "markdown",
   "metadata": {},
   "source": [
    "Borrando las últimas 5 rows del dataframe"
   ]
  },
  {
   "cell_type": "code",
   "execution_count": 3,
   "metadata": {},
   "outputs": [
    {
     "data": {
      "text/html": [
       "<div><style>\n",
       ".dataframe > thead > tr,\n",
       ".dataframe > tbody > tr {\n",
       "  text-align: right;\n",
       "  white-space: pre-wrap;\n",
       "}\n",
       "</style>\n",
       "<small>shape: (232, 24)</small><table border=\"1\" class=\"dataframe\"><thead><tr><th>Series Name</th><th>Series Code</th><th>Country Name</th><th>Country Code</th><th>2000 [YR2000]</th><th>2001 [YR2001]</th><th>2002 [YR2002]</th><th>2003 [YR2003]</th><th>2004 [YR2004]</th><th>2005 [YR2005]</th><th>2006 [YR2006]</th><th>2007 [YR2007]</th><th>2008 [YR2008]</th><th>2009 [YR2009]</th><th>2010 [YR2010]</th><th>2011 [YR2011]</th><th>2012 [YR2012]</th><th>2013 [YR2013]</th><th>2014 [YR2014]</th><th>2015 [YR2015]</th><th>2016 [YR2016]</th><th>2017 [YR2017]</th><th>2018 [YR2018]</th><th>2019 [YR2019]</th></tr><tr><td>str</td><td>str</td><td>str</td><td>str</td><td>str</td><td>str</td><td>str</td><td>str</td><td>str</td><td>str</td><td>str</td><td>str</td><td>str</td><td>str</td><td>str</td><td>str</td><td>str</td><td>str</td><td>str</td><td>str</td><td>str</td><td>str</td><td>str</td><td>str</td></tr></thead><tbody><tr><td>&quot;Superficie (kilómetros cuadrad…</td><td>&quot;AG.SRF.TOTL.K2&quot;</td><td>&quot;Estados Unidos&quot;</td><td>&quot;USA&quot;</td><td>&quot;9632030&quot;</td><td>&quot;9632030&quot;</td><td>&quot;9632030&quot;</td><td>&quot;9632030&quot;</td><td>&quot;9632030&quot;</td><td>&quot;9632030&quot;</td><td>&quot;9632030&quot;</td><td>&quot;9632030&quot;</td><td>&quot;9831510&quot;</td><td>&quot;9831510&quot;</td><td>&quot;9831510&quot;</td><td>&quot;9831510&quot;</td><td>&quot;9831510&quot;</td><td>&quot;9831510&quot;</td><td>&quot;9831510&quot;</td><td>&quot;9831510&quot;</td><td>&quot;9831510&quot;</td><td>&quot;9831510&quot;</td><td>&quot;9831510&quot;</td><td>null</td></tr><tr><td>&quot;Superficie (kilómetros cuadrad…</td><td>&quot;AG.SRF.TOTL.K2&quot;</td><td>&quot;Unión Europea&quot;</td><td>&quot;EUU&quot;</td><td>&quot;4384964,995&quot;</td><td>&quot;4384984,995&quot;</td><td>&quot;4385294,995&quot;</td><td>&quot;4385644,995&quot;</td><td>&quot;4385414,995&quot;</td><td>&quot;4385434,995&quot;</td><td>&quot;4385724,995&quot;</td><td>&quot;4385704,995&quot;</td><td>&quot;4385719,995&quot;</td><td>&quot;4385855,996&quot;</td><td>&quot;4386039,99&quot;</td><td>&quot;4386021,997&quot;</td><td>&quot;4383341,997&quot;</td><td>&quot;4384062,192&quot;</td><td>&quot;4384082,593&quot;</td><td>&quot;4384131,577&quot;</td><td>&quot;4384317,593&quot;</td><td>&quot;4384317,593&quot;</td><td>&quot;4384317,593&quot;</td><td>null</td></tr><tr><td>&quot;Superficie (kilómetros cuadrad…</td><td>&quot;AG.SRF.TOTL.K2&quot;</td><td>&quot;Japón&quot;</td><td>&quot;JPN&quot;</td><td>&quot;377800&quot;</td><td>&quot;377880&quot;</td><td>&quot;377890&quot;</td><td>&quot;377900&quot;</td><td>&quot;377910&quot;</td><td>&quot;377910&quot;</td><td>&quot;377920&quot;</td><td>&quot;377930&quot;</td><td>&quot;377940&quot;</td><td>&quot;377946,9922&quot;</td><td>&quot;377950&quot;</td><td>&quot;377955&quot;</td><td>&quot;377960&quot;</td><td>&quot;377961,9922&quot;</td><td>&quot;377961,9922&quot;</td><td>&quot;377971,0156&quot;</td><td>&quot;377970&quot;</td><td>&quot;377970&quot;</td><td>&quot;377970&quot;</td><td>null</td></tr><tr><td>&quot;Superficie (kilómetros cuadrad…</td><td>&quot;AG.SRF.TOTL.K2&quot;</td><td>&quot;Mundo&quot;</td><td>&quot;WLD&quot;</td><td>&quot;131606512,3&quot;</td><td>&quot;131606902,7&quot;</td><td>&quot;131607327,4&quot;</td><td>&quot;131607728,8&quot;</td><td>&quot;131605872,8&quot;</td><td>&quot;131607830,2&quot;</td><td>&quot;131608165,1&quot;</td><td>&quot;131608206,1&quot;</td><td>&quot;131807675,1&quot;</td><td>&quot;131805348,1&quot;</td><td>&quot;131805574,2&quot;</td><td>&quot;131805826,4&quot;</td><td>&quot;131803288,4&quot;</td><td>&quot;132047813,1&quot;</td><td>&quot;132046109,5&quot;</td><td>&quot;132048793,1&quot;</td><td>&quot;132036620,8&quot;</td><td>&quot;132036620,8&quot;</td><td>&quot;132025199,4&quot;</td><td>null</td></tr><tr><td>&quot;INB, método Atlas (US$ a preci…</td><td>&quot;NY.GNP.ATLS.CD&quot;</td><td>&quot;Estados Unidos&quot;</td><td>&quot;USA&quot;</td><td>&quot;1,01476E+13&quot;</td><td>&quot;1,04622E+13&quot;</td><td>&quot;1,07327E+13&quot;</td><td>&quot;1,15364E+13&quot;</td><td>&quot;1,27405E+13&quot;</td><td>&quot;1,36514E+13&quot;</td><td>&quot;1,42856E+13&quot;</td><td>&quot;1,46083E+13&quot;</td><td>&quot;1,48947E+13&quot;</td><td>&quot;1,46437E+13&quot;</td><td>&quot;1,51542E+13&quot;</td><td>&quot;1,57569E+13&quot;</td><td>&quot;1,65605E+13&quot;</td><td>&quot;1,70489E+13&quot;</td><td>&quot;1,77765E+13&quot;</td><td>&quot;1,81914E+13&quot;</td><td>&quot;1,84673E+13&quot;</td><td>&quot;1,91948E+13&quot;</td><td>&quot;2,06363E+13&quot;</td><td>null</td></tr><tr><td>&hellip;</td><td>&hellip;</td><td>&hellip;</td><td>&hellip;</td><td>&hellip;</td><td>&hellip;</td><td>&hellip;</td><td>&hellip;</td><td>&hellip;</td><td>&hellip;</td><td>&hellip;</td><td>&hellip;</td><td>&hellip;</td><td>&hellip;</td><td>&hellip;</td><td>&hellip;</td><td>&hellip;</td><td>&hellip;</td><td>&hellip;</td><td>&hellip;</td><td>&hellip;</td><td>&hellip;</td><td>&hellip;</td><td>&hellip;</td></tr><tr><td>&quot;Población entre 15 y 64 años d…</td><td>&quot;SP.POP.1564.TO&quot;</td><td>&quot;Mundo&quot;</td><td>&quot;WLD&quot;</td><td>&quot;3848454670&quot;</td><td>&quot;3913855934&quot;</td><td>&quot;3984135046&quot;</td><td>&quot;4057586010&quot;</td><td>&quot;4131084573&quot;</td><td>&quot;4202650595&quot;</td><td>&quot;4270225325&quot;</td><td>&quot;4336247546&quot;</td><td>&quot;4401072020&quot;</td><td>&quot;4464456992&quot;</td><td>&quot;4526510133&quot;</td><td>&quot;4583458995&quot;</td><td>&quot;4641389354&quot;</td><td>&quot;4699065073&quot;</td><td>&quot;4755535355&quot;</td><td>&quot;4810098991&quot;</td><td>&quot;4861461723&quot;</td><td>&quot;4911012178&quot;</td><td>&quot;4958587504&quot;</td><td>null</td></tr><tr><td>&quot;Población activa, mujeres (% d…</td><td>&quot;SL.TLF.TOTL.FE.ZS&quot;</td><td>&quot;Estados Unidos&quot;</td><td>&quot;USA&quot;</td><td>&quot;45,56264512&quot;</td><td>&quot;45,6214925&quot;</td><td>&quot;45,67336567&quot;</td><td>&quot;45,82367135&quot;</td><td>&quot;45,75482604&quot;</td><td>&quot;45,78730688&quot;</td><td>&quot;45,76963741&quot;</td><td>&quot;45,82259042&quot;</td><td>&quot;45,97300854&quot;</td><td>&quot;46,18004003&quot;</td><td>&quot;46,1838904&quot;</td><td>&quot;46,1111441&quot;</td><td>&quot;45,93917299&quot;</td><td>&quot;45,91003624&quot;</td><td>&quot;45,96584792&quot;</td><td>&quot;45,86337745&quot;</td><td>&quot;45,87067996&quot;</td><td>&quot;46,02508331&quot;</td><td>&quot;46,0536745&quot;</td><td>&quot;46,03111754&quot;</td></tr><tr><td>&quot;Población activa, mujeres (% d…</td><td>&quot;SL.TLF.TOTL.FE.ZS&quot;</td><td>&quot;Unión Europea&quot;</td><td>&quot;EUU&quot;</td><td>&quot;43,55232872&quot;</td><td>&quot;43,64378281&quot;</td><td>&quot;43,78733537&quot;</td><td>&quot;43,99929888&quot;</td><td>&quot;44,13903933&quot;</td><td>&quot;44,24740927&quot;</td><td>&quot;44,45184477&quot;</td><td>&quot;44,57560018&quot;</td><td>&quot;44,72240568&quot;</td><td>&quot;44,97392184&quot;</td><td>&quot;45,14588479&quot;</td><td>&quot;45,33792888&quot;</td><td>&quot;45,51158241&quot;</td><td>&quot;45,65044273&quot;</td><td>&quot;45,72787895&quot;</td><td>&quot;45,74019097&quot;</td><td>&quot;45,80899885&quot;</td><td>&quot;45,83351666&quot;</td><td>&quot;45,84576158&quot;</td><td>&quot;45,8732389&quot;</td></tr><tr><td>&quot;Población activa, mujeres (% d…</td><td>&quot;SL.TLF.TOTL.FE.ZS&quot;</td><td>&quot;Japón&quot;</td><td>&quot;JPN&quot;</td><td>&quot;40,35360002&quot;</td><td>&quot;40,55620079&quot;</td><td>&quot;40,52404803&quot;</td><td>&quot;40,69544213&quot;</td><td>&quot;40,8528123&quot;</td><td>&quot;40,99796817&quot;</td><td>&quot;41,12442165&quot;</td><td>&quot;41,11939553&quot;</td><td>&quot;41,25954929&quot;</td><td>&quot;41,59181593&quot;</td><td>&quot;41,73433824&quot;</td><td>&quot;41,76523217&quot;</td><td>&quot;41,93683008&quot;</td><td>&quot;42,34860616&quot;</td><td>&quot;42,59072794&quot;</td><td>&quot;42,80516573&quot;</td><td>&quot;43,11094792&quot;</td><td>&quot;43,50272145&quot;</td><td>&quot;43,9358633&quot;</td><td>&quot;44,02415591&quot;</td></tr><tr><td>&quot;Población activa, mujeres (% d…</td><td>&quot;SL.TLF.TOTL.FE.ZS&quot;</td><td>&quot;Mundo&quot;</td><td>&quot;WLD&quot;</td><td>&quot;39,49347681&quot;</td><td>&quot;39,47470862&quot;</td><td>&quot;39,47569687&quot;</td><td>&quot;39,50919927&quot;</td><td>&quot;39,48706097&quot;</td><td>&quot;39,50303702&quot;</td><td>&quot;39,4143957&quot;</td><td>&quot;39,3723637&quot;</td><td>&quot;39,26179608&quot;</td><td>&quot;39,22134867&quot;</td><td>&quot;39,10182452&quot;</td><td>&quot;38,99826591&quot;</td><td>&quot;38,90701891&quot;</td><td>&quot;38,88186784&quot;</td><td>&quot;38,86416105&quot;</td><td>&quot;38,87177636&quot;</td><td>&quot;38,88328187&quot;</td><td>&quot;38,89739185&quot;</td><td>&quot;38,91647163&quot;</td><td>&quot;38,84903288&quot;</td></tr></tbody></table></div>"
      ],
      "text/plain": [
       "shape: (232, 24)\n",
       "┌───────────┬───────────┬───────────┬───────────┬───┬───────────┬───────────┬───────────┬──────────┐\n",
       "│ Series    ┆ Series    ┆ Country   ┆ Country   ┆ … ┆ 2016      ┆ 2017      ┆ 2018      ┆ 2019     │\n",
       "│ Name      ┆ Code      ┆ Name      ┆ Code      ┆   ┆ [YR2016]  ┆ [YR2017]  ┆ [YR2018]  ┆ [YR2019] │\n",
       "│ ---       ┆ ---       ┆ ---       ┆ ---       ┆   ┆ ---       ┆ ---       ┆ ---       ┆ ---      │\n",
       "│ str       ┆ str       ┆ str       ┆ str       ┆   ┆ str       ┆ str       ┆ str       ┆ str      │\n",
       "╞═══════════╪═══════════╪═══════════╪═══════════╪═══╪═══════════╪═══════════╪═══════════╪══════════╡\n",
       "│ Superfici ┆ AG.SRF.TO ┆ Estados   ┆ USA       ┆ … ┆ 9831510   ┆ 9831510   ┆ 9831510   ┆ null     │\n",
       "│ e (kilóme ┆ TL.K2     ┆ Unidos    ┆           ┆   ┆           ┆           ┆           ┆          │\n",
       "│ tros      ┆           ┆           ┆           ┆   ┆           ┆           ┆           ┆          │\n",
       "│ cuadrad…  ┆           ┆           ┆           ┆   ┆           ┆           ┆           ┆          │\n",
       "│ Superfici ┆ AG.SRF.TO ┆ Unión     ┆ EUU       ┆ … ┆ 4384317,5 ┆ 4384317,5 ┆ 4384317,5 ┆ null     │\n",
       "│ e (kilóme ┆ TL.K2     ┆ Europea   ┆           ┆   ┆ 93        ┆ 93        ┆ 93        ┆          │\n",
       "│ tros      ┆           ┆           ┆           ┆   ┆           ┆           ┆           ┆          │\n",
       "│ cuadrad…  ┆           ┆           ┆           ┆   ┆           ┆           ┆           ┆          │\n",
       "│ Superfici ┆ AG.SRF.TO ┆ Japón     ┆ JPN       ┆ … ┆ 377970    ┆ 377970    ┆ 377970    ┆ null     │\n",
       "│ e (kilóme ┆ TL.K2     ┆           ┆           ┆   ┆           ┆           ┆           ┆          │\n",
       "│ tros      ┆           ┆           ┆           ┆   ┆           ┆           ┆           ┆          │\n",
       "│ cuadrad…  ┆           ┆           ┆           ┆   ┆           ┆           ┆           ┆          │\n",
       "│ Superfici ┆ AG.SRF.TO ┆ Mundo     ┆ WLD       ┆ … ┆ 132036620 ┆ 132036620 ┆ 132025199 ┆ null     │\n",
       "│ e (kilóme ┆ TL.K2     ┆           ┆           ┆   ┆ ,8        ┆ ,8        ┆ ,4        ┆          │\n",
       "│ tros      ┆           ┆           ┆           ┆   ┆           ┆           ┆           ┆          │\n",
       "│ cuadrad…  ┆           ┆           ┆           ┆   ┆           ┆           ┆           ┆          │\n",
       "│ INB,      ┆ NY.GNP.AT ┆ Estados   ┆ USA       ┆ … ┆ 1,84673E+ ┆ 1,91948E+ ┆ 2,06363E+ ┆ null     │\n",
       "│ método    ┆ LS.CD     ┆ Unidos    ┆           ┆   ┆ 13        ┆ 13        ┆ 13        ┆          │\n",
       "│ Atlas     ┆           ┆           ┆           ┆   ┆           ┆           ┆           ┆          │\n",
       "│ (US$ a    ┆           ┆           ┆           ┆   ┆           ┆           ┆           ┆          │\n",
       "│ preci…    ┆           ┆           ┆           ┆   ┆           ┆           ┆           ┆          │\n",
       "│ …         ┆ …         ┆ …         ┆ …         ┆ … ┆ …         ┆ …         ┆ …         ┆ …        │\n",
       "│ Población ┆ SP.POP.15 ┆ Mundo     ┆ WLD       ┆ … ┆ 486146172 ┆ 491101217 ┆ 495858750 ┆ null     │\n",
       "│ entre 15  ┆ 64.TO     ┆           ┆           ┆   ┆ 3         ┆ 8         ┆ 4         ┆          │\n",
       "│ y 64 años ┆           ┆           ┆           ┆   ┆           ┆           ┆           ┆          │\n",
       "│ d…        ┆           ┆           ┆           ┆   ┆           ┆           ┆           ┆          │\n",
       "│ Población ┆ SL.TLF.TO ┆ Estados   ┆ USA       ┆ … ┆ 45,870679 ┆ 46,025083 ┆ 46,053674 ┆ 46,03111 │\n",
       "│ activa,   ┆ TL.FE.ZS  ┆ Unidos    ┆           ┆   ┆ 96        ┆ 31        ┆ 5         ┆ 754      │\n",
       "│ mujeres   ┆           ┆           ┆           ┆   ┆           ┆           ┆           ┆          │\n",
       "│ (% d…     ┆           ┆           ┆           ┆   ┆           ┆           ┆           ┆          │\n",
       "│ Población ┆ SL.TLF.TO ┆ Unión     ┆ EUU       ┆ … ┆ 45,808998 ┆ 45,833516 ┆ 45,845761 ┆ 45,87323 │\n",
       "│ activa,   ┆ TL.FE.ZS  ┆ Europea   ┆           ┆   ┆ 85        ┆ 66        ┆ 58        ┆ 89       │\n",
       "│ mujeres   ┆           ┆           ┆           ┆   ┆           ┆           ┆           ┆          │\n",
       "│ (% d…     ┆           ┆           ┆           ┆   ┆           ┆           ┆           ┆          │\n",
       "│ Población ┆ SL.TLF.TO ┆ Japón     ┆ JPN       ┆ … ┆ 43,110947 ┆ 43,502721 ┆ 43,935863 ┆ 44,02415 │\n",
       "│ activa,   ┆ TL.FE.ZS  ┆           ┆           ┆   ┆ 92        ┆ 45        ┆ 3         ┆ 591      │\n",
       "│ mujeres   ┆           ┆           ┆           ┆   ┆           ┆           ┆           ┆          │\n",
       "│ (% d…     ┆           ┆           ┆           ┆   ┆           ┆           ┆           ┆          │\n",
       "│ Población ┆ SL.TLF.TO ┆ Mundo     ┆ WLD       ┆ … ┆ 38,883281 ┆ 38,897391 ┆ 38,916471 ┆ 38,84903 │\n",
       "│ activa,   ┆ TL.FE.ZS  ┆           ┆           ┆   ┆ 87        ┆ 85        ┆ 63        ┆ 288      │\n",
       "│ mujeres   ┆           ┆           ┆           ┆   ┆           ┆           ┆           ┆          │\n",
       "│ (% d…     ┆           ┆           ┆           ┆   ┆           ┆           ┆           ┆          │\n",
       "└───────────┴───────────┴───────────┴───────────┴───┴───────────┴───────────┴───────────┴──────────┘"
      ]
     },
     "execution_count": 3,
     "metadata": {},
     "output_type": "execute_result"
    }
   ],
   "source": [
    "df = df.filter(~pl.all_horizontal(pl.col('Series Code').is_null()))\n",
    "df"
   ]
  },
  {
   "cell_type": "markdown",
   "metadata": {},
   "source": [
    "Observando Los Campos Nulos"
   ]
  },
  {
   "cell_type": "code",
   "execution_count": 4,
   "metadata": {},
   "outputs": [
    {
     "name": "stdout",
     "output_type": "stream",
     "text": [
      "Series Name  --->   0\n",
      "Series Code  --->   0\n",
      "Country Name  --->   0\n",
      "Country Code  --->   0\n",
      "2000 [YR2000]  --->   46\n",
      "2001 [YR2001]  --->   49\n",
      "2002 [YR2002]  --->   42\n",
      "2003 [YR2003]  --->   47\n",
      "2004 [YR2004]  --->   46\n",
      "2005 [YR2005]  --->   43\n",
      "2006 [YR2006]  --->   47\n",
      "2007 [YR2007]  --->   36\n",
      "2008 [YR2008]  --->   42\n",
      "2009 [YR2009]  --->   43\n",
      "2010 [YR2010]  --->   37\n",
      "2011 [YR2011]  --->   40\n",
      "2012 [YR2012]  --->   34\n",
      "2013 [YR2013]  --->   39\n",
      "2014 [YR2014]  --->   33\n",
      "2015 [YR2015]  --->   47\n",
      "2016 [YR2016]  --->   46\n",
      "2017 [YR2017]  --->   48\n",
      "2018 [YR2018]  --->   62\n",
      "2019 [YR2019]  --->   202\n"
     ]
    }
   ],
   "source": [
    "for column in df.columns:\n",
    "    print(f'{column}  --->   {df[column].is_null().sum()}')"
   ]
  },
  {
   "cell_type": "markdown",
   "metadata": {},
   "source": [
    "Hay Muchos Nulos que no se pueden imputar. Lo correcto sería Averiguar esos valores y rellenar.. Por ahora vamos a ver sí encontramos Variables a las cuales sacarle provecho"
   ]
  },
  {
   "cell_type": "markdown",
   "metadata": {},
   "source": [
    "***\n",
    "Por ahora vamos a realizar dos tablas pequeñas para Normalizar algo y trabajar mejor.\n",
    "- tabla `series`\n",
    "    - Series Name\n",
    "    - Series Code\n",
    "- tabla `countries`\n",
    "    - Country Name\n",
    "    - Country Code"
   ]
  },
  {
   "cell_type": "code",
   "execution_count": 5,
   "metadata": {},
   "outputs": [
    {
     "data": {
      "text/html": [
       "<div><style>\n",
       ".dataframe > thead > tr,\n",
       ".dataframe > tbody > tr {\n",
       "  text-align: right;\n",
       "  white-space: pre-wrap;\n",
       "}\n",
       "</style>\n",
       "<small>shape: (4, 2)</small><table border=\"1\" class=\"dataframe\"><thead><tr><th>Country Code</th><th>Country Name</th></tr><tr><td>str</td><td>str</td></tr></thead><tbody><tr><td>&quot;EUU&quot;</td><td>&quot;Unión Europea&quot;</td></tr><tr><td>&quot;USA&quot;</td><td>&quot;Estados Unidos&quot;</td></tr><tr><td>&quot;WLD&quot;</td><td>&quot;Mundo&quot;</td></tr><tr><td>&quot;JPN&quot;</td><td>&quot;Japón&quot;</td></tr></tbody></table></div>"
      ],
      "text/plain": [
       "shape: (4, 2)\n",
       "┌──────────────┬────────────────┐\n",
       "│ Country Code ┆ Country Name   │\n",
       "│ ---          ┆ ---            │\n",
       "│ str          ┆ str            │\n",
       "╞══════════════╪════════════════╡\n",
       "│ EUU          ┆ Unión Europea  │\n",
       "│ USA          ┆ Estados Unidos │\n",
       "│ WLD          ┆ Mundo          │\n",
       "│ JPN          ┆ Japón          │\n",
       "└──────────────┴────────────────┘"
      ]
     },
     "execution_count": 5,
     "metadata": {},
     "output_type": "execute_result"
    }
   ],
   "source": [
    "series = df[['Series Code', 'Series Name']]\n",
    "series = series.unique()\n",
    "\n",
    "countries = df[['Country Code', 'Country Name']]\n",
    "countries = countries.unique()\n",
    "\n",
    "countries"
   ]
  },
  {
   "cell_type": "code",
   "execution_count": 6,
   "metadata": {},
   "outputs": [
    {
     "data": {
      "text/html": [
       "<div><style>\n",
       ".dataframe > thead > tr,\n",
       ".dataframe > tbody > tr {\n",
       "  text-align: right;\n",
       "  white-space: pre-wrap;\n",
       "}\n",
       "</style>\n",
       "<small>shape: (5, 22)</small><table border=\"1\" class=\"dataframe\"><thead><tr><th>Series Code</th><th>Country Code</th><th>2000 [YR2000]</th><th>2001 [YR2001]</th><th>2002 [YR2002]</th><th>2003 [YR2003]</th><th>2004 [YR2004]</th><th>2005 [YR2005]</th><th>2006 [YR2006]</th><th>2007 [YR2007]</th><th>2008 [YR2008]</th><th>2009 [YR2009]</th><th>2010 [YR2010]</th><th>2011 [YR2011]</th><th>2012 [YR2012]</th><th>2013 [YR2013]</th><th>2014 [YR2014]</th><th>2015 [YR2015]</th><th>2016 [YR2016]</th><th>2017 [YR2017]</th><th>2018 [YR2018]</th><th>2019 [YR2019]</th></tr><tr><td>str</td><td>str</td><td>str</td><td>str</td><td>str</td><td>str</td><td>str</td><td>str</td><td>str</td><td>str</td><td>str</td><td>str</td><td>str</td><td>str</td><td>str</td><td>str</td><td>str</td><td>str</td><td>str</td><td>str</td><td>str</td><td>str</td></tr></thead><tbody><tr><td>&quot;AG.SRF.TOTL.K2&quot;</td><td>&quot;USA&quot;</td><td>&quot;9632030&quot;</td><td>&quot;9632030&quot;</td><td>&quot;9632030&quot;</td><td>&quot;9632030&quot;</td><td>&quot;9632030&quot;</td><td>&quot;9632030&quot;</td><td>&quot;9632030&quot;</td><td>&quot;9632030&quot;</td><td>&quot;9831510&quot;</td><td>&quot;9831510&quot;</td><td>&quot;9831510&quot;</td><td>&quot;9831510&quot;</td><td>&quot;9831510&quot;</td><td>&quot;9831510&quot;</td><td>&quot;9831510&quot;</td><td>&quot;9831510&quot;</td><td>&quot;9831510&quot;</td><td>&quot;9831510&quot;</td><td>&quot;9831510&quot;</td><td>null</td></tr><tr><td>&quot;AG.SRF.TOTL.K2&quot;</td><td>&quot;EUU&quot;</td><td>&quot;4384964,995&quot;</td><td>&quot;4384984,995&quot;</td><td>&quot;4385294,995&quot;</td><td>&quot;4385644,995&quot;</td><td>&quot;4385414,995&quot;</td><td>&quot;4385434,995&quot;</td><td>&quot;4385724,995&quot;</td><td>&quot;4385704,995&quot;</td><td>&quot;4385719,995&quot;</td><td>&quot;4385855,996&quot;</td><td>&quot;4386039,99&quot;</td><td>&quot;4386021,997&quot;</td><td>&quot;4383341,997&quot;</td><td>&quot;4384062,192&quot;</td><td>&quot;4384082,593&quot;</td><td>&quot;4384131,577&quot;</td><td>&quot;4384317,593&quot;</td><td>&quot;4384317,593&quot;</td><td>&quot;4384317,593&quot;</td><td>null</td></tr><tr><td>&quot;AG.SRF.TOTL.K2&quot;</td><td>&quot;JPN&quot;</td><td>&quot;377800&quot;</td><td>&quot;377880&quot;</td><td>&quot;377890&quot;</td><td>&quot;377900&quot;</td><td>&quot;377910&quot;</td><td>&quot;377910&quot;</td><td>&quot;377920&quot;</td><td>&quot;377930&quot;</td><td>&quot;377940&quot;</td><td>&quot;377946,9922&quot;</td><td>&quot;377950&quot;</td><td>&quot;377955&quot;</td><td>&quot;377960&quot;</td><td>&quot;377961,9922&quot;</td><td>&quot;377961,9922&quot;</td><td>&quot;377971,0156&quot;</td><td>&quot;377970&quot;</td><td>&quot;377970&quot;</td><td>&quot;377970&quot;</td><td>null</td></tr><tr><td>&quot;AG.SRF.TOTL.K2&quot;</td><td>&quot;WLD&quot;</td><td>&quot;131606512,3&quot;</td><td>&quot;131606902,7&quot;</td><td>&quot;131607327,4&quot;</td><td>&quot;131607728,8&quot;</td><td>&quot;131605872,8&quot;</td><td>&quot;131607830,2&quot;</td><td>&quot;131608165,1&quot;</td><td>&quot;131608206,1&quot;</td><td>&quot;131807675,1&quot;</td><td>&quot;131805348,1&quot;</td><td>&quot;131805574,2&quot;</td><td>&quot;131805826,4&quot;</td><td>&quot;131803288,4&quot;</td><td>&quot;132047813,1&quot;</td><td>&quot;132046109,5&quot;</td><td>&quot;132048793,1&quot;</td><td>&quot;132036620,8&quot;</td><td>&quot;132036620,8&quot;</td><td>&quot;132025199,4&quot;</td><td>null</td></tr><tr><td>&quot;NY.GNP.ATLS.CD&quot;</td><td>&quot;USA&quot;</td><td>&quot;1,01476E+13&quot;</td><td>&quot;1,04622E+13&quot;</td><td>&quot;1,07327E+13&quot;</td><td>&quot;1,15364E+13&quot;</td><td>&quot;1,27405E+13&quot;</td><td>&quot;1,36514E+13&quot;</td><td>&quot;1,42856E+13&quot;</td><td>&quot;1,46083E+13&quot;</td><td>&quot;1,48947E+13&quot;</td><td>&quot;1,46437E+13&quot;</td><td>&quot;1,51542E+13&quot;</td><td>&quot;1,57569E+13&quot;</td><td>&quot;1,65605E+13&quot;</td><td>&quot;1,70489E+13&quot;</td><td>&quot;1,77765E+13&quot;</td><td>&quot;1,81914E+13&quot;</td><td>&quot;1,84673E+13&quot;</td><td>&quot;1,91948E+13&quot;</td><td>&quot;2,06363E+13&quot;</td><td>null</td></tr></tbody></table></div>"
      ],
      "text/plain": [
       "shape: (5, 22)\n",
       "┌───────────┬───────────┬───────────┬───────────┬───┬───────────┬───────────┬───────────┬──────────┐\n",
       "│ Series    ┆ Country   ┆ 2000      ┆ 2001      ┆ … ┆ 2016      ┆ 2017      ┆ 2018      ┆ 2019     │\n",
       "│ Code      ┆ Code      ┆ [YR2000]  ┆ [YR2001]  ┆   ┆ [YR2016]  ┆ [YR2017]  ┆ [YR2018]  ┆ [YR2019] │\n",
       "│ ---       ┆ ---       ┆ ---       ┆ ---       ┆   ┆ ---       ┆ ---       ┆ ---       ┆ ---      │\n",
       "│ str       ┆ str       ┆ str       ┆ str       ┆   ┆ str       ┆ str       ┆ str       ┆ str      │\n",
       "╞═══════════╪═══════════╪═══════════╪═══════════╪═══╪═══════════╪═══════════╪═══════════╪══════════╡\n",
       "│ AG.SRF.TO ┆ USA       ┆ 9632030   ┆ 9632030   ┆ … ┆ 9831510   ┆ 9831510   ┆ 9831510   ┆ null     │\n",
       "│ TL.K2     ┆           ┆           ┆           ┆   ┆           ┆           ┆           ┆          │\n",
       "│ AG.SRF.TO ┆ EUU       ┆ 4384964,9 ┆ 4384984,9 ┆ … ┆ 4384317,5 ┆ 4384317,5 ┆ 4384317,5 ┆ null     │\n",
       "│ TL.K2     ┆           ┆ 95        ┆ 95        ┆   ┆ 93        ┆ 93        ┆ 93        ┆          │\n",
       "│ AG.SRF.TO ┆ JPN       ┆ 377800    ┆ 377880    ┆ … ┆ 377970    ┆ 377970    ┆ 377970    ┆ null     │\n",
       "│ TL.K2     ┆           ┆           ┆           ┆   ┆           ┆           ┆           ┆          │\n",
       "│ AG.SRF.TO ┆ WLD       ┆ 131606512 ┆ 131606902 ┆ … ┆ 132036620 ┆ 132036620 ┆ 132025199 ┆ null     │\n",
       "│ TL.K2     ┆           ┆ ,3        ┆ ,7        ┆   ┆ ,8        ┆ ,8        ┆ ,4        ┆          │\n",
       "│ NY.GNP.AT ┆ USA       ┆ 1,01476E+ ┆ 1,04622E+ ┆ … ┆ 1,84673E+ ┆ 1,91948E+ ┆ 2,06363E+ ┆ null     │\n",
       "│ LS.CD     ┆           ┆ 13        ┆ 13        ┆   ┆ 13        ┆ 13        ┆ 13        ┆          │\n",
       "└───────────┴───────────┴───────────┴───────────┴───┴───────────┴───────────┴───────────┴──────────┘"
      ]
     },
     "execution_count": 6,
     "metadata": {},
     "output_type": "execute_result"
    }
   ],
   "source": [
    "df = df.drop('Series Name').drop('Country Name')\n",
    "df.head(5)"
   ]
  },
  {
   "cell_type": "markdown",
   "metadata": {},
   "source": [
    "Desde la Columna `2000 [YR2000]` en adelante se necesita reemplazar las ',' por '.' y los '..' por '0' y luego castear todo a numerico"
   ]
  },
  {
   "cell_type": "code",
   "execution_count": 7,
   "metadata": {},
   "outputs": [],
   "source": [
    "# Sustituyo todas las comas ',' por puntos '.'\n",
    "for i in range(2, len(df.columns)):\n",
    "    df = df.with_columns(pl.col(df.columns[i]).str.replace_all(',','.').alias(df.columns[i]))"
   ]
  },
  {
   "cell_type": "code",
   "execution_count": null,
   "metadata": {},
   "outputs": [],
   "source": [
    "# Sustituyo donde aparezcan dobles puntos '..' por 0\n",
    "# for i in range(2, len(df.columns)):\n",
    "#     df = df.with_columns(pl.col(df.columns[i]).str.replace('\\..','0').alias(df.columns[i]))"
   ]
  },
  {
   "cell_type": "code",
   "execution_count": 8,
   "metadata": {},
   "outputs": [],
   "source": [
    "# Castear las columnas a numericas\n",
    "for i in range(2, len(df.columns)):\n",
    "    df = df.with_columns(pl.col(df.columns[i]).cast(pl.Float32).alias(df.columns[i]))"
   ]
  },
  {
   "cell_type": "code",
   "execution_count": 9,
   "metadata": {},
   "outputs": [
    {
     "data": {
      "text/html": [
       "<div><style>\n",
       ".dataframe > thead > tr,\n",
       ".dataframe > tbody > tr {\n",
       "  text-align: right;\n",
       "  white-space: pre-wrap;\n",
       "}\n",
       "</style>\n",
       "<small>shape: (4, 22)</small><table border=\"1\" class=\"dataframe\"><thead><tr><th>Series Code</th><th>Country Code</th><th>2000 [YR2000]</th><th>2001 [YR2001]</th><th>2002 [YR2002]</th><th>2003 [YR2003]</th><th>2004 [YR2004]</th><th>2005 [YR2005]</th><th>2006 [YR2006]</th><th>2007 [YR2007]</th><th>2008 [YR2008]</th><th>2009 [YR2009]</th><th>2010 [YR2010]</th><th>2011 [YR2011]</th><th>2012 [YR2012]</th><th>2013 [YR2013]</th><th>2014 [YR2014]</th><th>2015 [YR2015]</th><th>2016 [YR2016]</th><th>2017 [YR2017]</th><th>2018 [YR2018]</th><th>2019 [YR2019]</th></tr><tr><td>str</td><td>str</td><td>f32</td><td>f32</td><td>f32</td><td>f32</td><td>f32</td><td>f32</td><td>f32</td><td>f32</td><td>f32</td><td>f32</td><td>f32</td><td>f32</td><td>f32</td><td>f32</td><td>f32</td><td>f32</td><td>f32</td><td>f32</td><td>f32</td><td>f32</td></tr></thead><tbody><tr><td>&quot;NY.GNP.PCAP.CD&quot;</td><td>&quot;USA&quot;</td><td>35960.0</td><td>36710.0</td><td>37310.0</td><td>39770.0</td><td>43510.0</td><td>46190.0</td><td>47880.0</td><td>48500.0</td><td>48980.0</td><td>47730.0</td><td>48990.0</td><td>50570.0</td><td>52770.0</td><td>53950.0</td><td>55850.0</td><td>56740.0</td><td>57180.0</td><td>59060.0</td><td>63170.0</td><td>null</td></tr><tr><td>&quot;NY.GNP.PCAP.CD&quot;</td><td>&quot;EUU&quot;</td><td>18453.789062</td><td>17769.470703</td><td>17442.498047</td><td>19711.490234</td><td>23980.552734</td><td>27595.181641</td><td>29595.796875</td><td>31657.205078</td><td>34387.96875</td><td>34513.980469</td><td>34706.773438</td><td>35195.109375</td><td>34505.203125</td><td>34817.304688</td><td>34789.160156</td><td>33408.398438</td><td>32192.632812</td><td>31803.796875</td><td>34469.539062</td><td>null</td></tr><tr><td>&quot;NY.GNP.PCAP.CD&quot;</td><td>&quot;JPN&quot;</td><td>36230.0</td><td>36770.0</td><td>34790.0</td><td>35070.0</td><td>38350.0</td><td>40560.0</td><td>39930.0</td><td>38740.0</td><td>38850.0</td><td>38800.0</td><td>43440.0</td><td>46880.0</td><td>49480.0</td><td>48280.0</td><td>43950.0</td><td>38840.0</td><td>37880.0</td><td>38470.0</td><td>41310.0</td><td>null</td></tr><tr><td>&quot;NY.GNP.PCAP.CD&quot;</td><td>&quot;WLD&quot;</td><td>5489.007812</td><td>5464.88623</td><td>5423.078125</td><td>5824.505371</td><td>6636.621582</td><td>7354.154297</td><td>7845.857422</td><td>8362.793945</td><td>8952.927734</td><td>8982.860352</td><td>9411.830078</td><td>9901.430664</td><td>10496.848633</td><td>10874.584961</td><td>10995.402344</td><td>10657.507812</td><td>10396.306641</td><td>10449.857422</td><td>11124.503906</td><td>null</td></tr></tbody></table></div>"
      ],
      "text/plain": [
       "shape: (4, 22)\n",
       "┌───────────┬───────────┬───────────┬───────────┬───┬───────────┬───────────┬───────────┬──────────┐\n",
       "│ Series    ┆ Country   ┆ 2000      ┆ 2001      ┆ … ┆ 2016      ┆ 2017      ┆ 2018      ┆ 2019     │\n",
       "│ Code      ┆ Code      ┆ [YR2000]  ┆ [YR2001]  ┆   ┆ [YR2016]  ┆ [YR2017]  ┆ [YR2018]  ┆ [YR2019] │\n",
       "│ ---       ┆ ---       ┆ ---       ┆ ---       ┆   ┆ ---       ┆ ---       ┆ ---       ┆ ---      │\n",
       "│ str       ┆ str       ┆ f32       ┆ f32       ┆   ┆ f32       ┆ f32       ┆ f32       ┆ f32      │\n",
       "╞═══════════╪═══════════╪═══════════╪═══════════╪═══╪═══════════╪═══════════╪═══════════╪══════════╡\n",
       "│ NY.GNP.PC ┆ USA       ┆ 35960.0   ┆ 36710.0   ┆ … ┆ 57180.0   ┆ 59060.0   ┆ 63170.0   ┆ null     │\n",
       "│ AP.CD     ┆           ┆           ┆           ┆   ┆           ┆           ┆           ┆          │\n",
       "│ NY.GNP.PC ┆ EUU       ┆ 18453.789 ┆ 17769.470 ┆ … ┆ 32192.632 ┆ 31803.796 ┆ 34469.539 ┆ null     │\n",
       "│ AP.CD     ┆           ┆ 062       ┆ 703       ┆   ┆ 812       ┆ 875       ┆ 062       ┆          │\n",
       "│ NY.GNP.PC ┆ JPN       ┆ 36230.0   ┆ 36770.0   ┆ … ┆ 37880.0   ┆ 38470.0   ┆ 41310.0   ┆ null     │\n",
       "│ AP.CD     ┆           ┆           ┆           ┆   ┆           ┆           ┆           ┆          │\n",
       "│ NY.GNP.PC ┆ WLD       ┆ 5489.0078 ┆ 5464.8862 ┆ … ┆ 10396.306 ┆ 10449.857 ┆ 11124.503 ┆ null     │\n",
       "│ AP.CD     ┆           ┆ 12        ┆ 3         ┆   ┆ 641       ┆ 422       ┆ 906       ┆          │\n",
       "└───────────┴───────────┴───────────┴───────────┴───┴───────────┴───────────┴───────────┴──────────┘"
      ]
     },
     "execution_count": 9,
     "metadata": {},
     "output_type": "execute_result"
    }
   ],
   "source": [
    "df.filter(df['Series Code'] == 'NY.GNP.PCAP.CD')\n"
   ]
  },
  {
   "cell_type": "markdown",
   "metadata": {},
   "source": [
    "Existen 4 Zonas de Estudio en esta Mega Tabla. Sacaré 4 Tablas mas pequeñas para facilidad de análisis"
   ]
  },
  {
   "cell_type": "code",
   "execution_count": 10,
   "metadata": {},
   "outputs": [],
   "source": [
    "indicadores_euu = df.filter(pl.col('Country Code') == \"EUU\")\n",
    "indicadores_jpn = df.filter(pl.col('Country Code') == \"JPN\")\n",
    "indicadores_wld = df.filter(pl.col('Country Code') == \"WLD\")\n",
    "indicadores_usa = df.filter(pl.col('Country Code') == \"USA\")"
   ]
  },
  {
   "cell_type": "markdown",
   "metadata": {},
   "source": [
    "Borraremos la Columnas `Country Code` de estas 4 Sub-tablas"
   ]
  },
  {
   "cell_type": "code",
   "execution_count": 11,
   "metadata": {},
   "outputs": [
    {
     "data": {
      "text/html": [
       "<div><style>\n",
       ".dataframe > thead > tr,\n",
       ".dataframe > tbody > tr {\n",
       "  text-align: right;\n",
       "  white-space: pre-wrap;\n",
       "}\n",
       "</style>\n",
       "<small>shape: (2, 21)</small><table border=\"1\" class=\"dataframe\"><thead><tr><th>Series Code</th><th>2000 [YR2000]</th><th>2001 [YR2001]</th><th>2002 [YR2002]</th><th>2003 [YR2003]</th><th>2004 [YR2004]</th><th>2005 [YR2005]</th><th>2006 [YR2006]</th><th>2007 [YR2007]</th><th>2008 [YR2008]</th><th>2009 [YR2009]</th><th>2010 [YR2010]</th><th>2011 [YR2011]</th><th>2012 [YR2012]</th><th>2013 [YR2013]</th><th>2014 [YR2014]</th><th>2015 [YR2015]</th><th>2016 [YR2016]</th><th>2017 [YR2017]</th><th>2018 [YR2018]</th><th>2019 [YR2019]</th></tr><tr><td>str</td><td>f32</td><td>f32</td><td>f32</td><td>f32</td><td>f32</td><td>f32</td><td>f32</td><td>f32</td><td>f32</td><td>f32</td><td>f32</td><td>f32</td><td>f32</td><td>f32</td><td>f32</td><td>f32</td><td>f32</td><td>f32</td><td>f32</td><td>f32</td></tr></thead><tbody><tr><td>&quot;AG.SRF.TOTL.K2&quot;</td><td>9.63203e6</td><td>9.63203e6</td><td>9.63203e6</td><td>9.63203e6</td><td>9.63203e6</td><td>9.63203e6</td><td>9.63203e6</td><td>9.63203e6</td><td>9.83151e6</td><td>9.83151e6</td><td>9.83151e6</td><td>9.83151e6</td><td>9.83151e6</td><td>9.83151e6</td><td>9.83151e6</td><td>9.83151e6</td><td>9.83151e6</td><td>9.83151e6</td><td>9.83151e6</td><td>null</td></tr><tr><td>&quot;NY.GNP.ATLS.CD&quot;</td><td>1.0148e13</td><td>1.0462e13</td><td>1.0733e13</td><td>1.1536e13</td><td>1.2741e13</td><td>1.3651e13</td><td>1.4286e13</td><td>1.4608e13</td><td>1.4895e13</td><td>1.4644e13</td><td>1.5154e13</td><td>1.5757e13</td><td>1.6561e13</td><td>1.7049e13</td><td>1.7777e13</td><td>1.8191e13</td><td>1.8467e13</td><td>1.9195e13</td><td>2.0636e13</td><td>null</td></tr></tbody></table></div>"
      ],
      "text/plain": [
       "shape: (2, 21)\n",
       "┌───────────┬───────────┬───────────┬───────────┬───┬───────────┬───────────┬───────────┬──────────┐\n",
       "│ Series    ┆ 2000      ┆ 2001      ┆ 2002      ┆ … ┆ 2016      ┆ 2017      ┆ 2018      ┆ 2019     │\n",
       "│ Code      ┆ [YR2000]  ┆ [YR2001]  ┆ [YR2002]  ┆   ┆ [YR2016]  ┆ [YR2017]  ┆ [YR2018]  ┆ [YR2019] │\n",
       "│ ---       ┆ ---       ┆ ---       ┆ ---       ┆   ┆ ---       ┆ ---       ┆ ---       ┆ ---      │\n",
       "│ str       ┆ f32       ┆ f32       ┆ f32       ┆   ┆ f32       ┆ f32       ┆ f32       ┆ f32      │\n",
       "╞═══════════╪═══════════╪═══════════╪═══════════╪═══╪═══════════╪═══════════╪═══════════╪══════════╡\n",
       "│ AG.SRF.TO ┆ 9.63203e6 ┆ 9.63203e6 ┆ 9.63203e6 ┆ … ┆ 9.83151e6 ┆ 9.83151e6 ┆ 9.83151e6 ┆ null     │\n",
       "│ TL.K2     ┆           ┆           ┆           ┆   ┆           ┆           ┆           ┆          │\n",
       "│ NY.GNP.AT ┆ 1.0148e13 ┆ 1.0462e13 ┆ 1.0733e13 ┆ … ┆ 1.8467e13 ┆ 1.9195e13 ┆ 2.0636e13 ┆ null     │\n",
       "│ LS.CD     ┆           ┆           ┆           ┆   ┆           ┆           ┆           ┆          │\n",
       "└───────────┴───────────┴───────────┴───────────┴───┴───────────┴───────────┴───────────┴──────────┘"
      ]
     },
     "execution_count": 11,
     "metadata": {},
     "output_type": "execute_result"
    }
   ],
   "source": [
    "indicadores_euu = indicadores_euu.drop('Country Code')\n",
    "indicadores_jpn = indicadores_jpn.drop('Country Code')\n",
    "indicadores_wld = indicadores_wld.drop('Country Code')\n",
    "indicadores_usa = indicadores_usa.drop('Country Code')\n",
    "\n",
    "indicadores_usa.head(2)"
   ]
  },
  {
   "cell_type": "markdown",
   "metadata": {},
   "source": [
    "Para Facilidad de Graficar de `Power Bi` o cualquier Libreria de Python en que nos apoyemos para Graficar, vamos a Transponer las 4 subtablas, con la finalidad de tener cada indicador en una `columna` "
   ]
  },
  {
   "cell_type": "code",
   "execution_count": 12,
   "metadata": {},
   "outputs": [],
   "source": [
    "indicadores_euu = indicadores_euu.transpose(include_header=True, column_names='Series Code')\n",
    "indicadores_jpn = indicadores_jpn.transpose(include_header=True, column_names='Series Code')\n",
    "indicadores_wld = indicadores_wld.transpose(include_header=True, column_names='Series Code')\n",
    "indicadores_usa = indicadores_usa.transpose(include_header=True, column_names='Series Code')"
   ]
  },
  {
   "cell_type": "code",
   "execution_count": null,
   "metadata": {},
   "outputs": [],
   "source": [
    "indicadores_usa.head()"
   ]
  },
  {
   "cell_type": "markdown",
   "metadata": {},
   "source": [
    "Crearemos una Columna llamada `Año` que vaya desde el 2000 hasta el 2019 y Luego eliminaremos la columna `column`"
   ]
  },
  {
   "cell_type": "code",
   "execution_count": 13,
   "metadata": {},
   "outputs": [],
   "source": [
    "indicadores_euu = indicadores_euu.with_row_index(name='Año', offset=2000)\n",
    "indicadores_jpn = indicadores_jpn.with_row_index(name='Año', offset=2000)\n",
    "indicadores_wld = indicadores_wld.with_row_index(name='Año', offset=2000)\n",
    "indicadores_usa = indicadores_usa.with_row_index(name='Año', offset=2000)\n",
    "\n",
    "indicadores_euu = indicadores_euu.drop('column')\n",
    "indicadores_jpn = indicadores_jpn.drop('column')\n",
    "indicadores_wld = indicadores_wld.drop('column')\n",
    "indicadores_usa = indicadores_usa.drop('column')"
   ]
  },
  {
   "cell_type": "code",
   "execution_count": null,
   "metadata": {},
   "outputs": [],
   "source": [
    "indicadores_euu.head()"
   ]
  },
  {
   "cell_type": "code",
   "execution_count": null,
   "metadata": {},
   "outputs": [],
   "source": [
    "indicadores_jpn.head()"
   ]
  },
  {
   "cell_type": "code",
   "execution_count": null,
   "metadata": {},
   "outputs": [],
   "source": [
    "indicadores_wld.head()"
   ]
  },
  {
   "cell_type": "code",
   "execution_count": null,
   "metadata": {},
   "outputs": [],
   "source": [
    "indicadores_usa.head()"
   ]
  },
  {
   "cell_type": "markdown",
   "metadata": {},
   "source": [
    "Procedemos a Guardar las tablas en csv"
   ]
  },
  {
   "cell_type": "code",
   "execution_count": null,
   "metadata": {},
   "outputs": [],
   "source": [
    "df.write_csv('data/01_indicadores_des_humano.csv')\n",
    "countries.write_csv('data/01_countries.csv')\n",
    "series.write_csv('data/01_series.csv')\n",
    "indicadores_euu.write_csv('data/01_indicadores_europa_all_columnas.csv')\n",
    "indicadores_jpn.write_csv('data/01_indicadores_japon_all_columnas.csv')\n",
    "indicadores_usa.write_csv('data/01_indicadores_usa_all_columnas.csv')\n",
    "indicadores_wld.write_csv('data/01_indicadores_mundo_all_columnas.csv')"
   ]
  },
  {
   "cell_type": "markdown",
   "metadata": {},
   "source": [
    "Seleccionando los campos que seran Objeto de Estudio\n",
    "- `EG.USE.ELEC.KH.PC`\n",
    "    - Consumo de energía eléctrica (kWh per cápita)\n",
    "- `NY.GNP.PCAP.CD`\n",
    "    - INB per cápita, método Atlas (US$ a precios actuales)\n",
    "- `IT.CEL.SETS.P2`\n",
    "    - Suscripciones a telefonía celular móvil (por cada 100 personas)\n",
    "- `BX.KLT.DINV.CD.WD`\n",
    "    - Inversión extranjera directa, entrada neta de capital (balanza de pagos, US$ a precios actuales)\n",
    "- `SL.UEM.TOTL.ZS`\n",
    "    - Desempleo, total (% de la población activa total) (estimación modelado OIT)\n",
    "- `SL.TLF.TOTL.IN`\n",
    "    - Población activa, total\n",
    "- `SP.POP.65UP.MA.IN`\n",
    "    - Población de 65 años de edad y más, hombres\n",
    "- `SP.POP.65UP.FE.IN`\n",
    "    - Población de 65 años de edad y más, mujeres\n",
    "- `SP.POP.65UP.TO`\n",
    "    - Población de 65 años de edad y más, total\n",
    "- `SP.POP.0014.MA.IN`\n",
    "    - Población entre 0 y 14 años de edad, hombres\n",
    "- `SP.POP.0014.FE.IN`\n",
    "    - Población entre 0 y 14 años de edad, mujeres\n",
    "- `SP.POP.0014.TO`\n",
    "    - Población entre 0 y 14 años de edad, total\n",
    "- `SP.POP.1564.MA.IN`\n",
    "    - Población entre 15 y 64 años de edad, hombres\n",
    "- `SP.POP.1564.FE.IN`\n",
    "    - Población entre 15 y 64 años de edad, mujeres\n",
    "- `SP.POP.1564.TO`\n",
    "    - Población entre 15 y 64 años de edad, total\n"
   ]
  },
  {
   "cell_type": "code",
   "execution_count": 14,
   "metadata": {},
   "outputs": [],
   "source": [
    "columnas_estudiar = ['Año', 'EG.USE.ELEC.KH.PC', 'NY.GNP.PCAP.CD', 'IT.CEL.SETS.P2',\n",
    "                     'BX.KLT.DINV.CD.WD', 'SL.UEM.TOTL.ZS', 'SL.TLF.TOTL.IN', 'SP.POP.65UP.MA.IN',\n",
    "                     'SP.POP.65UP.FE.IN', 'SP.POP.65UP.TO', 'SP.POP.0014.MA.IN', 'SP.POP.0014.FE.IN',\n",
    "                     'SP.POP.0014.TO', 'SP.POP.1564.MA.IN', 'SP.POP.1564.FE.IN', 'SP.POP.1564.TO']"
   ]
  },
  {
   "cell_type": "code",
   "execution_count": 15,
   "metadata": {},
   "outputs": [],
   "source": [
    "estudiar_euu = indicadores_euu[columnas_estudiar]\n",
    "estudiar_jpn = indicadores_jpn[columnas_estudiar]\n",
    "estudiar_wld = indicadores_wld[columnas_estudiar]\n",
    "estudiar_usa = indicadores_usa[columnas_estudiar]"
   ]
  },
  {
   "cell_type": "markdown",
   "metadata": {},
   "source": [
    "Asignando Nombres de Columnas MAS ENTENDIBLES"
   ]
  },
  {
   "cell_type": "code",
   "execution_count": 16,
   "metadata": {},
   "outputs": [],
   "source": [
    "columns = ['Año', 'Consumo_electrico_PC', 'INB_ATLAS_PC', 'Penetracion_Celular_100',\n",
    "           'Inversion_Extranjera', 'Desempleo', 'Poblacion_Activa', 'Pob_mayor_65_Hombre',\n",
    "           'Pob_mayor_65_Mujer', 'Pob_mayor_65_Total', 'Pob_0_14_Hombre', 'Pob_0_14_Mujer',\n",
    "           'Pob_0_14_Total', 'Pob_15_64_Hombre', 'Pob_15_64_Mujer', 'Pob_15_64_Total']"
   ]
  },
  {
   "cell_type": "code",
   "execution_count": 17,
   "metadata": {},
   "outputs": [],
   "source": [
    "estudiar_euu.columns = columns\n",
    "estudiar_jpn.columns = columns\n",
    "estudiar_usa.columns = columns\n",
    "estudiar_wld.columns = columns"
   ]
  },
  {
   "cell_type": "code",
   "execution_count": null,
   "metadata": {},
   "outputs": [],
   "source": [
    "estudiar_euu.head(1)"
   ]
  },
  {
   "cell_type": "code",
   "execution_count": null,
   "metadata": {},
   "outputs": [],
   "source": [
    "estudiar_jpn.head(1)"
   ]
  },
  {
   "cell_type": "code",
   "execution_count": null,
   "metadata": {},
   "outputs": [],
   "source": [
    "estudiar_usa.head(1)"
   ]
  },
  {
   "cell_type": "code",
   "execution_count": null,
   "metadata": {},
   "outputs": [],
   "source": [
    "estudiar_wld.head(1)"
   ]
  },
  {
   "cell_type": "markdown",
   "metadata": {},
   "source": [
    "Grabamos estas Tablas a csv"
   ]
  },
  {
   "cell_type": "code",
   "execution_count": null,
   "metadata": {},
   "outputs": [],
   "source": [
    "estudiar_euu.write_csv('data/01_indicadores_europa_estudiar.csv')\n",
    "\n",
    "estudiar_jpn.write_csv('data/01_indicadores_japon_estudiar.csv')\n",
    "\n",
    "estudiar_wld.write_csv('data/01_indicadores_mundo_estudiar.csv')\n",
    "\n",
    "estudiar_usa.write_csv('data/01_indicadores_usa_estudiar.csv')"
   ]
  },
  {
   "cell_type": "markdown",
   "metadata": {},
   "source": [
    "Ya tenemos Data procesada para la realizacion de estudios, ya se mios o de cualquier compañero de trabajo... Ahora voy a preparar una tabla para mi Dashboard"
   ]
  },
  {
   "cell_type": "code",
   "execution_count": 18,
   "metadata": {},
   "outputs": [],
   "source": [
    "euu = estudiar_euu.filter(estudiar_euu[\"Año\"] == 2018)\n",
    "usa = estudiar_usa.filter(estudiar_usa[\"Año\"] == 2018)\n",
    "wld = estudiar_wld.filter(estudiar_wld[\"Año\"] == 2018)\n",
    "jpn = estudiar_jpn.filter(estudiar_jpn[\"Año\"] == 2018)"
   ]
  },
  {
   "cell_type": "code",
   "execution_count": 19,
   "metadata": {},
   "outputs": [],
   "source": [
    "data_bank = pl.concat([usa, euu, jpn, wld])"
   ]
  },
  {
   "cell_type": "code",
   "execution_count": null,
   "metadata": {},
   "outputs": [],
   "source": [
    "data_bank"
   ]
  },
  {
   "cell_type": "code",
   "execution_count": 20,
   "metadata": {},
   "outputs": [
    {
     "data": {
      "text/html": [
       "<div><style>\n",
       ".dataframe > thead > tr,\n",
       ".dataframe > tbody > tr {\n",
       "  text-align: right;\n",
       "  white-space: pre-wrap;\n",
       "}\n",
       "</style>\n",
       "<small>shape: (4, 17)</small><table border=\"1\" class=\"dataframe\"><thead><tr><th>Año</th><th>Consumo_electrico_PC</th><th>INB_ATLAS_PC</th><th>Penetracion_Celular_100</th><th>Inversion_Extranjera</th><th>Desempleo</th><th>Poblacion_Activa</th><th>Pob_mayor_65_Hombre</th><th>Pob_mayor_65_Mujer</th><th>Pob_mayor_65_Total</th><th>Pob_0_14_Hombre</th><th>Pob_0_14_Mujer</th><th>Pob_0_14_Total</th><th>Pob_15_64_Hombre</th><th>Pob_15_64_Mujer</th><th>Pob_15_64_Total</th><th>Zona</th></tr><tr><td>u32</td><td>f32</td><td>f32</td><td>f32</td><td>f32</td><td>f32</td><td>f32</td><td>f32</td><td>f32</td><td>f32</td><td>f32</td><td>f32</td><td>f32</td><td>f32</td><td>f32</td><td>f32</td><td>str</td></tr></thead><tbody><tr><td>2018</td><td>null</td><td>63170.0</td><td>129.014008</td><td>2.5839e11</td><td>3.896</td><td>1.65483024e8</td><td>2.3058936e7</td><td>2.858266e7</td><td>5.1641632e7</td><td>3.123942e7</td><td>2.9880716e7</td><td>6.1120096e7</td><td>1.07346576e8</td><td>1.065792e8</td><td>2.13925776e8</td><td>&quot;N_America&quot;</td></tr><tr><td>2018</td><td>null</td><td>34469.539062</td><td>122.737839</td><td>7.1906e10</td><td>7.269402</td><td>2.16488448e8</td><td>3.8556688e7</td><td>5.1530044e7</td><td>9.0085968e7</td><td>3.4775124e7</td><td>3.290391e7</td><td>6.7679352e7</td><td>1.44936896e8</td><td>1.44083632e8</td><td>2.8902096e8</td><td>&quot;Europa&quot;</td></tr><tr><td>2018</td><td>null</td><td>41310.0</td><td>141.406998</td><td>2.4606e10</td><td>2.4</td><td>6.8358368e7</td><td>1.5185127e7</td><td>1.9708026e7</td><td>3.4892132e7</td><td>8.247185e6</td><td>7.817817e6</td><td>1.6065209e7</td><td>3.836544e7</td><td>3.7205508e7</td><td>7.557176e7</td><td>&quot;Japon&quot;</td></tr><tr><td>2018</td><td>null</td><td>11124.503906</td><td>106.434898</td><td>1.3499e12</td><td>5.391889</td><td>3.4275e9</td><td>3.01860608e8</td><td>3.71579616e8</td><td>6.73436928e8</td><td>1.0111e9</td><td>9.46850112e8</td><td>1.9580e9</td><td>2.5136e9</td><td>2.4450e9</td><td>4.9586e9</td><td>&quot;Mundo&quot;</td></tr></tbody></table></div>"
      ],
      "text/plain": [
       "shape: (4, 17)\n",
       "┌──────┬────────────┬────────────┬────────────┬───┬────────────┬───────────┬───────────┬───────────┐\n",
       "│ Año  ┆ Consumo_el ┆ INB_ATLAS_ ┆ Penetracio ┆ … ┆ Pob_15_64_ ┆ Pob_15_64 ┆ Pob_15_64 ┆ Zona      │\n",
       "│ ---  ┆ ectrico_PC ┆ PC         ┆ n_Celular_ ┆   ┆ Hombre     ┆ _Mujer    ┆ _Total    ┆ ---       │\n",
       "│ u32  ┆ ---        ┆ ---        ┆ 100        ┆   ┆ ---        ┆ ---       ┆ ---       ┆ str       │\n",
       "│      ┆ f32        ┆ f32        ┆ ---        ┆   ┆ f32        ┆ f32       ┆ f32       ┆           │\n",
       "│      ┆            ┆            ┆ f32        ┆   ┆            ┆           ┆           ┆           │\n",
       "╞══════╪════════════╪════════════╪════════════╪═══╪════════════╪═══════════╪═══════════╪═══════════╡\n",
       "│ 2018 ┆ null       ┆ 63170.0    ┆ 129.014008 ┆ … ┆ 1.07346576 ┆ 1.065792e ┆ 2.1392577 ┆ N_America │\n",
       "│      ┆            ┆            ┆            ┆   ┆ e8         ┆ 8         ┆ 6e8       ┆           │\n",
       "│ 2018 ┆ null       ┆ 34469.5390 ┆ 122.737839 ┆ … ┆ 1.44936896 ┆ 1.4408363 ┆ 2.8902096 ┆ Europa    │\n",
       "│      ┆            ┆ 62         ┆            ┆   ┆ e8         ┆ 2e8       ┆ e8        ┆           │\n",
       "│ 2018 ┆ null       ┆ 41310.0    ┆ 141.406998 ┆ … ┆ 3.836544e7 ┆ 3.7205508 ┆ 7.557176e ┆ Japon     │\n",
       "│      ┆            ┆            ┆            ┆   ┆            ┆ e7        ┆ 7         ┆           │\n",
       "│ 2018 ┆ null       ┆ 11124.5039 ┆ 106.434898 ┆ … ┆ 2.5136e9   ┆ 2.4450e9  ┆ 4.9586e9  ┆ Mundo     │\n",
       "│      ┆            ┆ 06         ┆            ┆   ┆            ┆           ┆           ┆           │\n",
       "└──────┴────────────┴────────────┴────────────┴───┴────────────┴───────────┴───────────┴───────────┘"
      ]
     },
     "execution_count": 20,
     "metadata": {},
     "output_type": "execute_result"
    }
   ],
   "source": [
    "zonas = ['N_America', 'Europa', 'Japon', 'Mundo']\n",
    "temp = pl.DataFrame(zonas)\n",
    "data_bank = data_bank.with_columns(Zona = pl.lit(temp['column_0']))\n",
    "del temp\n",
    "data_bank"
   ]
  },
  {
   "cell_type": "code",
   "execution_count": 21,
   "metadata": {},
   "outputs": [],
   "source": [
    "# Calculo el Porcentaje de Poblacion Activa\n",
    "data_bank = data_bank.with_columns(\n",
    "    porcentaje_activo = pl.col('Poblacion_Activa') / (pl.col('Pob_mayor_65_Total') + pl.col('Pob_0_14_Total') + pl.col('Pob_15_64_Total'))\n",
    ")"
   ]
  },
  {
   "cell_type": "code",
   "execution_count": 22,
   "metadata": {},
   "outputs": [],
   "source": [
    "data_bank = data_bank.with_columns(\n",
    "    porcentaje_15_64 = pl.col('Pob_15_64_Total') / (pl.col('Pob_mayor_65_Total') + pl.col('Pob_0_14_Total') + pl.col('Pob_15_64_Total'))\n",
    ")"
   ]
  },
  {
   "cell_type": "code",
   "execution_count": 23,
   "metadata": {},
   "outputs": [],
   "source": [
    "data_bank = data_bank.with_columns(\n",
    "    porcentaje_0_14 = pl.col('Pob_0_14_Total') / (pl.col('Pob_mayor_65_Total') + pl.col('Pob_0_14_Total') + pl.col('Pob_15_64_Total'))\n",
    ")"
   ]
  },
  {
   "cell_type": "code",
   "execution_count": 24,
   "metadata": {},
   "outputs": [],
   "source": [
    "data_bank = data_bank.with_columns(\n",
    "    porcentaje_65_mas = pl.col('Pob_mayor_65_Total') / (pl.col('Pob_mayor_65_Total') + pl.col('Pob_0_14_Total') + pl.col('Pob_15_64_Total'))\n",
    ")"
   ]
  },
  {
   "cell_type": "code",
   "execution_count": 25,
   "metadata": {},
   "outputs": [],
   "source": [
    "data_bank = data_bank.with_columns(\n",
    "    Total_Poblacion = pl.col('Pob_mayor_65_Total') + pl.col('Pob_0_14_Total') + pl.col('Pob_15_64_Total')\n",
    ")"
   ]
  },
  {
   "cell_type": "code",
   "execution_count": 26,
   "metadata": {},
   "outputs": [
    {
     "data": {
      "text/html": [
       "<div><style>\n",
       ".dataframe > thead > tr,\n",
       ".dataframe > tbody > tr {\n",
       "  text-align: right;\n",
       "  white-space: pre-wrap;\n",
       "}\n",
       "</style>\n",
       "<small>shape: (4, 10)</small><table border=\"1\" class=\"dataframe\"><thead><tr><th>INB_ATLAS_PC</th><th>Inversion_Extranjera</th><th>Desempleo</th><th>Poblacion_Activa</th><th>Zona</th><th>porcentaje_activo</th><th>porcentaje_15_64</th><th>porcentaje_0_14</th><th>porcentaje_65_mas</th><th>Total_Poblacion</th></tr><tr><td>f32</td><td>f32</td><td>f32</td><td>f32</td><td>str</td><td>f32</td><td>f32</td><td>f32</td><td>f32</td><td>f32</td></tr></thead><tbody><tr><td>63170.0</td><td>2.5839e11</td><td>3.896</td><td>1.65483024e8</td><td>&quot;N_America&quot;</td><td>0.506548</td><td>0.654833</td><td>0.18709</td><td>0.158077</td><td>3.26687488e8</td></tr><tr><td>34469.539062</td><td>7.1906e10</td><td>7.269402</td><td>2.16488448e8</td><td>&quot;Europa&quot;</td><td>0.484546</td><td>0.646889</td><td>0.15148</td><td>0.201631</td><td>4.46786272e8</td></tr><tr><td>41310.0</td><td>2.4606e10</td><td>2.4</td><td>6.8358368e7</td><td>&quot;Japon&quot;</td><td>0.540258</td><td>0.597268</td><td>0.126968</td><td>0.275764</td><td>1.26529104e8</td></tr><tr><td>11124.503906</td><td>1.3499e12</td><td>5.391889</td><td>3.4275e9</td><td>&quot;Mundo&quot;</td><td>0.451577</td><td>0.653304</td><td>0.25797</td><td>0.088727</td><td>7.5900e9</td></tr></tbody></table></div>"
      ],
      "text/plain": [
       "shape: (4, 10)\n",
       "┌───────────┬───────────┬───────────┬───────────┬───┬───────────┬───────────┬───────────┬──────────┐\n",
       "│ INB_ATLAS ┆ Inversion ┆ Desempleo ┆ Poblacion ┆ … ┆ porcentaj ┆ porcentaj ┆ porcentaj ┆ Total_Po │\n",
       "│ _PC       ┆ _Extranje ┆ ---       ┆ _Activa   ┆   ┆ e_15_64   ┆ e_0_14    ┆ e_65_mas  ┆ blacion  │\n",
       "│ ---       ┆ ra        ┆ f32       ┆ ---       ┆   ┆ ---       ┆ ---       ┆ ---       ┆ ---      │\n",
       "│ f32       ┆ ---       ┆           ┆ f32       ┆   ┆ f32       ┆ f32       ┆ f32       ┆ f32      │\n",
       "│           ┆ f32       ┆           ┆           ┆   ┆           ┆           ┆           ┆          │\n",
       "╞═══════════╪═══════════╪═══════════╪═══════════╪═══╪═══════════╪═══════════╪═══════════╪══════════╡\n",
       "│ 63170.0   ┆ 2.5839e11 ┆ 3.896     ┆ 1.6548302 ┆ … ┆ 0.654833  ┆ 0.18709   ┆ 0.158077  ┆ 3.266874 │\n",
       "│           ┆           ┆           ┆ 4e8       ┆   ┆           ┆           ┆           ┆ 88e8     │\n",
       "│ 34469.539 ┆ 7.1906e10 ┆ 7.269402  ┆ 2.1648844 ┆ … ┆ 0.646889  ┆ 0.15148   ┆ 0.201631  ┆ 4.467862 │\n",
       "│ 062       ┆           ┆           ┆ 8e8       ┆   ┆           ┆           ┆           ┆ 72e8     │\n",
       "│ 41310.0   ┆ 2.4606e10 ┆ 2.4       ┆ 6.8358368 ┆ … ┆ 0.597268  ┆ 0.126968  ┆ 0.275764  ┆ 1.265291 │\n",
       "│           ┆           ┆           ┆ e7        ┆   ┆           ┆           ┆           ┆ 04e8     │\n",
       "│ 11124.503 ┆ 1.3499e12 ┆ 5.391889  ┆ 3.4275e9  ┆ … ┆ 0.653304  ┆ 0.25797   ┆ 0.088727  ┆ 7.5900e9 │\n",
       "│ 906       ┆           ┆           ┆           ┆   ┆           ┆           ┆           ┆          │\n",
       "└───────────┴───────────┴───────────┴───────────┴───┴───────────┴───────────┴───────────┴──────────┘"
      ]
     },
     "execution_count": 26,
     "metadata": {},
     "output_type": "execute_result"
    }
   ],
   "source": [
    "data_bank = data_bank.drop('Año').drop('Consumo_electrico_PC').drop('Penetracion_Celular_100')\\\n",
    "                     .drop('Pob_mayor_65_Total').drop('Pob_0_14_Total').drop('Pob_15_64_Total')\\\n",
    "                     .drop('Pob_mayor_65_Hombre').drop('Pob_mayor_65_Mujer').drop('Pob_0_14_Hombre')\\\n",
    "                     .drop('Pob_0_14_Mujer').drop('Pob_15_64_Hombre').drop('Pob_15_64_Mujer')\n",
    "data_bank"
   ]
  },
  {
   "cell_type": "code",
   "execution_count": 27,
   "metadata": {},
   "outputs": [
    {
     "data": {
      "text/html": [
       "<div><style>\n",
       ".dataframe > thead > tr,\n",
       ".dataframe > tbody > tr {\n",
       "  text-align: right;\n",
       "  white-space: pre-wrap;\n",
       "}\n",
       "</style>\n",
       "<small>shape: (4, 10)</small><table border=\"1\" class=\"dataframe\"><thead><tr><th>INB_ATLAS_PC</th><th>Inv_Extranjera</th><th>Desempleados</th><th>Activos</th><th>Zona</th><th>Porcentaje Activo</th><th>Porcentaje 15-64</th><th>Porcentaje 0-14</th><th>Porcentaje 65 o mas</th><th>Total Poblacion</th></tr><tr><td>f32</td><td>f32</td><td>f32</td><td>f32</td><td>str</td><td>f32</td><td>f32</td><td>f32</td><td>f32</td><td>f32</td></tr></thead><tbody><tr><td>63170.0</td><td>2.5839e11</td><td>3.896</td><td>1.65483024e8</td><td>&quot;N_America&quot;</td><td>0.506548</td><td>0.654833</td><td>0.18709</td><td>0.158077</td><td>3.26687488e8</td></tr><tr><td>34469.539062</td><td>7.1906e10</td><td>7.269402</td><td>2.16488448e8</td><td>&quot;Europa&quot;</td><td>0.484546</td><td>0.646889</td><td>0.15148</td><td>0.201631</td><td>4.46786272e8</td></tr><tr><td>41310.0</td><td>2.4606e10</td><td>2.4</td><td>6.8358368e7</td><td>&quot;Japon&quot;</td><td>0.540258</td><td>0.597268</td><td>0.126968</td><td>0.275764</td><td>1.26529104e8</td></tr><tr><td>11124.503906</td><td>1.3499e12</td><td>5.391889</td><td>3.4275e9</td><td>&quot;Mundo&quot;</td><td>0.451577</td><td>0.653304</td><td>0.25797</td><td>0.088727</td><td>7.5900e9</td></tr></tbody></table></div>"
      ],
      "text/plain": [
       "shape: (4, 10)\n",
       "┌───────────┬───────────┬───────────┬───────────┬───┬───────────┬───────────┬───────────┬──────────┐\n",
       "│ INB_ATLAS ┆ Inv_Extra ┆ Desemplea ┆ Activos   ┆ … ┆ Porcentaj ┆ Porcentaj ┆ Porcentaj ┆ Total    │\n",
       "│ _PC       ┆ njera     ┆ dos       ┆ ---       ┆   ┆ e 15-64   ┆ e 0-14    ┆ e 65 o    ┆ Poblacio │\n",
       "│ ---       ┆ ---       ┆ ---       ┆ f32       ┆   ┆ ---       ┆ ---       ┆ mas       ┆ n        │\n",
       "│ f32       ┆ f32       ┆ f32       ┆           ┆   ┆ f32       ┆ f32       ┆ ---       ┆ ---      │\n",
       "│           ┆           ┆           ┆           ┆   ┆           ┆           ┆ f32       ┆ f32      │\n",
       "╞═══════════╪═══════════╪═══════════╪═══════════╪═══╪═══════════╪═══════════╪═══════════╪══════════╡\n",
       "│ 63170.0   ┆ 2.5839e11 ┆ 3.896     ┆ 1.6548302 ┆ … ┆ 0.654833  ┆ 0.18709   ┆ 0.158077  ┆ 3.266874 │\n",
       "│           ┆           ┆           ┆ 4e8       ┆   ┆           ┆           ┆           ┆ 88e8     │\n",
       "│ 34469.539 ┆ 7.1906e10 ┆ 7.269402  ┆ 2.1648844 ┆ … ┆ 0.646889  ┆ 0.15148   ┆ 0.201631  ┆ 4.467862 │\n",
       "│ 062       ┆           ┆           ┆ 8e8       ┆   ┆           ┆           ┆           ┆ 72e8     │\n",
       "│ 41310.0   ┆ 2.4606e10 ┆ 2.4       ┆ 6.8358368 ┆ … ┆ 0.597268  ┆ 0.126968  ┆ 0.275764  ┆ 1.265291 │\n",
       "│           ┆           ┆           ┆ e7        ┆   ┆           ┆           ┆           ┆ 04e8     │\n",
       "│ 11124.503 ┆ 1.3499e12 ┆ 5.391889  ┆ 3.4275e9  ┆ … ┆ 0.653304  ┆ 0.25797   ┆ 0.088727  ┆ 7.5900e9 │\n",
       "│ 906       ┆           ┆           ┆           ┆   ┆           ┆           ┆           ┆          │\n",
       "└───────────┴───────────┴───────────┴───────────┴───┴───────────┴───────────┴───────────┴──────────┘"
      ]
     },
     "execution_count": 27,
     "metadata": {},
     "output_type": "execute_result"
    }
   ],
   "source": [
    "columns = ['INB_ATLAS_PC', 'Inv_Extranjera', 'Desempleados', 'Activos',\t'Zona',\n",
    "           'Porcentaje Activo', 'Porcentaje 15-64', 'Porcentaje 0-14', 'Porcentaje 65 o mas', 'Total Poblacion' ]\n",
    "\n",
    "data_bank.columns = columns\n",
    "\n",
    "data_bank"
   ]
  },
  {
   "cell_type": "markdown",
   "metadata": {},
   "source": [
    "Creando el Hover del Grafico de Burbujas"
   ]
  },
  {
   "cell_type": "code",
   "execution_count": 39,
   "metadata": {},
   "outputs": [],
   "source": [
    "data_hoover = []\n",
    "for i in range(len(data_bank)):\n",
    "    zona = data_bank[i,4]\n",
    "    inversion = round(data_bank[i,1]/data_bank[i,9]*1000)\n",
    "    activo = round(data_bank[i,5],3) * 100\n",
    "    inb_perca = round(data_bank[i,0])\n",
    "    hoover = f'Zona: {zona}, % Pob. Activa {activo}%, Inv. Extranjera por 1000 hab {inversion}'\n",
    "    data_hoover.append(hoover)\n"
   ]
  },
  {
   "cell_type": "code",
   "execution_count": 40,
   "metadata": {},
   "outputs": [
    {
     "data": {
      "text/plain": [
       "['Zona: N_America, % Pob. Activa 50.7%, Inv. Extranjera por 1000 hab 790939',\n",
       " 'Zona: Europa, % Pob. Activa 48.5%, Inv. Extranjera por 1000 hab 160940',\n",
       " 'Zona: Japon, % Pob. Activa 54.0%, Inv. Extranjera por 1000 hab 194468',\n",
       " 'Zona: Mundo, % Pob. Activa 45.2%, Inv. Extranjera por 1000 hab 177859']"
      ]
     },
     "execution_count": 40,
     "metadata": {},
     "output_type": "execute_result"
    }
   ],
   "source": [
    "data_hoover"
   ]
  },
  {
   "cell_type": "code",
   "execution_count": 43,
   "metadata": {},
   "outputs": [],
   "source": [
    "temp = pl.DataFrame(data_hoover)\n",
    "data_bank = data_bank.with_columns(hoover = pl.lit(temp['column_0']))"
   ]
  },
  {
   "cell_type": "code",
   "execution_count": 44,
   "metadata": {},
   "outputs": [
    {
     "data": {
      "text/html": [
       "<div><style>\n",
       ".dataframe > thead > tr,\n",
       ".dataframe > tbody > tr {\n",
       "  text-align: right;\n",
       "  white-space: pre-wrap;\n",
       "}\n",
       "</style>\n",
       "<small>shape: (4, 11)</small><table border=\"1\" class=\"dataframe\"><thead><tr><th>INB_ATLAS_PC</th><th>Inv_Extranjera</th><th>Desempleados</th><th>Activos</th><th>Zona</th><th>Porcentaje Activo</th><th>Porcentaje 15-64</th><th>Porcentaje 0-14</th><th>Porcentaje 65 o mas</th><th>Total Poblacion</th><th>hoover</th></tr><tr><td>f32</td><td>f32</td><td>f32</td><td>f32</td><td>str</td><td>f32</td><td>f32</td><td>f32</td><td>f32</td><td>f32</td><td>str</td></tr></thead><tbody><tr><td>63170.0</td><td>2.5839e11</td><td>3.896</td><td>1.65483024e8</td><td>&quot;N_America&quot;</td><td>0.506548</td><td>0.654833</td><td>0.18709</td><td>0.158077</td><td>3.26687488e8</td><td>&quot;Zona: N_America, % Pob. Activa…</td></tr><tr><td>34469.539062</td><td>7.1906e10</td><td>7.269402</td><td>2.16488448e8</td><td>&quot;Europa&quot;</td><td>0.484546</td><td>0.646889</td><td>0.15148</td><td>0.201631</td><td>4.46786272e8</td><td>&quot;Zona: Europa, % Pob. Activa 48…</td></tr><tr><td>41310.0</td><td>2.4606e10</td><td>2.4</td><td>6.8358368e7</td><td>&quot;Japon&quot;</td><td>0.540258</td><td>0.597268</td><td>0.126968</td><td>0.275764</td><td>1.26529104e8</td><td>&quot;Zona: Japon, % Pob. Activa 54.…</td></tr><tr><td>11124.503906</td><td>1.3499e12</td><td>5.391889</td><td>3.4275e9</td><td>&quot;Mundo&quot;</td><td>0.451577</td><td>0.653304</td><td>0.25797</td><td>0.088727</td><td>7.5900e9</td><td>&quot;Zona: Mundo, % Pob. Activa 45.…</td></tr></tbody></table></div>"
      ],
      "text/plain": [
       "shape: (4, 11)\n",
       "┌───────────┬───────────┬───────────┬───────────┬───┬───────────┬───────────┬───────────┬──────────┐\n",
       "│ INB_ATLAS ┆ Inv_Extra ┆ Desemplea ┆ Activos   ┆ … ┆ Porcentaj ┆ Porcentaj ┆ Total     ┆ hoover   │\n",
       "│ _PC       ┆ njera     ┆ dos       ┆ ---       ┆   ┆ e 0-14    ┆ e 65 o    ┆ Poblacion ┆ ---      │\n",
       "│ ---       ┆ ---       ┆ ---       ┆ f32       ┆   ┆ ---       ┆ mas       ┆ ---       ┆ str      │\n",
       "│ f32       ┆ f32       ┆ f32       ┆           ┆   ┆ f32       ┆ ---       ┆ f32       ┆          │\n",
       "│           ┆           ┆           ┆           ┆   ┆           ┆ f32       ┆           ┆          │\n",
       "╞═══════════╪═══════════╪═══════════╪═══════════╪═══╪═══════════╪═══════════╪═══════════╪══════════╡\n",
       "│ 63170.0   ┆ 2.5839e11 ┆ 3.896     ┆ 1.6548302 ┆ … ┆ 0.18709   ┆ 0.158077  ┆ 3.2668748 ┆ Zona:    │\n",
       "│           ┆           ┆           ┆ 4e8       ┆   ┆           ┆           ┆ 8e8       ┆ N_Americ │\n",
       "│           ┆           ┆           ┆           ┆   ┆           ┆           ┆           ┆ a, %     │\n",
       "│           ┆           ┆           ┆           ┆   ┆           ┆           ┆           ┆ Pob.     │\n",
       "│           ┆           ┆           ┆           ┆   ┆           ┆           ┆           ┆ Activa…  │\n",
       "│ 34469.539 ┆ 7.1906e10 ┆ 7.269402  ┆ 2.1648844 ┆ … ┆ 0.15148   ┆ 0.201631  ┆ 4.4678627 ┆ Zona:    │\n",
       "│ 062       ┆           ┆           ┆ 8e8       ┆   ┆           ┆           ┆ 2e8       ┆ Europa,  │\n",
       "│           ┆           ┆           ┆           ┆   ┆           ┆           ┆           ┆ % Pob.   │\n",
       "│           ┆           ┆           ┆           ┆   ┆           ┆           ┆           ┆ Activa   │\n",
       "│           ┆           ┆           ┆           ┆   ┆           ┆           ┆           ┆ 48…      │\n",
       "│ 41310.0   ┆ 2.4606e10 ┆ 2.4       ┆ 6.8358368 ┆ … ┆ 0.126968  ┆ 0.275764  ┆ 1.2652910 ┆ Zona:    │\n",
       "│           ┆           ┆           ┆ e7        ┆   ┆           ┆           ┆ 4e8       ┆ Japon, % │\n",
       "│           ┆           ┆           ┆           ┆   ┆           ┆           ┆           ┆ Pob.     │\n",
       "│           ┆           ┆           ┆           ┆   ┆           ┆           ┆           ┆ Activa   │\n",
       "│           ┆           ┆           ┆           ┆   ┆           ┆           ┆           ┆ 54.…     │\n",
       "│ 11124.503 ┆ 1.3499e12 ┆ 5.391889  ┆ 3.4275e9  ┆ … ┆ 0.25797   ┆ 0.088727  ┆ 7.5900e9  ┆ Zona:    │\n",
       "│ 906       ┆           ┆           ┆           ┆   ┆           ┆           ┆           ┆ Mundo, % │\n",
       "│           ┆           ┆           ┆           ┆   ┆           ┆           ┆           ┆ Pob.     │\n",
       "│           ┆           ┆           ┆           ┆   ┆           ┆           ┆           ┆ Activa   │\n",
       "│           ┆           ┆           ┆           ┆   ┆           ┆           ┆           ┆ 45.…     │\n",
       "└───────────┴───────────┴───────────┴───────────┴───┴───────────┴───────────┴───────────┴──────────┘"
      ]
     },
     "execution_count": 44,
     "metadata": {},
     "output_type": "execute_result"
    }
   ],
   "source": [
    "data_bank"
   ]
  },
  {
   "cell_type": "code",
   "execution_count": 45,
   "metadata": {},
   "outputs": [],
   "source": [
    "data_bank.write_csv('data/01_data_bank.csv')"
   ]
  }
 ],
 "metadata": {
  "kernelspec": {
   "display_name": "venv_modulo5",
   "language": "python",
   "name": "python3"
  },
  "language_info": {
   "codemirror_mode": {
    "name": "ipython",
    "version": 3
   },
   "file_extension": ".py",
   "mimetype": "text/x-python",
   "name": "python",
   "nbconvert_exporter": "python",
   "pygments_lexer": "ipython3",
   "version": "3.10.11"
  }
 },
 "nbformat": 4,
 "nbformat_minor": 2
}
